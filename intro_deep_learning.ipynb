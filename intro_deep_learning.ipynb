{
  "nbformat": 4,
  "nbformat_minor": 0,
  "metadata": {
    "colab": {
      "name": "Nouvel éditeur de code de Colaboratory",
      "provenance": [],
      "collapsed_sections": [],
      "toc_visible": true,
      "machine_shape": "hm",
      "include_colab_link": true
    },
    "kernelspec": {
      "name": "python3",
      "display_name": "Python 3"
    }
  },
  "cells": [
    {
      "cell_type": "markdown",
      "metadata": {
        "id": "view-in-github",
        "colab_type": "text"
      },
      "source": [
        "<a href=\"https://colab.research.google.com/github/jfvandem/dev_test_days/blob/master/intro_deep_learning.ipynb\" target=\"_parent\"><img src=\"https://colab.research.google.com/assets/colab-badge.svg\" alt=\"Open In Colab\"/></a>"
      ]
    },
    {
      "cell_type": "markdown",
      "metadata": {
        "colab_type": "text",
        "id": "aRDUGd13kUFu"
      },
      "source": [
        "# Dev test days 2019 - Meylan"
      ]
    },
    {
      "cell_type": "markdown",
      "metadata": {
        "id": "T3HnMqO2S3la",
        "colab_type": "text"
      },
      "source": [
        "basé sur https://www.kaggle.com/c/ashrae-energy-prediction/data"
      ]
    },
    {
      "cell_type": "markdown",
      "metadata": {
        "id": "Q0G3f2vuSxfm",
        "colab_type": "text"
      },
      "source": [
        "https://www.tensorflow.org/tutorials/keras/regression\n",
        "https://www.tensorflow.org/tutorials/structured_data/time_series\n",
        "https://www.tensorflow.org/tutorials/structured_data/time_series#part_2_forecast_a_multivariate_time_series\n"
      ]
    },
    {
      "cell_type": "markdown",
      "metadata": {
        "id": "EMPsqVVjKR0E",
        "colab_type": "text"
      },
      "source": [
        "# Clone github"
      ]
    },
    {
      "cell_type": "code",
      "metadata": {
        "id": "dsV093VdJhEs",
        "colab_type": "code",
        "outputId": "47a7791f-6742-43ad-e6e7-02b2fdbf11e0",
        "colab": {
          "base_uri": "https://localhost:8080/",
          "height": 139
        }
      },
      "source": [
        "!rm -rf dev_test_days\n",
        "!git clone https://github.com/jfvandem/dev_test_days"
      ],
      "execution_count": 152,
      "outputs": [
        {
          "output_type": "stream",
          "text": [
            "Cloning into 'dev_test_days'...\n",
            "remote: Enumerating objects: 69, done.\u001b[K\n",
            "remote: Counting objects: 100% (69/69), done.\u001b[K\n",
            "remote: Compressing objects: 100% (69/69), done.\u001b[K\n",
            "remote: Total 151 (delta 37), reused 0 (delta 0), pack-reused 82\n",
            "Receiving objects: 100% (151/151), 131.91 MiB | 45.57 MiB/s, done.\n",
            "Resolving deltas: 100% (77/77), done.\n"
          ],
          "name": "stdout"
        }
      ]
    },
    {
      "cell_type": "code",
      "metadata": {
        "id": "0tVyA1D9D6Y9",
        "colab_type": "code",
        "colab": {}
      },
      "source": [
        "try:\n",
        "  # %tensorflow_version only exists in Colab.\n",
        "  %tensorflow_version 2.x\n",
        "except Exception:\n",
        "  pass"
      ],
      "execution_count": 0,
      "outputs": []
    },
    {
      "cell_type": "markdown",
      "metadata": {
        "id": "9mCuM6Y7KWLf",
        "colab_type": "text"
      },
      "source": [
        "# Import"
      ]
    },
    {
      "cell_type": "code",
      "metadata": {
        "id": "qv9EsJzTVGkc",
        "colab_type": "code",
        "colab": {}
      },
      "source": [
        "import gc\n",
        "import glob\n",
        "import io\n",
        "import itertools\n",
        "import joblib\n",
        "import math\n",
        "import matplotlib.pyplot as plt\n",
        "import missingno as msno\n",
        "import numpy as np\n",
        "import os\n",
        "import pandas as pd\n",
        "import plotly.graph_objects as go\n",
        "import plotly.express as px\n",
        "import re\n",
        "import requests\n",
        "import seaborn as sns\n",
        "import tensorflow as tf\n",
        "import time\n",
        "import warnings\n",
        "import zipfile\n",
        "\n",
        "from datetime import datetime,timedelta\n",
        "from dateutil.relativedelta import relativedelta\n",
        "from math import sqrt\n",
        "from matplotlib.collections import PatchCollection\n",
        "from nltk.tokenize import word_tokenize\n",
        "from os import path\n",
        "\n",
        "from scipy import stats\n",
        "from scipy.stats import skew\n",
        "\n",
        "from sklearn.metrics import mean_squared_error\n",
        "from sklearn.model_selection import KFold, StratifiedKFold\n",
        "from sklearn.preprocessing import LabelEncoder\n",
        "from sklearn import preprocessing\n",
        "\n",
        "from tensorflow import keras\n",
        "from tensorflow import feature_column\n",
        "from tensorflow.keras import layers\n",
        "\n",
        "warnings.filterwarnings(\"ignore\")"
      ],
      "execution_count": 0,
      "outputs": []
    },
    {
      "cell_type": "code",
      "metadata": {
        "id": "mvn7ZufcM7Mh",
        "colab_type": "code",
        "outputId": "dc43d8c6-c006-4499-d67e-75107f96d9aa",
        "colab": {
          "base_uri": "https://localhost:8080/",
          "height": 34
        }
      },
      "source": [
        "print(tf.__version__)"
      ],
      "execution_count": 155,
      "outputs": [
        {
          "output_type": "stream",
          "text": [
            "2.0.0\n"
          ],
          "name": "stdout"
        }
      ]
    },
    {
      "cell_type": "code",
      "metadata": {
        "id": "7gfl8JZ_axDI",
        "colab_type": "code",
        "colab": {}
      },
      "source": [
        "RANDOM_SEED = 42\n",
        "\n",
        "tf.random.set_seed(RANDOM_SEED)"
      ],
      "execution_count": 0,
      "outputs": []
    },
    {
      "cell_type": "code",
      "metadata": {
        "id": "ci9R8kz_A8C-",
        "colab_type": "code",
        "colab": {}
      },
      "source": [
        "from IPython.core.interactiveshell import InteractiveShell\n",
        "InteractiveShell.ast_node_interactivity = \"all\""
      ],
      "execution_count": 0,
      "outputs": []
    },
    {
      "cell_type": "markdown",
      "metadata": {
        "id": "FT-vDmASKZoR",
        "colab_type": "text"
      },
      "source": [
        "# Chargement des données"
      ]
    },
    {
      "cell_type": "code",
      "metadata": {
        "colab_type": "code",
        "outputId": "f884fe09-52ef-4814-93ec-bb4ee24571ce",
        "id": "hHN0nxFA2REE",
        "colab": {
          "base_uri": "https://localhost:8080/",
          "height": 34
        }
      },
      "source": [
        "!ls dev_test_days"
      ],
      "execution_count": 158,
      "outputs": [
        {
          "output_type": "stream",
          "text": [
            "dataset  intro_deep_learning.ipynb  README.md\n"
          ],
          "name": "stdout"
        }
      ]
    },
    {
      "cell_type": "code",
      "metadata": {
        "id": "ok11YSBuNh-V",
        "colab_type": "code",
        "colab": {}
      },
      "source": [
        "data_dir='dev_test_days/dataset/'"
      ],
      "execution_count": 0,
      "outputs": []
    },
    {
      "cell_type": "code",
      "metadata": {
        "id": "Iw627G6zDYOS",
        "colab_type": "code",
        "outputId": "43b8c07d-4b2e-497e-bddf-841e850570e3",
        "colab": {
          "base_uri": "https://localhost:8080/",
          "height": 244
        }
      },
      "source": [
        "df = pd.read_pickle(data_dir+'train_full_df.pkl.zip',compression='zip')\n",
        "df.shape\n",
        "df.head()"
      ],
      "execution_count": 160,
      "outputs": [
        {
          "output_type": "execute_result",
          "data": {
            "text/plain": [
              "(6634879, 23)"
            ]
          },
          "metadata": {
            "tags": []
          },
          "execution_count": 160
        },
        {
          "output_type": "execute_result",
          "data": {
            "text/html": [
              "<div>\n",
              "<style scoped>\n",
              "    .dataframe tbody tr th:only-of-type {\n",
              "        vertical-align: middle;\n",
              "    }\n",
              "\n",
              "    .dataframe tbody tr th {\n",
              "        vertical-align: top;\n",
              "    }\n",
              "\n",
              "    .dataframe thead th {\n",
              "        text-align: right;\n",
              "    }\n",
              "</style>\n",
              "<table border=\"1\" class=\"dataframe\">\n",
              "  <thead>\n",
              "    <tr style=\"text-align: right;\">\n",
              "      <th></th>\n",
              "      <th>building_id</th>\n",
              "      <th>meter</th>\n",
              "      <th>timestamp</th>\n",
              "      <th>meter_reading</th>\n",
              "      <th>site_id</th>\n",
              "      <th>primary_use</th>\n",
              "      <th>square_feet</th>\n",
              "      <th>year_built</th>\n",
              "      <th>floor_count</th>\n",
              "      <th>air_temperature</th>\n",
              "      <th>cloud_coverage</th>\n",
              "      <th>dew_temperature</th>\n",
              "      <th>precip_depth_1_hr</th>\n",
              "      <th>sea_level_pressure</th>\n",
              "      <th>wind_direction</th>\n",
              "      <th>wind_speed</th>\n",
              "      <th>month_datetime</th>\n",
              "      <th>weekofyear_datetime</th>\n",
              "      <th>dayofyear_datetime</th>\n",
              "      <th>hour_datetime</th>\n",
              "      <th>day_week</th>\n",
              "      <th>day_month_datetime</th>\n",
              "      <th>week_month_datetime</th>\n",
              "    </tr>\n",
              "  </thead>\n",
              "  <tbody>\n",
              "    <tr>\n",
              "      <th>0</th>\n",
              "      <td>0</td>\n",
              "      <td>0</td>\n",
              "      <td>2016-01-01</td>\n",
              "      <td>0.0</td>\n",
              "      <td>0</td>\n",
              "      <td>0</td>\n",
              "      <td>7432</td>\n",
              "      <td>2008</td>\n",
              "      <td>-1</td>\n",
              "      <td>25</td>\n",
              "      <td>6</td>\n",
              "      <td>20</td>\n",
              "      <td>-1</td>\n",
              "      <td>1019</td>\n",
              "      <td>0</td>\n",
              "      <td>0.0</td>\n",
              "      <td>1</td>\n",
              "      <td>53</td>\n",
              "      <td>1</td>\n",
              "      <td>0</td>\n",
              "      <td>4</td>\n",
              "      <td>1</td>\n",
              "      <td>1</td>\n",
              "    </tr>\n",
              "    <tr>\n",
              "      <th>2</th>\n",
              "      <td>2</td>\n",
              "      <td>0</td>\n",
              "      <td>2016-01-01</td>\n",
              "      <td>0.0</td>\n",
              "      <td>0</td>\n",
              "      <td>0</td>\n",
              "      <td>5376</td>\n",
              "      <td>1991</td>\n",
              "      <td>-1</td>\n",
              "      <td>25</td>\n",
              "      <td>6</td>\n",
              "      <td>20</td>\n",
              "      <td>-1</td>\n",
              "      <td>1019</td>\n",
              "      <td>0</td>\n",
              "      <td>0.0</td>\n",
              "      <td>1</td>\n",
              "      <td>53</td>\n",
              "      <td>1</td>\n",
              "      <td>0</td>\n",
              "      <td>4</td>\n",
              "      <td>1</td>\n",
              "      <td>1</td>\n",
              "    </tr>\n",
              "    <tr>\n",
              "      <th>6</th>\n",
              "      <td>6</td>\n",
              "      <td>0</td>\n",
              "      <td>2016-01-01</td>\n",
              "      <td>0.0</td>\n",
              "      <td>0</td>\n",
              "      <td>4</td>\n",
              "      <td>27926</td>\n",
              "      <td>1981</td>\n",
              "      <td>-1</td>\n",
              "      <td>25</td>\n",
              "      <td>6</td>\n",
              "      <td>20</td>\n",
              "      <td>-1</td>\n",
              "      <td>1019</td>\n",
              "      <td>0</td>\n",
              "      <td>0.0</td>\n",
              "      <td>1</td>\n",
              "      <td>53</td>\n",
              "      <td>1</td>\n",
              "      <td>0</td>\n",
              "      <td>4</td>\n",
              "      <td>1</td>\n",
              "      <td>1</td>\n",
              "    </tr>\n",
              "    <tr>\n",
              "      <th>7</th>\n",
              "      <td>7</td>\n",
              "      <td>0</td>\n",
              "      <td>2016-01-01</td>\n",
              "      <td>0.0</td>\n",
              "      <td>0</td>\n",
              "      <td>0</td>\n",
              "      <td>121074</td>\n",
              "      <td>1989</td>\n",
              "      <td>-1</td>\n",
              "      <td>25</td>\n",
              "      <td>6</td>\n",
              "      <td>20</td>\n",
              "      <td>-1</td>\n",
              "      <td>1019</td>\n",
              "      <td>0</td>\n",
              "      <td>0.0</td>\n",
              "      <td>1</td>\n",
              "      <td>53</td>\n",
              "      <td>1</td>\n",
              "      <td>0</td>\n",
              "      <td>4</td>\n",
              "      <td>1</td>\n",
              "      <td>1</td>\n",
              "    </tr>\n",
              "    <tr>\n",
              "      <th>9</th>\n",
              "      <td>9</td>\n",
              "      <td>0</td>\n",
              "      <td>2016-01-01</td>\n",
              "      <td>0.0</td>\n",
              "      <td>0</td>\n",
              "      <td>6</td>\n",
              "      <td>27000</td>\n",
              "      <td>2010</td>\n",
              "      <td>-1</td>\n",
              "      <td>25</td>\n",
              "      <td>6</td>\n",
              "      <td>20</td>\n",
              "      <td>-1</td>\n",
              "      <td>1019</td>\n",
              "      <td>0</td>\n",
              "      <td>0.0</td>\n",
              "      <td>1</td>\n",
              "      <td>53</td>\n",
              "      <td>1</td>\n",
              "      <td>0</td>\n",
              "      <td>4</td>\n",
              "      <td>1</td>\n",
              "      <td>1</td>\n",
              "    </tr>\n",
              "  </tbody>\n",
              "</table>\n",
              "</div>"
            ],
            "text/plain": [
              "   building_id  meter  ... day_month_datetime  week_month_datetime\n",
              "0            0      0  ...                  1                    1\n",
              "2            2      0  ...                  1                    1\n",
              "6            6      0  ...                  1                    1\n",
              "7            7      0  ...                  1                    1\n",
              "9            9      0  ...                  1                    1\n",
              "\n",
              "[5 rows x 23 columns]"
            ]
          },
          "metadata": {
            "tags": []
          },
          "execution_count": 160
        }
      ]
    },
    {
      "cell_type": "code",
      "metadata": {
        "id": "fm-UdpHj070Z",
        "colab_type": "code",
        "outputId": "a0cd9fd0-b23e-483b-bca6-9aea746157c6",
        "colab": {
          "base_uri": "https://localhost:8080/",
          "height": 104
        }
      },
      "source": [
        "le=joblib.load(data_dir+'label_encoder.pkl')\n",
        "le.classes_"
      ],
      "execution_count": 161,
      "outputs": [
        {
          "output_type": "execute_result",
          "data": {
            "text/plain": [
              "array(['Education', 'Entertainment/public assembly',\n",
              "       'Food sales and service', 'Healthcare', 'Lodging/residential',\n",
              "       'Manufacturing/industrial', 'Office', 'Other', 'Parking',\n",
              "       'Public services', 'Religious worship', 'Retail', 'Services',\n",
              "       'Technology/science', 'Utility', 'Warehouse/storage'], dtype=object)"
            ]
          },
          "metadata": {
            "tags": []
          },
          "execution_count": 161
        }
      ]
    },
    {
      "cell_type": "code",
      "metadata": {
        "id": "dCGBvYNc2tZg",
        "colab_type": "code",
        "colab": {}
      },
      "source": [
        "df['primary_use_label']=le.inverse_transform(df['primary_use'])"
      ],
      "execution_count": 0,
      "outputs": []
    },
    {
      "cell_type": "code",
      "metadata": {
        "id": "TzOD0cUlGogv",
        "colab_type": "code",
        "outputId": "f6753733-afea-44b0-82e1-bf91e191065f",
        "colab": {
          "base_uri": "https://localhost:8080/",
          "height": 156
        }
      },
      "source": [
        "len(df.columns)\n",
        "df.columns"
      ],
      "execution_count": 163,
      "outputs": [
        {
          "output_type": "execute_result",
          "data": {
            "text/plain": [
              "24"
            ]
          },
          "metadata": {
            "tags": []
          },
          "execution_count": 163
        },
        {
          "output_type": "execute_result",
          "data": {
            "text/plain": [
              "Index(['building_id', 'meter', 'timestamp', 'meter_reading', 'site_id',\n",
              "       'primary_use', 'square_feet', 'year_built', 'floor_count',\n",
              "       'air_temperature', 'cloud_coverage', 'dew_temperature',\n",
              "       'precip_depth_1_hr', 'sea_level_pressure', 'wind_direction',\n",
              "       'wind_speed', 'month_datetime', 'weekofyear_datetime',\n",
              "       'dayofyear_datetime', 'hour_datetime', 'day_week', 'day_month_datetime',\n",
              "       'week_month_datetime', 'primary_use_label'],\n",
              "      dtype='object')"
            ]
          },
          "metadata": {
            "tags": []
          },
          "execution_count": 163
        }
      ]
    },
    {
      "cell_type": "markdown",
      "metadata": {
        "id": "6ieo4E5xAKdh",
        "colab_type": "text"
      },
      "source": [
        "#Echantillonnage\n",
        "Nous sélectionnons les batiments pour que l'apprentissage du modèle soit réalisé dans un temps raisonnable. Nous conservons uniquement les mesures réalisées sur le compteur d'électricité"
      ]
    },
    {
      "cell_type": "code",
      "metadata": {
        "id": "SZeGN0_OIV5u",
        "colab_type": "code",
        "colab": {
          "base_uri": "https://localhost:8080/",
          "height": 312
        },
        "outputId": "dc9f1815-af8a-4cbd-8afe-3e3550915592"
      },
      "source": [
        "df['primary_use_label'].drop_duplicates()"
      ],
      "execution_count": 164,
      "outputs": [
        {
          "output_type": "execute_result",
          "data": {
            "text/plain": [
              "0                           Education\n",
              "6                 Lodging/residential\n",
              "9                              Office\n",
              "42                             Retail\n",
              "49                            Parking\n",
              "144                   Public services\n",
              "170     Entertainment/public assembly\n",
              "178                 Warehouse/storage\n",
              "214            Food sales and service\n",
              "228                 Religious worship\n",
              "278                        Healthcare\n",
              "442                           Utility\n",
              "665                             Other\n",
              "1235                         Services\n",
              "1407               Technology/science\n",
              "2120         Manufacturing/industrial\n",
              "Name: primary_use_label, dtype: object"
            ]
          },
          "metadata": {
            "tags": []
          },
          "execution_count": 164
        }
      ]
    },
    {
      "cell_type": "code",
      "metadata": {
        "id": "-Bo-P3aSIdBs",
        "colab_type": "code",
        "colab": {
          "base_uri": "https://localhost:8080/",
          "height": 34
        },
        "outputId": "13917a4c-4804-4091-d1f5-a84119af2cc2"
      },
      "source": [
        "df.shape\n",
        "df=df[(df['primary_use_label']=='Office')&(df['meter']==0)&(df['meter_reading']!=0)&(~df['primary_use'].isna())]\n",
        "df.shape"
      ],
      "execution_count": 165,
      "outputs": [
        {
          "output_type": "execute_result",
          "data": {
            "text/plain": [
              "(6634879, 24)"
            ]
          },
          "metadata": {
            "tags": []
          },
          "execution_count": 165
        },
        {
          "output_type": "execute_result",
          "data": {
            "text/plain": [
              "(806695, 24)"
            ]
          },
          "metadata": {
            "tags": []
          },
          "execution_count": 165
        }
      ]
    },
    {
      "cell_type": "code",
      "metadata": {
        "id": "leYZx6Vjk-KQ",
        "colab_type": "code",
        "colab": {
          "base_uri": "https://localhost:8080/",
          "height": 226
        },
        "outputId": "6336e912-a2eb-4e14-f534-bb75bc696613"
      },
      "source": [
        "df.head()"
      ],
      "execution_count": 166,
      "outputs": [
        {
          "output_type": "execute_result",
          "data": {
            "text/html": [
              "<div>\n",
              "<style scoped>\n",
              "    .dataframe tbody tr th:only-of-type {\n",
              "        vertical-align: middle;\n",
              "    }\n",
              "\n",
              "    .dataframe tbody tr th {\n",
              "        vertical-align: top;\n",
              "    }\n",
              "\n",
              "    .dataframe thead th {\n",
              "        text-align: right;\n",
              "    }\n",
              "</style>\n",
              "<table border=\"1\" class=\"dataframe\">\n",
              "  <thead>\n",
              "    <tr style=\"text-align: right;\">\n",
              "      <th></th>\n",
              "      <th>building_id</th>\n",
              "      <th>meter</th>\n",
              "      <th>timestamp</th>\n",
              "      <th>meter_reading</th>\n",
              "      <th>site_id</th>\n",
              "      <th>primary_use</th>\n",
              "      <th>square_feet</th>\n",
              "      <th>year_built</th>\n",
              "      <th>floor_count</th>\n",
              "      <th>air_temperature</th>\n",
              "      <th>cloud_coverage</th>\n",
              "      <th>dew_temperature</th>\n",
              "      <th>precip_depth_1_hr</th>\n",
              "      <th>sea_level_pressure</th>\n",
              "      <th>wind_direction</th>\n",
              "      <th>wind_speed</th>\n",
              "      <th>month_datetime</th>\n",
              "      <th>weekofyear_datetime</th>\n",
              "      <th>dayofyear_datetime</th>\n",
              "      <th>hour_datetime</th>\n",
              "      <th>day_week</th>\n",
              "      <th>day_month_datetime</th>\n",
              "      <th>week_month_datetime</th>\n",
              "      <th>primary_use_label</th>\n",
              "    </tr>\n",
              "  </thead>\n",
              "  <tbody>\n",
              "    <tr>\n",
              "      <th>91</th>\n",
              "      <td>93</td>\n",
              "      <td>0</td>\n",
              "      <td>2016-01-01</td>\n",
              "      <td>52.420601</td>\n",
              "      <td>0</td>\n",
              "      <td>6</td>\n",
              "      <td>33370</td>\n",
              "      <td>1982</td>\n",
              "      <td>-1</td>\n",
              "      <td>25</td>\n",
              "      <td>6</td>\n",
              "      <td>20</td>\n",
              "      <td>-1</td>\n",
              "      <td>1019</td>\n",
              "      <td>0</td>\n",
              "      <td>0.0</td>\n",
              "      <td>1</td>\n",
              "      <td>53</td>\n",
              "      <td>1</td>\n",
              "      <td>0</td>\n",
              "      <td>4</td>\n",
              "      <td>1</td>\n",
              "      <td>1</td>\n",
              "      <td>Office</td>\n",
              "    </tr>\n",
              "    <tr>\n",
              "      <th>148</th>\n",
              "      <td>140</td>\n",
              "      <td>0</td>\n",
              "      <td>2016-01-01</td>\n",
              "      <td>8.020400</td>\n",
              "      <td>1</td>\n",
              "      <td>6</td>\n",
              "      <td>50020</td>\n",
              "      <td>-1</td>\n",
              "      <td>11</td>\n",
              "      <td>3</td>\n",
              "      <td>-1</td>\n",
              "      <td>2</td>\n",
              "      <td>-1</td>\n",
              "      <td>1020</td>\n",
              "      <td>11</td>\n",
              "      <td>3.1</td>\n",
              "      <td>1</td>\n",
              "      <td>53</td>\n",
              "      <td>1</td>\n",
              "      <td>0</td>\n",
              "      <td>4</td>\n",
              "      <td>1</td>\n",
              "      <td>1</td>\n",
              "      <td>Office</td>\n",
              "    </tr>\n",
              "    <tr>\n",
              "      <th>149</th>\n",
              "      <td>141</td>\n",
              "      <td>0</td>\n",
              "      <td>2016-01-01</td>\n",
              "      <td>20.648001</td>\n",
              "      <td>1</td>\n",
              "      <td>6</td>\n",
              "      <td>44789</td>\n",
              "      <td>1919</td>\n",
              "      <td>5</td>\n",
              "      <td>3</td>\n",
              "      <td>-1</td>\n",
              "      <td>2</td>\n",
              "      <td>-1</td>\n",
              "      <td>1020</td>\n",
              "      <td>11</td>\n",
              "      <td>3.1</td>\n",
              "      <td>1</td>\n",
              "      <td>53</td>\n",
              "      <td>1</td>\n",
              "      <td>0</td>\n",
              "      <td>4</td>\n",
              "      <td>1</td>\n",
              "      <td>1</td>\n",
              "      <td>Office</td>\n",
              "    </tr>\n",
              "    <tr>\n",
              "      <th>150</th>\n",
              "      <td>142</td>\n",
              "      <td>0</td>\n",
              "      <td>2016-01-01</td>\n",
              "      <td>13.377600</td>\n",
              "      <td>1</td>\n",
              "      <td>6</td>\n",
              "      <td>45348</td>\n",
              "      <td>-1</td>\n",
              "      <td>4</td>\n",
              "      <td>3</td>\n",
              "      <td>-1</td>\n",
              "      <td>2</td>\n",
              "      <td>-1</td>\n",
              "      <td>1020</td>\n",
              "      <td>11</td>\n",
              "      <td>3.1</td>\n",
              "      <td>1</td>\n",
              "      <td>53</td>\n",
              "      <td>1</td>\n",
              "      <td>0</td>\n",
              "      <td>4</td>\n",
              "      <td>1</td>\n",
              "      <td>1</td>\n",
              "      <td>Office</td>\n",
              "    </tr>\n",
              "    <tr>\n",
              "      <th>151</th>\n",
              "      <td>143</td>\n",
              "      <td>0</td>\n",
              "      <td>2016-01-01</td>\n",
              "      <td>15.500000</td>\n",
              "      <td>1</td>\n",
              "      <td>6</td>\n",
              "      <td>40085</td>\n",
              "      <td>-1</td>\n",
              "      <td>4</td>\n",
              "      <td>3</td>\n",
              "      <td>-1</td>\n",
              "      <td>2</td>\n",
              "      <td>-1</td>\n",
              "      <td>1020</td>\n",
              "      <td>11</td>\n",
              "      <td>3.1</td>\n",
              "      <td>1</td>\n",
              "      <td>53</td>\n",
              "      <td>1</td>\n",
              "      <td>0</td>\n",
              "      <td>4</td>\n",
              "      <td>1</td>\n",
              "      <td>1</td>\n",
              "      <td>Office</td>\n",
              "    </tr>\n",
              "  </tbody>\n",
              "</table>\n",
              "</div>"
            ],
            "text/plain": [
              "     building_id  meter  ... week_month_datetime  primary_use_label\n",
              "91            93      0  ...                   1             Office\n",
              "148          140      0  ...                   1             Office\n",
              "149          141      0  ...                   1             Office\n",
              "150          142      0  ...                   1             Office\n",
              "151          143      0  ...                   1             Office\n",
              "\n",
              "[5 rows x 24 columns]"
            ]
          },
          "metadata": {
            "tags": []
          },
          "execution_count": 166
        }
      ]
    },
    {
      "cell_type": "code",
      "metadata": {
        "id": "LeLmMhuyJlCW",
        "colab_type": "code",
        "colab": {
          "base_uri": "https://localhost:8080/",
          "height": 52
        },
        "outputId": "19e9f5ea-5e27-46c9-b73f-87e8c4bd97c2"
      },
      "source": [
        "top5_building_id=df.groupby('building_id')['meter_reading'].count().sort_values(ascending=False).reset_index().head(1)['building_id']\n",
        "top5_building_id"
      ],
      "execution_count": 167,
      "outputs": [
        {
          "output_type": "execute_result",
          "data": {
            "text/plain": [
              "0    142\n",
              "Name: building_id, dtype: uint64"
            ]
          },
          "metadata": {
            "tags": []
          },
          "execution_count": 167
        }
      ]
    },
    {
      "cell_type": "code",
      "metadata": {
        "id": "b1k5Kh3ZKE2v",
        "colab_type": "code",
        "colab": {
          "base_uri": "https://localhost:8080/",
          "height": 34
        },
        "outputId": "000900af-cdbd-4f2c-fb76-4159c0bdf169"
      },
      "source": [
        "df.shape\n",
        "df=df[df['building_id'].isin(top5_building_id)]\n",
        "df.shape"
      ],
      "execution_count": 168,
      "outputs": [
        {
          "output_type": "execute_result",
          "data": {
            "text/plain": [
              "(806695, 24)"
            ]
          },
          "metadata": {
            "tags": []
          },
          "execution_count": 168
        },
        {
          "output_type": "execute_result",
          "data": {
            "text/plain": [
              "(8784, 24)"
            ]
          },
          "metadata": {
            "tags": []
          },
          "execution_count": 168
        }
      ]
    },
    {
      "cell_type": "code",
      "metadata": {
        "id": "7kfLYSMr1v5O",
        "colab_type": "code",
        "colab": {
          "base_uri": "https://localhost:8080/",
          "height": 52
        },
        "outputId": "18cd3698-89d9-4caa-cbac-41604f36fbc4"
      },
      "source": [
        "df['meter'].value_counts()"
      ],
      "execution_count": 169,
      "outputs": [
        {
          "output_type": "execute_result",
          "data": {
            "text/plain": [
              "0    8784\n",
              "Name: meter, dtype: int64"
            ]
          },
          "metadata": {
            "tags": []
          },
          "execution_count": 169
        }
      ]
    },
    {
      "cell_type": "code",
      "metadata": {
        "id": "1UUBnqQzcoRc",
        "colab_type": "code",
        "outputId": "8e00ab33-57da-41fd-9c54-f9aa27c76919",
        "colab": {
          "base_uri": "https://localhost:8080/",
          "height": 52
        }
      },
      "source": [
        "print(df['timestamp'].min())\n",
        "print(df['timestamp'].max())"
      ],
      "execution_count": 170,
      "outputs": [
        {
          "output_type": "stream",
          "text": [
            "2016-01-01 00:00:00\n",
            "2016-12-31 23:00:00\n"
          ],
          "name": "stdout"
        }
      ]
    },
    {
      "cell_type": "code",
      "metadata": {
        "id": "Oam20OY5eMPP",
        "colab_type": "code",
        "outputId": "54d3a158-bdd7-410a-939b-2a65b087d2d4",
        "colab": {
          "base_uri": "https://localhost:8080/",
          "height": 34
        }
      },
      "source": [
        "print('fréquence des mesures : {}'.format(df.groupby('timestamp')['meter_reading'].mean().index.inferred_freq))"
      ],
      "execution_count": 171,
      "outputs": [
        {
          "output_type": "stream",
          "text": [
            "fréquence des mesures : H\n"
          ],
          "name": "stdout"
        }
      ]
    },
    {
      "cell_type": "markdown",
      "metadata": {
        "id": "ZdmrMtfvBmoA",
        "colab_type": "text"
      },
      "source": [
        "# Description des colonnes\n",
        "\n",
        "\n",
        "* air_temperature : température de l'air (degré Celsius)\n",
        "* building_id : foreign key pour les données sur les immeubles (building_metadata)\n",
        "* cloud_coverage : couverture nuageuse (oktas)\n",
        "* dew température : température de rosée (degré Celsius)\n",
        "* floor_count : nombre d'étages dans l'immeuble\n",
        "* meter : code du type de compteur {0: electricity, 1: chilledwater, 2: steam, 3: hotwater}. Tous les immeubles n'ont pas tous les types de compteur\n",
        "* meter_reading : Consommation d'énergie en kWh (avec erreurs de mesure possibles) (la \"**target**\")\n",
        "* precip_depth_1_hr : hauteur de précipitation en 1h (millimètre)\n",
        "* primary_use : indicateur de l'activité des occupants dans l'immeuble selon la définition EnergyStar\n",
        "* sea_level_pressure : pression au niveau de la mer (Millibar/hectopascals)\n",
        "* site_id : foreign key pour les données météo\n",
        "* square_feet : surface au plancher de l'immeuble (pied carré)\n",
        "* timestamp : date à laquelle la mesure a été prise. Le timestamp a été \"éclaté\" en plusieurs champs (heure, jour, année, jour dans la semaine...)\n",
        "* wind_direction : direction du vent (0 à 360 degré)\n",
        "* wind_speed : vitesse du vent (m/s)\n",
        "* year_built : année de construction de l'immeuble\n",
        "\n"
      ]
    },
    {
      "cell_type": "code",
      "metadata": {
        "id": "rYxRbGjGOGs0",
        "colab_type": "code",
        "outputId": "8d7d2875-f59b-451a-a1c7-272901c36639",
        "colab": {
          "base_uri": "https://localhost:8080/",
          "height": 451
        }
      },
      "source": [
        "# Valeurs manquantes (substitution réalisée dans le preprocessing, -1 ou moyenne)\n",
        "df.isna().sum()"
      ],
      "execution_count": 172,
      "outputs": [
        {
          "output_type": "execute_result",
          "data": {
            "text/plain": [
              "building_id            0\n",
              "meter                  0\n",
              "timestamp              0\n",
              "meter_reading          0\n",
              "site_id                0\n",
              "primary_use            0\n",
              "square_feet            0\n",
              "year_built             0\n",
              "floor_count            0\n",
              "air_temperature        0\n",
              "cloud_coverage         0\n",
              "dew_temperature        0\n",
              "precip_depth_1_hr      0\n",
              "sea_level_pressure     0\n",
              "wind_direction         0\n",
              "wind_speed             0\n",
              "month_datetime         0\n",
              "weekofyear_datetime    0\n",
              "dayofyear_datetime     0\n",
              "hour_datetime          0\n",
              "day_week               0\n",
              "day_month_datetime     0\n",
              "week_month_datetime    0\n",
              "primary_use_label      0\n",
              "dtype: int64"
            ]
          },
          "metadata": {
            "tags": []
          },
          "execution_count": 172
        }
      ]
    },
    {
      "cell_type": "markdown",
      "metadata": {
        "id": "4208ewky6EXP",
        "colab_type": "text"
      },
      "source": [
        "#Data Visualisation"
      ]
    },
    {
      "cell_type": "code",
      "metadata": {
        "id": "LAncqfQ22jMs",
        "colab_type": "code",
        "outputId": "404a0d2f-82a6-4676-d6b6-0f2cc83738e6",
        "colab": {
          "base_uri": "https://localhost:8080/",
          "height": 392
        }
      },
      "source": [
        "\n",
        "d=df.set_index('timestamp').groupby(['building_id']).resample('D')['meter_reading'].mean().reset_index()\n",
        "\n",
        "plt.figure(figsize=(10,5))\n",
        "sns.lineplot(x='timestamp',y='meter_reading',data=d,style='building_id',palette='ch:2.5,.25').set_title('consommation d\\'électricité moyenne quotidienne par batiment')\n",
        "\n",
        "plt.xticks(\n",
        "    rotation=45, \n",
        "    horizontalalignment='right',\n",
        "    fontweight='light',\n",
        "    fontsize='x-large'  \n",
        ");\n",
        "\n"
      ],
      "execution_count": 173,
      "outputs": [
        {
          "output_type": "display_data",
          "data": {
            "image/png": "[encoded data removed]",
            "text/plain": [
              "<Figure size 720x360 with 1 Axes>"
            ]
          },
          "metadata": {
            "tags": []
          }
        }
      ]
    },
    {
      "cell_type": "markdown",
      "metadata": {
        "id": "UZC5Ea6UOwqV",
        "colab_type": "text"
      },
      "source": [
        "# Features"
      ]
    },
    {
      "cell_type": "code",
      "metadata": {
        "id": "-yQoahc57hCE",
        "colab_type": "code",
        "colab": {}
      },
      "source": [
        "feature_cols=['primary_use',\n",
        " 'square_feet',\n",
        " 'year_built',\n",
        " 'floor_count',\n",
        " 'air_temperature',\n",
        " 'cloud_coverage',\n",
        " 'dew_temperature',\n",
        " 'precip_depth_1_hr',\n",
        " 'sea_level_pressure',\n",
        " 'wind_direction',\n",
        " 'wind_speed',\n",
        " 'month_datetime',\n",
        " 'weekofyear_datetime',\n",
        " 'dayofyear_datetime',\n",
        " 'hour_datetime',\n",
        " 'day_week',\n",
        " 'day_month_datetime',\n",
        " 'week_month_datetime']\n",
        "target_col='meter_reading'"
      ],
      "execution_count": 0,
      "outputs": []
    },
    {
      "cell_type": "markdown",
      "metadata": {
        "id": "mzHl--SHQl_N",
        "colab_type": "text"
      },
      "source": [
        "#Train / test split"
      ]
    },
    {
      "cell_type": "code",
      "metadata": {
        "id": "fQWEwIvqQq2O",
        "colab_type": "code",
        "colab": {
          "base_uri": "https://localhost:8080/",
          "height": 34
        },
        "outputId": "adb0afc9-9fce-4f2a-c36a-a5c74fd3c0e8"
      },
      "source": [
        "train_df=df[df['timestamp'].dt.month<11]\n",
        "test_df=df[df['timestamp'].dt.month>=11]\n",
        "\n",
        "train_df.shape\n",
        "test_df.shape"
      ],
      "execution_count": 175,
      "outputs": [
        {
          "output_type": "execute_result",
          "data": {
            "text/plain": [
              "(7320, 24)"
            ]
          },
          "metadata": {
            "tags": []
          },
          "execution_count": 175
        },
        {
          "output_type": "execute_result",
          "data": {
            "text/plain": [
              "(1464, 24)"
            ]
          },
          "metadata": {
            "tags": []
          },
          "execution_count": 175
        }
      ]
    },
    {
      "cell_type": "markdown",
      "metadata": {
        "id": "x3bxW-xpVDug",
        "colab_type": "text"
      },
      "source": [
        "#Normalisation des données"
      ]
    },
    {
      "cell_type": "markdown",
      "metadata": {
        "id": "zYEDNZ1sLge4",
        "colab_type": "text"
      },
      "source": [
        "cf. https://jovianlin.io/why-is-normalization-important-in-neural-networks/"
      ]
    },
    {
      "cell_type": "code",
      "metadata": {
        "id": "0bQk01HJ3yen",
        "colab_type": "code",
        "outputId": "af744fb7-c667-4383-ce66-64c61e5fe977",
        "colab": {
          "base_uri": "https://localhost:8080/",
          "height": 614
        }
      },
      "source": [
        "train_stats = train_df[feature_cols].describe()\n",
        "train_stats = train_stats.transpose()\n",
        "train_stats"
      ],
      "execution_count": 176,
      "outputs": [
        {
          "output_type": "execute_result",
          "data": {
            "text/html": [
              "<div>\n",
              "<style scoped>\n",
              "    .dataframe tbody tr th:only-of-type {\n",
              "        vertical-align: middle;\n",
              "    }\n",
              "\n",
              "    .dataframe tbody tr th {\n",
              "        vertical-align: top;\n",
              "    }\n",
              "\n",
              "    .dataframe thead th {\n",
              "        text-align: right;\n",
              "    }\n",
              "</style>\n",
              "<table border=\"1\" class=\"dataframe\">\n",
              "  <thead>\n",
              "    <tr style=\"text-align: right;\">\n",
              "      <th></th>\n",
              "      <th>count</th>\n",
              "      <th>mean</th>\n",
              "      <th>std</th>\n",
              "      <th>min</th>\n",
              "      <th>25%</th>\n",
              "      <th>50%</th>\n",
              "      <th>75%</th>\n",
              "      <th>max</th>\n",
              "    </tr>\n",
              "  </thead>\n",
              "  <tbody>\n",
              "    <tr>\n",
              "      <th>primary_use</th>\n",
              "      <td>7320.0</td>\n",
              "      <td>6.000000</td>\n",
              "      <td>0.000000</td>\n",
              "      <td>6.0</td>\n",
              "      <td>6.00</td>\n",
              "      <td>6.0</td>\n",
              "      <td>6.00</td>\n",
              "      <td>6.0</td>\n",
              "    </tr>\n",
              "    <tr>\n",
              "      <th>square_feet</th>\n",
              "      <td>7320.0</td>\n",
              "      <td>45348.000000</td>\n",
              "      <td>0.000000</td>\n",
              "      <td>45348.0</td>\n",
              "      <td>45348.00</td>\n",
              "      <td>45348.0</td>\n",
              "      <td>45348.00</td>\n",
              "      <td>45348.0</td>\n",
              "    </tr>\n",
              "    <tr>\n",
              "      <th>year_built</th>\n",
              "      <td>7320.0</td>\n",
              "      <td>-1.000000</td>\n",
              "      <td>0.000000</td>\n",
              "      <td>-1.0</td>\n",
              "      <td>-1.00</td>\n",
              "      <td>-1.0</td>\n",
              "      <td>-1.00</td>\n",
              "      <td>-1.0</td>\n",
              "    </tr>\n",
              "    <tr>\n",
              "      <th>floor_count</th>\n",
              "      <td>7320.0</td>\n",
              "      <td>4.000000</td>\n",
              "      <td>0.000000</td>\n",
              "      <td>4.0</td>\n",
              "      <td>4.00</td>\n",
              "      <td>4.0</td>\n",
              "      <td>4.00</td>\n",
              "      <td>4.0</td>\n",
              "    </tr>\n",
              "    <tr>\n",
              "      <th>air_temperature</th>\n",
              "      <td>7320.0</td>\n",
              "      <td>12.204508</td>\n",
              "      <td>6.106077</td>\n",
              "      <td>-3.0</td>\n",
              "      <td>8.00</td>\n",
              "      <td>12.0</td>\n",
              "      <td>17.00</td>\n",
              "      <td>32.0</td>\n",
              "    </tr>\n",
              "    <tr>\n",
              "      <th>cloud_coverage</th>\n",
              "      <td>7320.0</td>\n",
              "      <td>-0.814891</td>\n",
              "      <td>0.433307</td>\n",
              "      <td>-1.0</td>\n",
              "      <td>-1.00</td>\n",
              "      <td>-1.0</td>\n",
              "      <td>-1.00</td>\n",
              "      <td>9.0</td>\n",
              "    </tr>\n",
              "    <tr>\n",
              "      <th>dew_temperature</th>\n",
              "      <td>7320.0</td>\n",
              "      <td>7.816257</td>\n",
              "      <td>5.181286</td>\n",
              "      <td>-8.0</td>\n",
              "      <td>4.00</td>\n",
              "      <td>8.0</td>\n",
              "      <td>12.00</td>\n",
              "      <td>20.0</td>\n",
              "    </tr>\n",
              "    <tr>\n",
              "      <th>precip_depth_1_hr</th>\n",
              "      <td>7320.0</td>\n",
              "      <td>-1.000000</td>\n",
              "      <td>0.000000</td>\n",
              "      <td>-1.0</td>\n",
              "      <td>-1.00</td>\n",
              "      <td>-1.0</td>\n",
              "      <td>-1.00</td>\n",
              "      <td>-1.0</td>\n",
              "    </tr>\n",
              "    <tr>\n",
              "      <th>sea_level_pressure</th>\n",
              "      <td>7320.0</td>\n",
              "      <td>1005.172951</td>\n",
              "      <td>97.234316</td>\n",
              "      <td>-1.0</td>\n",
              "      <td>1009.00</td>\n",
              "      <td>1016.0</td>\n",
              "      <td>1021.00</td>\n",
              "      <td>1036.0</td>\n",
              "    </tr>\n",
              "    <tr>\n",
              "      <th>wind_direction</th>\n",
              "      <td>7320.0</td>\n",
              "      <td>8.106421</td>\n",
              "      <td>4.476901</td>\n",
              "      <td>0.0</td>\n",
              "      <td>4.00</td>\n",
              "      <td>9.0</td>\n",
              "      <td>12.00</td>\n",
              "      <td>15.0</td>\n",
              "    </tr>\n",
              "    <tr>\n",
              "      <th>wind_speed</th>\n",
              "      <td>7320.0</td>\n",
              "      <td>4.090796</td>\n",
              "      <td>2.245922</td>\n",
              "      <td>0.0</td>\n",
              "      <td>2.60</td>\n",
              "      <td>3.6</td>\n",
              "      <td>5.10</td>\n",
              "      <td>18.5</td>\n",
              "    </tr>\n",
              "    <tr>\n",
              "      <th>month_datetime</th>\n",
              "      <td>7320.0</td>\n",
              "      <td>5.514754</td>\n",
              "      <td>2.873581</td>\n",
              "      <td>1.0</td>\n",
              "      <td>3.00</td>\n",
              "      <td>6.0</td>\n",
              "      <td>8.00</td>\n",
              "      <td>10.0</td>\n",
              "    </tr>\n",
              "    <tr>\n",
              "      <th>weekofyear_datetime</th>\n",
              "      <td>7320.0</td>\n",
              "      <td>22.377049</td>\n",
              "      <td>12.763219</td>\n",
              "      <td>1.0</td>\n",
              "      <td>11.00</td>\n",
              "      <td>22.0</td>\n",
              "      <td>33.00</td>\n",
              "      <td>53.0</td>\n",
              "    </tr>\n",
              "    <tr>\n",
              "      <th>dayofyear_datetime</th>\n",
              "      <td>7320.0</td>\n",
              "      <td>153.000000</td>\n",
              "      <td>88.051457</td>\n",
              "      <td>1.0</td>\n",
              "      <td>77.00</td>\n",
              "      <td>153.0</td>\n",
              "      <td>229.00</td>\n",
              "      <td>305.0</td>\n",
              "    </tr>\n",
              "    <tr>\n",
              "      <th>hour_datetime</th>\n",
              "      <td>7320.0</td>\n",
              "      <td>11.500000</td>\n",
              "      <td>6.922659</td>\n",
              "      <td>0.0</td>\n",
              "      <td>5.75</td>\n",
              "      <td>11.5</td>\n",
              "      <td>17.25</td>\n",
              "      <td>23.0</td>\n",
              "    </tr>\n",
              "    <tr>\n",
              "      <th>day_week</th>\n",
              "      <td>7320.0</td>\n",
              "      <td>3.009836</td>\n",
              "      <td>2.005842</td>\n",
              "      <td>0.0</td>\n",
              "      <td>1.00</td>\n",
              "      <td>3.0</td>\n",
              "      <td>5.00</td>\n",
              "      <td>6.0</td>\n",
              "    </tr>\n",
              "    <tr>\n",
              "      <th>day_month_datetime</th>\n",
              "      <td>7320.0</td>\n",
              "      <td>15.757377</td>\n",
              "      <td>8.813046</td>\n",
              "      <td>1.0</td>\n",
              "      <td>8.00</td>\n",
              "      <td>16.0</td>\n",
              "      <td>23.00</td>\n",
              "      <td>31.0</td>\n",
              "    </tr>\n",
              "    <tr>\n",
              "      <th>week_month_datetime</th>\n",
              "      <td>7320.0</td>\n",
              "      <td>2.704918</td>\n",
              "      <td>1.272032</td>\n",
              "      <td>1.0</td>\n",
              "      <td>2.00</td>\n",
              "      <td>3.0</td>\n",
              "      <td>4.00</td>\n",
              "      <td>5.0</td>\n",
              "    </tr>\n",
              "  </tbody>\n",
              "</table>\n",
              "</div>"
            ],
            "text/plain": [
              "                      count          mean  ...       75%      max\n",
              "primary_use          7320.0      6.000000  ...      6.00      6.0\n",
              "square_feet          7320.0  45348.000000  ...  45348.00  45348.0\n",
              "year_built           7320.0     -1.000000  ...     -1.00     -1.0\n",
              "floor_count          7320.0      4.000000  ...      4.00      4.0\n",
              "air_temperature      7320.0     12.204508  ...     17.00     32.0\n",
              "cloud_coverage       7320.0     -0.814891  ...     -1.00      9.0\n",
              "dew_temperature      7320.0      7.816257  ...     12.00     20.0\n",
              "precip_depth_1_hr    7320.0     -1.000000  ...     -1.00     -1.0\n",
              "sea_level_pressure   7320.0   1005.172951  ...   1021.00   1036.0\n",
              "wind_direction       7320.0      8.106421  ...     12.00     15.0\n",
              "wind_speed           7320.0      4.090796  ...      5.10     18.5\n",
              "month_datetime       7320.0      5.514754  ...      8.00     10.0\n",
              "weekofyear_datetime  7320.0     22.377049  ...     33.00     53.0\n",
              "dayofyear_datetime   7320.0    153.000000  ...    229.00    305.0\n",
              "hour_datetime        7320.0     11.500000  ...     17.25     23.0\n",
              "day_week             7320.0      3.009836  ...      5.00      6.0\n",
              "day_month_datetime   7320.0     15.757377  ...     23.00     31.0\n",
              "week_month_datetime  7320.0      2.704918  ...      4.00      5.0\n",
              "\n",
              "[18 rows x 8 columns]"
            ]
          },
          "metadata": {
            "tags": []
          },
          "execution_count": 176
        }
      ]
    },
    {
      "cell_type": "code",
      "metadata": {
        "id": "-QwPy-uoRYuD",
        "colab_type": "code",
        "colab": {}
      },
      "source": [
        "\n",
        "X_train=train_df[feature_cols]\n",
        "y_train=np.array(train_df[target_col])\n",
        "\n",
        "X_test=test_df[feature_cols]\n",
        "y_test=np.array(test_df[target_col])\n",
        "\n",
        "normalizer=preprocessing.Normalizer()\n",
        "\n",
        "X_train_norm=normalizer.fit_transform(X_train)\n",
        "X_test_norm=normalizer.transform(X_test)\n"
      ],
      "execution_count": 0,
      "outputs": []
    },
    {
      "cell_type": "code",
      "metadata": {
        "id": "ijfpnZkPmtEn",
        "colab_type": "code",
        "colab": {
          "base_uri": "https://localhost:8080/",
          "height": 226
        },
        "outputId": "5a71c23c-ad3a-4c5d-b019-a56579faf31a"
      },
      "source": [
        "X_train.head()"
      ],
      "execution_count": 178,
      "outputs": [
        {
          "output_type": "execute_result",
          "data": {
            "text/html": [
              "<div>\n",
              "<style scoped>\n",
              "    .dataframe tbody tr th:only-of-type {\n",
              "        vertical-align: middle;\n",
              "    }\n",
              "\n",
              "    .dataframe tbody tr th {\n",
              "        vertical-align: top;\n",
              "    }\n",
              "\n",
              "    .dataframe thead th {\n",
              "        text-align: right;\n",
              "    }\n",
              "</style>\n",
              "<table border=\"1\" class=\"dataframe\">\n",
              "  <thead>\n",
              "    <tr style=\"text-align: right;\">\n",
              "      <th></th>\n",
              "      <th>primary_use</th>\n",
              "      <th>square_feet</th>\n",
              "      <th>year_built</th>\n",
              "      <th>floor_count</th>\n",
              "      <th>air_temperature</th>\n",
              "      <th>cloud_coverage</th>\n",
              "      <th>dew_temperature</th>\n",
              "      <th>precip_depth_1_hr</th>\n",
              "      <th>sea_level_pressure</th>\n",
              "      <th>wind_direction</th>\n",
              "      <th>wind_speed</th>\n",
              "      <th>month_datetime</th>\n",
              "      <th>weekofyear_datetime</th>\n",
              "      <th>dayofyear_datetime</th>\n",
              "      <th>hour_datetime</th>\n",
              "      <th>day_week</th>\n",
              "      <th>day_month_datetime</th>\n",
              "      <th>week_month_datetime</th>\n",
              "    </tr>\n",
              "  </thead>\n",
              "  <tbody>\n",
              "    <tr>\n",
              "      <th>150</th>\n",
              "      <td>6</td>\n",
              "      <td>45348</td>\n",
              "      <td>-1</td>\n",
              "      <td>4</td>\n",
              "      <td>3</td>\n",
              "      <td>-1</td>\n",
              "      <td>2</td>\n",
              "      <td>-1</td>\n",
              "      <td>1020</td>\n",
              "      <td>11</td>\n",
              "      <td>3.1</td>\n",
              "      <td>1</td>\n",
              "      <td>53</td>\n",
              "      <td>1</td>\n",
              "      <td>0</td>\n",
              "      <td>4</td>\n",
              "      <td>1</td>\n",
              "      <td>1</td>\n",
              "    </tr>\n",
              "    <tr>\n",
              "      <th>2451</th>\n",
              "      <td>6</td>\n",
              "      <td>45348</td>\n",
              "      <td>-1</td>\n",
              "      <td>4</td>\n",
              "      <td>3</td>\n",
              "      <td>0</td>\n",
              "      <td>2</td>\n",
              "      <td>-1</td>\n",
              "      <td>1021</td>\n",
              "      <td>10</td>\n",
              "      <td>2.6</td>\n",
              "      <td>1</td>\n",
              "      <td>53</td>\n",
              "      <td>1</td>\n",
              "      <td>1</td>\n",
              "      <td>4</td>\n",
              "      <td>1</td>\n",
              "      <td>1</td>\n",
              "    </tr>\n",
              "    <tr>\n",
              "      <th>4744</th>\n",
              "      <td>6</td>\n",
              "      <td>45348</td>\n",
              "      <td>-1</td>\n",
              "      <td>4</td>\n",
              "      <td>2</td>\n",
              "      <td>0</td>\n",
              "      <td>1</td>\n",
              "      <td>-1</td>\n",
              "      <td>1021</td>\n",
              "      <td>0</td>\n",
              "      <td>0.0</td>\n",
              "      <td>1</td>\n",
              "      <td>53</td>\n",
              "      <td>1</td>\n",
              "      <td>2</td>\n",
              "      <td>4</td>\n",
              "      <td>1</td>\n",
              "      <td>1</td>\n",
              "    </tr>\n",
              "    <tr>\n",
              "      <th>7043</th>\n",
              "      <td>6</td>\n",
              "      <td>45348</td>\n",
              "      <td>-1</td>\n",
              "      <td>4</td>\n",
              "      <td>2</td>\n",
              "      <td>0</td>\n",
              "      <td>1</td>\n",
              "      <td>-1</td>\n",
              "      <td>1022</td>\n",
              "      <td>8</td>\n",
              "      <td>1.5</td>\n",
              "      <td>1</td>\n",
              "      <td>53</td>\n",
              "      <td>1</td>\n",
              "      <td>3</td>\n",
              "      <td>4</td>\n",
              "      <td>1</td>\n",
              "      <td>1</td>\n",
              "    </tr>\n",
              "    <tr>\n",
              "      <th>9339</th>\n",
              "      <td>6</td>\n",
              "      <td>45348</td>\n",
              "      <td>-1</td>\n",
              "      <td>4</td>\n",
              "      <td>2</td>\n",
              "      <td>0</td>\n",
              "      <td>1</td>\n",
              "      <td>-1</td>\n",
              "      <td>1022</td>\n",
              "      <td>5</td>\n",
              "      <td>1.5</td>\n",
              "      <td>1</td>\n",
              "      <td>53</td>\n",
              "      <td>1</td>\n",
              "      <td>4</td>\n",
              "      <td>4</td>\n",
              "      <td>1</td>\n",
              "      <td>1</td>\n",
              "    </tr>\n",
              "  </tbody>\n",
              "</table>\n",
              "</div>"
            ],
            "text/plain": [
              "      primary_use  square_feet  ...  day_month_datetime  week_month_datetime\n",
              "150             6        45348  ...                   1                    1\n",
              "2451            6        45348  ...                   1                    1\n",
              "4744            6        45348  ...                   1                    1\n",
              "7043            6        45348  ...                   1                    1\n",
              "9339            6        45348  ...                   1                    1\n",
              "\n",
              "[5 rows x 18 columns]"
            ]
          },
          "metadata": {
            "tags": []
          },
          "execution_count": 178
        }
      ]
    },
    {
      "cell_type": "code",
      "metadata": {
        "id": "gUfto6iNjz_B",
        "colab_type": "code",
        "colab": {
          "base_uri": "https://localhost:8080/",
          "height": 226
        },
        "outputId": "9f836657-266b-4283-81aa-45b458bd79cc"
      },
      "source": [
        "pd.DataFrame(X_train_norm).head()"
      ],
      "execution_count": 179,
      "outputs": [
        {
          "output_type": "execute_result",
          "data": {
            "text/html": [
              "<div>\n",
              "<style scoped>\n",
              "    .dataframe tbody tr th:only-of-type {\n",
              "        vertical-align: middle;\n",
              "    }\n",
              "\n",
              "    .dataframe tbody tr th {\n",
              "        vertical-align: top;\n",
              "    }\n",
              "\n",
              "    .dataframe thead th {\n",
              "        text-align: right;\n",
              "    }\n",
              "</style>\n",
              "<table border=\"1\" class=\"dataframe\">\n",
              "  <thead>\n",
              "    <tr style=\"text-align: right;\">\n",
              "      <th></th>\n",
              "      <th>0</th>\n",
              "      <th>1</th>\n",
              "      <th>2</th>\n",
              "      <th>3</th>\n",
              "      <th>4</th>\n",
              "      <th>5</th>\n",
              "      <th>6</th>\n",
              "      <th>7</th>\n",
              "      <th>8</th>\n",
              "      <th>9</th>\n",
              "      <th>10</th>\n",
              "      <th>11</th>\n",
              "      <th>12</th>\n",
              "      <th>13</th>\n",
              "      <th>14</th>\n",
              "      <th>15</th>\n",
              "      <th>16</th>\n",
              "      <th>17</th>\n",
              "    </tr>\n",
              "  </thead>\n",
              "  <tbody>\n",
              "    <tr>\n",
              "      <th>0</th>\n",
              "      <td>0.000132</td>\n",
              "      <td>0.999746</td>\n",
              "      <td>-0.000022</td>\n",
              "      <td>0.000088</td>\n",
              "      <td>0.000066</td>\n",
              "      <td>-0.000022</td>\n",
              "      <td>0.000044</td>\n",
              "      <td>-0.000022</td>\n",
              "      <td>0.022487</td>\n",
              "      <td>0.000243</td>\n",
              "      <td>0.000068</td>\n",
              "      <td>0.000022</td>\n",
              "      <td>0.001168</td>\n",
              "      <td>0.000022</td>\n",
              "      <td>0.000000</td>\n",
              "      <td>0.000088</td>\n",
              "      <td>0.000022</td>\n",
              "      <td>0.000022</td>\n",
              "    </tr>\n",
              "    <tr>\n",
              "      <th>1</th>\n",
              "      <td>0.000132</td>\n",
              "      <td>0.999746</td>\n",
              "      <td>-0.000022</td>\n",
              "      <td>0.000088</td>\n",
              "      <td>0.000066</td>\n",
              "      <td>0.000000</td>\n",
              "      <td>0.000044</td>\n",
              "      <td>-0.000022</td>\n",
              "      <td>0.022509</td>\n",
              "      <td>0.000220</td>\n",
              "      <td>0.000057</td>\n",
              "      <td>0.000022</td>\n",
              "      <td>0.001168</td>\n",
              "      <td>0.000022</td>\n",
              "      <td>0.000022</td>\n",
              "      <td>0.000088</td>\n",
              "      <td>0.000022</td>\n",
              "      <td>0.000022</td>\n",
              "    </tr>\n",
              "    <tr>\n",
              "      <th>2</th>\n",
              "      <td>0.000132</td>\n",
              "      <td>0.999746</td>\n",
              "      <td>-0.000022</td>\n",
              "      <td>0.000088</td>\n",
              "      <td>0.000044</td>\n",
              "      <td>0.000000</td>\n",
              "      <td>0.000022</td>\n",
              "      <td>-0.000022</td>\n",
              "      <td>0.022509</td>\n",
              "      <td>0.000000</td>\n",
              "      <td>0.000000</td>\n",
              "      <td>0.000022</td>\n",
              "      <td>0.001168</td>\n",
              "      <td>0.000022</td>\n",
              "      <td>0.000044</td>\n",
              "      <td>0.000088</td>\n",
              "      <td>0.000022</td>\n",
              "      <td>0.000022</td>\n",
              "    </tr>\n",
              "    <tr>\n",
              "      <th>3</th>\n",
              "      <td>0.000132</td>\n",
              "      <td>0.999745</td>\n",
              "      <td>-0.000022</td>\n",
              "      <td>0.000088</td>\n",
              "      <td>0.000044</td>\n",
              "      <td>0.000000</td>\n",
              "      <td>0.000022</td>\n",
              "      <td>-0.000022</td>\n",
              "      <td>0.022531</td>\n",
              "      <td>0.000176</td>\n",
              "      <td>0.000033</td>\n",
              "      <td>0.000022</td>\n",
              "      <td>0.001168</td>\n",
              "      <td>0.000022</td>\n",
              "      <td>0.000066</td>\n",
              "      <td>0.000088</td>\n",
              "      <td>0.000022</td>\n",
              "      <td>0.000022</td>\n",
              "    </tr>\n",
              "    <tr>\n",
              "      <th>4</th>\n",
              "      <td>0.000132</td>\n",
              "      <td>0.999745</td>\n",
              "      <td>-0.000022</td>\n",
              "      <td>0.000088</td>\n",
              "      <td>0.000044</td>\n",
              "      <td>0.000000</td>\n",
              "      <td>0.000022</td>\n",
              "      <td>-0.000022</td>\n",
              "      <td>0.022531</td>\n",
              "      <td>0.000110</td>\n",
              "      <td>0.000033</td>\n",
              "      <td>0.000022</td>\n",
              "      <td>0.001168</td>\n",
              "      <td>0.000022</td>\n",
              "      <td>0.000088</td>\n",
              "      <td>0.000088</td>\n",
              "      <td>0.000022</td>\n",
              "      <td>0.000022</td>\n",
              "    </tr>\n",
              "  </tbody>\n",
              "</table>\n",
              "</div>"
            ],
            "text/plain": [
              "         0         1         2   ...        15        16        17\n",
              "0  0.000132  0.999746 -0.000022  ...  0.000088  0.000022  0.000022\n",
              "1  0.000132  0.999746 -0.000022  ...  0.000088  0.000022  0.000022\n",
              "2  0.000132  0.999746 -0.000022  ...  0.000088  0.000022  0.000022\n",
              "3  0.000132  0.999745 -0.000022  ...  0.000088  0.000022  0.000022\n",
              "4  0.000132  0.999745 -0.000022  ...  0.000088  0.000022  0.000022\n",
              "\n",
              "[5 rows x 18 columns]"
            ]
          },
          "metadata": {
            "tags": []
          },
          "execution_count": 179
        }
      ]
    },
    {
      "cell_type": "code",
      "metadata": {
        "id": "nrScHH-X-A2v",
        "colab_type": "code",
        "colab": {
          "base_uri": "https://localhost:8080/",
          "height": 614
        },
        "outputId": "40c4f7f0-af08-4a39-b354-636bf67cbb7b"
      },
      "source": [
        "pd.DataFrame(X_train_norm).describe().transpose()"
      ],
      "execution_count": 180,
      "outputs": [
        {
          "output_type": "execute_result",
          "data": {
            "text/html": [
              "<div>\n",
              "<style scoped>\n",
              "    .dataframe tbody tr th:only-of-type {\n",
              "        vertical-align: middle;\n",
              "    }\n",
              "\n",
              "    .dataframe tbody tr th {\n",
              "        vertical-align: top;\n",
              "    }\n",
              "\n",
              "    .dataframe thead th {\n",
              "        text-align: right;\n",
              "    }\n",
              "</style>\n",
              "<table border=\"1\" class=\"dataframe\">\n",
              "  <thead>\n",
              "    <tr style=\"text-align: right;\">\n",
              "      <th></th>\n",
              "      <th>count</th>\n",
              "      <th>mean</th>\n",
              "      <th>std</th>\n",
              "      <th>min</th>\n",
              "      <th>25%</th>\n",
              "      <th>50%</th>\n",
              "      <th>75%</th>\n",
              "      <th>max</th>\n",
              "    </tr>\n",
              "  </thead>\n",
              "  <tbody>\n",
              "    <tr>\n",
              "      <th>0</th>\n",
              "      <td>7320.0</td>\n",
              "      <td>0.000132</td>\n",
              "      <td>3.407499e-09</td>\n",
              "      <td>0.000132</td>\n",
              "      <td>0.000132</td>\n",
              "      <td>0.000132</td>\n",
              "      <td>0.000132</td>\n",
              "      <td>0.000132</td>\n",
              "    </tr>\n",
              "    <tr>\n",
              "      <th>1</th>\n",
              "      <td>7320.0</td>\n",
              "      <td>0.999744</td>\n",
              "      <td>2.575388e-05</td>\n",
              "      <td>0.999716</td>\n",
              "      <td>0.999735</td>\n",
              "      <td>0.999742</td>\n",
              "      <td>0.999749</td>\n",
              "      <td>1.000000</td>\n",
              "    </tr>\n",
              "    <tr>\n",
              "      <th>2</th>\n",
              "      <td>7320.0</td>\n",
              "      <td>-0.000022</td>\n",
              "      <td>5.679165e-10</td>\n",
              "      <td>-0.000022</td>\n",
              "      <td>-0.000022</td>\n",
              "      <td>-0.000022</td>\n",
              "      <td>-0.000022</td>\n",
              "      <td>-0.000022</td>\n",
              "    </tr>\n",
              "    <tr>\n",
              "      <th>3</th>\n",
              "      <td>7320.0</td>\n",
              "      <td>0.000088</td>\n",
              "      <td>2.271666e-09</td>\n",
              "      <td>0.000088</td>\n",
              "      <td>0.000088</td>\n",
              "      <td>0.000088</td>\n",
              "      <td>0.000088</td>\n",
              "      <td>0.000088</td>\n",
              "    </tr>\n",
              "    <tr>\n",
              "      <th>4</th>\n",
              "      <td>7320.0</td>\n",
              "      <td>0.000269</td>\n",
              "      <td>1.346139e-04</td>\n",
              "      <td>-0.000066</td>\n",
              "      <td>0.000176</td>\n",
              "      <td>0.000265</td>\n",
              "      <td>0.000375</td>\n",
              "      <td>0.000705</td>\n",
              "    </tr>\n",
              "    <tr>\n",
              "      <th>5</th>\n",
              "      <td>7320.0</td>\n",
              "      <td>-0.000018</td>\n",
              "      <td>9.552659e-06</td>\n",
              "      <td>-0.000022</td>\n",
              "      <td>-0.000022</td>\n",
              "      <td>-0.000022</td>\n",
              "      <td>-0.000022</td>\n",
              "      <td>0.000198</td>\n",
              "    </tr>\n",
              "    <tr>\n",
              "      <th>6</th>\n",
              "      <td>7320.0</td>\n",
              "      <td>0.000172</td>\n",
              "      <td>1.142263e-04</td>\n",
              "      <td>-0.000176</td>\n",
              "      <td>0.000088</td>\n",
              "      <td>0.000176</td>\n",
              "      <td>0.000265</td>\n",
              "      <td>0.000441</td>\n",
              "    </tr>\n",
              "    <tr>\n",
              "      <th>7</th>\n",
              "      <td>7320.0</td>\n",
              "      <td>-0.000022</td>\n",
              "      <td>5.679165e-10</td>\n",
              "      <td>-0.000022</td>\n",
              "      <td>-0.000022</td>\n",
              "      <td>-0.000022</td>\n",
              "      <td>-0.000022</td>\n",
              "      <td>-0.000022</td>\n",
              "    </tr>\n",
              "    <tr>\n",
              "      <th>8</th>\n",
              "      <td>7320.0</td>\n",
              "      <td>0.022160</td>\n",
              "      <td>2.143611e-03</td>\n",
              "      <td>-0.000022</td>\n",
              "      <td>0.022244</td>\n",
              "      <td>0.022399</td>\n",
              "      <td>0.022509</td>\n",
              "      <td>0.022840</td>\n",
              "    </tr>\n",
              "    <tr>\n",
              "      <th>9</th>\n",
              "      <td>7320.0</td>\n",
              "      <td>0.000179</td>\n",
              "      <td>9.869780e-05</td>\n",
              "      <td>0.000000</td>\n",
              "      <td>0.000088</td>\n",
              "      <td>0.000198</td>\n",
              "      <td>0.000265</td>\n",
              "      <td>0.000331</td>\n",
              "    </tr>\n",
              "    <tr>\n",
              "      <th>10</th>\n",
              "      <td>7320.0</td>\n",
              "      <td>0.000090</td>\n",
              "      <td>4.951421e-05</td>\n",
              "      <td>0.000000</td>\n",
              "      <td>0.000057</td>\n",
              "      <td>0.000079</td>\n",
              "      <td>0.000112</td>\n",
              "      <td>0.000408</td>\n",
              "    </tr>\n",
              "    <tr>\n",
              "      <th>11</th>\n",
              "      <td>7320.0</td>\n",
              "      <td>0.000122</td>\n",
              "      <td>6.335001e-05</td>\n",
              "      <td>0.000022</td>\n",
              "      <td>0.000066</td>\n",
              "      <td>0.000132</td>\n",
              "      <td>0.000176</td>\n",
              "      <td>0.000221</td>\n",
              "    </tr>\n",
              "    <tr>\n",
              "      <th>12</th>\n",
              "      <td>7320.0</td>\n",
              "      <td>0.000493</td>\n",
              "      <td>2.813746e-04</td>\n",
              "      <td>0.000022</td>\n",
              "      <td>0.000243</td>\n",
              "      <td>0.000485</td>\n",
              "      <td>0.000728</td>\n",
              "      <td>0.001168</td>\n",
              "    </tr>\n",
              "    <tr>\n",
              "      <th>13</th>\n",
              "      <td>7320.0</td>\n",
              "      <td>0.003373</td>\n",
              "      <td>1.941156e-03</td>\n",
              "      <td>0.000022</td>\n",
              "      <td>0.001698</td>\n",
              "      <td>0.003373</td>\n",
              "      <td>0.005049</td>\n",
              "      <td>0.006726</td>\n",
              "    </tr>\n",
              "    <tr>\n",
              "      <th>14</th>\n",
              "      <td>7320.0</td>\n",
              "      <td>0.000254</td>\n",
              "      <td>1.526171e-04</td>\n",
              "      <td>0.000000</td>\n",
              "      <td>0.000127</td>\n",
              "      <td>0.000254</td>\n",
              "      <td>0.000380</td>\n",
              "      <td>0.000507</td>\n",
              "    </tr>\n",
              "    <tr>\n",
              "      <th>15</th>\n",
              "      <td>7320.0</td>\n",
              "      <td>0.000066</td>\n",
              "      <td>4.422089e-05</td>\n",
              "      <td>0.000000</td>\n",
              "      <td>0.000022</td>\n",
              "      <td>0.000066</td>\n",
              "      <td>0.000110</td>\n",
              "      <td>0.000132</td>\n",
              "    </tr>\n",
              "    <tr>\n",
              "      <th>16</th>\n",
              "      <td>7320.0</td>\n",
              "      <td>0.000347</td>\n",
              "      <td>1.942922e-04</td>\n",
              "      <td>0.000022</td>\n",
              "      <td>0.000176</td>\n",
              "      <td>0.000353</td>\n",
              "      <td>0.000507</td>\n",
              "      <td>0.000684</td>\n",
              "    </tr>\n",
              "    <tr>\n",
              "      <th>17</th>\n",
              "      <td>7320.0</td>\n",
              "      <td>0.000060</td>\n",
              "      <td>2.804318e-05</td>\n",
              "      <td>0.000022</td>\n",
              "      <td>0.000044</td>\n",
              "      <td>0.000066</td>\n",
              "      <td>0.000088</td>\n",
              "      <td>0.000110</td>\n",
              "    </tr>\n",
              "  </tbody>\n",
              "</table>\n",
              "</div>"
            ],
            "text/plain": [
              "     count      mean           std  ...       50%       75%       max\n",
              "0   7320.0  0.000132  3.407499e-09  ...  0.000132  0.000132  0.000132\n",
              "1   7320.0  0.999744  2.575388e-05  ...  0.999742  0.999749  1.000000\n",
              "2   7320.0 -0.000022  5.679165e-10  ... -0.000022 -0.000022 -0.000022\n",
              "3   7320.0  0.000088  2.271666e-09  ...  0.000088  0.000088  0.000088\n",
              "4   7320.0  0.000269  1.346139e-04  ...  0.000265  0.000375  0.000705\n",
              "5   7320.0 -0.000018  9.552659e-06  ... -0.000022 -0.000022  0.000198\n",
              "6   7320.0  0.000172  1.142263e-04  ...  0.000176  0.000265  0.000441\n",
              "7   7320.0 -0.000022  5.679165e-10  ... -0.000022 -0.000022 -0.000022\n",
              "8   7320.0  0.022160  2.143611e-03  ...  0.022399  0.022509  0.022840\n",
              "9   7320.0  0.000179  9.869780e-05  ...  0.000198  0.000265  0.000331\n",
              "10  7320.0  0.000090  4.951421e-05  ...  0.000079  0.000112  0.000408\n",
              "11  7320.0  0.000122  6.335001e-05  ...  0.000132  0.000176  0.000221\n",
              "12  7320.0  0.000493  2.813746e-04  ...  0.000485  0.000728  0.001168\n",
              "13  7320.0  0.003373  1.941156e-03  ...  0.003373  0.005049  0.006726\n",
              "14  7320.0  0.000254  1.526171e-04  ...  0.000254  0.000380  0.000507\n",
              "15  7320.0  0.000066  4.422089e-05  ...  0.000066  0.000110  0.000132\n",
              "16  7320.0  0.000347  1.942922e-04  ...  0.000353  0.000507  0.000684\n",
              "17  7320.0  0.000060  2.804318e-05  ...  0.000066  0.000088  0.000110\n",
              "\n",
              "[18 rows x 8 columns]"
            ]
          },
          "metadata": {
            "tags": []
          },
          "execution_count": 180
        }
      ]
    },
    {
      "cell_type": "markdown",
      "metadata": {
        "id": "uTfzwHpZ4fRx",
        "colab_type": "text"
      },
      "source": [
        "A noter, la normalisation devra être appliquée sur toute nouvelle donnée soumise au modèle par la suite"
      ]
    },
    {
      "cell_type": "markdown",
      "metadata": {
        "id": "1bUvQXb82pPE",
        "colab_type": "text"
      },
      "source": [
        "#Apprentissage"
      ]
    },
    {
      "cell_type": "code",
      "metadata": {
        "id": "2rDAM8Im2vUE",
        "colab_type": "code",
        "colab": {}
      },
      "source": [
        "def build_model(feature_keys_len):\n",
        "  model = keras.Sequential([\n",
        "    layers.Dense(64, activation='relu',input_shape=[feature_keys_len]),\n",
        "    layers.Dense(64, activation='relu'),\n",
        "    layers.Dense(64, activation='relu'),\n",
        "    layers.Dense(64, activation='relu'),\n",
        "    layers.Dense(1)\n",
        "  ])  \n",
        "  optimizer = keras.optimizers.RMSprop(0.01)  \n",
        "  model.compile(loss='mean_squared_error',\n",
        "              optimizer='rmsprop',\n",
        "              metrics=['mean_absolute_error', 'mean_squared_error'])\n",
        "  \n",
        "  return model\n",
        "\n",
        "model=build_model(len(train_df[feature_cols].keys()))"
      ],
      "execution_count": 0,
      "outputs": []
    },
    {
      "cell_type": "code",
      "metadata": {
        "id": "Rr8U6Lfg209X",
        "colab_type": "code",
        "outputId": "505c4b47-e651-4bad-b652-5e5f1c58f06d",
        "colab": {
          "base_uri": "https://localhost:8080/",
          "height": 330
        }
      },
      "source": [
        "model.summary()"
      ],
      "execution_count": 192,
      "outputs": [
        {
          "output_type": "stream",
          "text": [
            "Model: \"sequential_10\"\n",
            "_________________________________________________________________\n",
            "Layer (type)                 Output Shape              Param #   \n",
            "=================================================================\n",
            "dense_30 (Dense)             (None, 64)                1216      \n",
            "_________________________________________________________________\n",
            "dense_31 (Dense)             (None, 64)                4160      \n",
            "_________________________________________________________________\n",
            "dense_32 (Dense)             (None, 64)                4160      \n",
            "_________________________________________________________________\n",
            "dense_33 (Dense)             (None, 64)                4160      \n",
            "_________________________________________________________________\n",
            "dense_34 (Dense)             (None, 1)                 65        \n",
            "=================================================================\n",
            "Total params: 13,761\n",
            "Trainable params: 13,761\n",
            "Non-trainable params: 0\n",
            "_________________________________________________________________\n"
          ],
          "name": "stdout"
        }
      ]
    },
    {
      "cell_type": "code",
      "metadata": {
        "id": "m7HwA5Xq48wP",
        "colab_type": "code",
        "outputId": "60e5199e-662b-4f44-8938-c770a851ad28",
        "colab": {
          "base_uri": "https://localhost:8080/",
          "height": 52
        }
      },
      "source": [
        "BATCH_SIZE=16\n",
        "EPOCHS = 200\n",
        "\n",
        "# Display training progress by printing a single dot for each completed epoch\n",
        "class PrintDot(keras.callbacks.Callback):\n",
        "  def on_epoch_end(self, epoch, logs):\n",
        "    if epoch % 50 == 0: print('|')\n",
        "    print('.', end='')\n",
        "\n",
        "early_stop = keras.callbacks.EarlyStopping(monitor='mean_absolute_error', patience=10)\n",
        "\n",
        "history = model.fit(\n",
        "  X_train_norm, y_train,\n",
        "  batch_size=BATCH_SIZE,\n",
        "  epochs=EPOCHS, \n",
        "  validation_split = 0.2, \n",
        "  verbose=0,\n",
        "  callbacks=[early_stop,PrintDot()])\n"
      ],
      "execution_count": 0,
      "outputs": [
        {
          "output_type": "stream",
          "text": [
            "|\n",
            "................"
          ],
          "name": "stdout"
        }
      ]
    },
    {
      "cell_type": "code",
      "metadata": {
        "id": "sn4qM02wBqqF",
        "colab_type": "code",
        "colab": {
          "base_uri": "https://localhost:8080/",
          "height": 206
        },
        "outputId": "12a63b96-410e-4ba9-f4eb-5e396a476b9e"
      },
      "source": [
        "\n",
        "hist = pd.DataFrame(history.history)\n",
        "hist['epoch'] = history.epoch\n",
        "hist.tail()"
      ],
      "execution_count": 184,
      "outputs": [
        {
          "output_type": "execute_result",
          "data": {
            "text/html": [
              "<div>\n",
              "<style scoped>\n",
              "    .dataframe tbody tr th:only-of-type {\n",
              "        vertical-align: middle;\n",
              "    }\n",
              "\n",
              "    .dataframe tbody tr th {\n",
              "        vertical-align: top;\n",
              "    }\n",
              "\n",
              "    .dataframe thead th {\n",
              "        text-align: right;\n",
              "    }\n",
              "</style>\n",
              "<table border=\"1\" class=\"dataframe\">\n",
              "  <thead>\n",
              "    <tr style=\"text-align: right;\">\n",
              "      <th></th>\n",
              "      <th>loss</th>\n",
              "      <th>mean_absolute_error</th>\n",
              "      <th>mean_squared_error</th>\n",
              "      <th>val_loss</th>\n",
              "      <th>val_mean_absolute_error</th>\n",
              "      <th>val_mean_squared_error</th>\n",
              "      <th>epoch</th>\n",
              "    </tr>\n",
              "  </thead>\n",
              "  <tbody>\n",
              "    <tr>\n",
              "      <th>13</th>\n",
              "      <td>85.230441</td>\n",
              "      <td>7.295185</td>\n",
              "      <td>85.230415</td>\n",
              "      <td>74.524274</td>\n",
              "      <td>7.653164</td>\n",
              "      <td>74.524284</td>\n",
              "      <td>13</td>\n",
              "    </tr>\n",
              "    <tr>\n",
              "      <th>14</th>\n",
              "      <td>85.208403</td>\n",
              "      <td>7.298296</td>\n",
              "      <td>85.208397</td>\n",
              "      <td>71.545742</td>\n",
              "      <td>7.367959</td>\n",
              "      <td>71.545738</td>\n",
              "      <td>14</td>\n",
              "    </tr>\n",
              "    <tr>\n",
              "      <th>15</th>\n",
              "      <td>85.262625</td>\n",
              "      <td>7.292213</td>\n",
              "      <td>85.262634</td>\n",
              "      <td>72.958739</td>\n",
              "      <td>7.520187</td>\n",
              "      <td>72.958763</td>\n",
              "      <td>15</td>\n",
              "    </tr>\n",
              "    <tr>\n",
              "      <th>16</th>\n",
              "      <td>85.143781</td>\n",
              "      <td>7.299624</td>\n",
              "      <td>85.143776</td>\n",
              "      <td>70.013039</td>\n",
              "      <td>7.065393</td>\n",
              "      <td>70.013039</td>\n",
              "      <td>16</td>\n",
              "    </tr>\n",
              "    <tr>\n",
              "      <th>17</th>\n",
              "      <td>85.276869</td>\n",
              "      <td>7.293651</td>\n",
              "      <td>85.276855</td>\n",
              "      <td>71.116210</td>\n",
              "      <td>7.310883</td>\n",
              "      <td>71.116211</td>\n",
              "      <td>17</td>\n",
              "    </tr>\n",
              "  </tbody>\n",
              "</table>\n",
              "</div>"
            ],
            "text/plain": [
              "         loss  mean_absolute_error  ...  val_mean_squared_error  epoch\n",
              "13  85.230441             7.295185  ...               74.524284     13\n",
              "14  85.208403             7.298296  ...               71.545738     14\n",
              "15  85.262625             7.292213  ...               72.958763     15\n",
              "16  85.143781             7.299624  ...               70.013039     16\n",
              "17  85.276869             7.293651  ...               71.116211     17\n",
              "\n",
              "[5 rows x 7 columns]"
            ]
          },
          "metadata": {
            "tags": []
          },
          "execution_count": 184
        }
      ]
    },
    {
      "cell_type": "code",
      "metadata": {
        "id": "cRB70u0i8IvL",
        "colab_type": "code",
        "colab": {
          "base_uri": "https://localhost:8080/",
          "height": 541
        },
        "outputId": "f0452fa5-e2b4-4afd-dcd2-aa23f859159b"
      },
      "source": [
        "def plot_history(history):\n",
        "  hist = pd.DataFrame(history.history)\n",
        "  hist['epoch'] = history.epoch\n",
        "\n",
        "  plt.figure()\n",
        "  plt.xlabel('Epoch')\n",
        "  plt.ylabel('Mean Abs Error')\n",
        "  plt.plot(hist['epoch'], hist['mean_absolute_error'],\n",
        "           label='Train Error')\n",
        "  plt.plot(hist['epoch'], hist['val_mean_absolute_error'],\n",
        "           label = 'Val Error')\n",
        "  #plt.ylim([0,5])\n",
        "  plt.legend()\n",
        "\n",
        "  plt.figure()\n",
        "  plt.xlabel('Epoch')\n",
        "  plt.ylabel('Mean Square Error')\n",
        "  plt.plot(hist['epoch'], hist['mean_squared_error'],\n",
        "           label='Train Error')\n",
        "  plt.plot(hist['epoch'], hist['val_mean_squared_error'],\n",
        "           label = 'Val Error')\n",
        "  #plt.ylim([0,20])\n",
        "  plt.legend()\n",
        "  plt.show()\n",
        "\n",
        "\n",
        "plot_history(history)"
      ],
      "execution_count": 185,
      "outputs": [
        {
          "output_type": "display_data",
          "data": {
            "image/png": "[encoded data removed]",
            "text/plain": [
              "<Figure size 432x288 with 1 Axes>"
            ]
          },
          "metadata": {
            "tags": []
          }
        },
        {
          "output_type": "display_data",
          "data": {
            "image/png": "[encoded data removed]",
            "text/plain": [
              "<Figure size 432x288 with 1 Axes>"
            ]
          },
          "metadata": {
            "tags": []
          }
        }
      ]
    },
    {
      "cell_type": "code",
      "metadata": {
        "id": "oBF5uY6T-nIV",
        "colab_type": "code",
        "colab": {
          "base_uri": "https://localhost:8080/",
          "height": 52
        },
        "outputId": "b576a60d-cb17-43e9-c81d-8c282399e02d"
      },
      "source": [
        "loss, mae, mse = model.evaluate(X_test_norm, y_test, verbose=2)\n",
        "\n",
        "print(\"Testing set Mean Abs Error: {:5.2f}\".format(mae))\n"
      ],
      "execution_count": 186,
      "outputs": [
        {
          "output_type": "stream",
          "text": [
            "1464/1 - 0s - loss: 109.3147 - mean_absolute_error: 8.4635 - mean_squared_error: 116.7762\n",
            "Testing set Mean Abs Error:  8.46\n"
          ],
          "name": "stdout"
        }
      ]
    },
    {
      "cell_type": "markdown",
      "metadata": {
        "id": "UA2iLqnVTG71",
        "colab_type": "text"
      },
      "source": [
        "#Prédiction"
      ]
    },
    {
      "cell_type": "code",
      "metadata": {
        "id": "tVyRdj46-1lw",
        "colab_type": "code",
        "colab": {}
      },
      "source": [
        "y_pred = model.predict(X_test_norm).flatten()"
      ],
      "execution_count": 0,
      "outputs": []
    },
    {
      "cell_type": "code",
      "metadata": {
        "id": "unIbJGuwCOyb",
        "colab_type": "code",
        "colab": {}
      },
      "source": [
        "test_df['pred']=y_pred"
      ],
      "execution_count": 0,
      "outputs": []
    },
    {
      "cell_type": "code",
      "metadata": {
        "id": "XU4WkMqVCxTR",
        "colab_type": "code",
        "colab": {
          "base_uri": "https://localhost:8080/",
          "height": 52
        },
        "outputId": "c80a8bc7-86ff-4f6a-ca3e-96e8d8c4d297"
      },
      "source": [
        "test_df['building_id'].drop_duplicates()"
      ],
      "execution_count": 189,
      "outputs": [
        {
          "output_type": "execute_result",
          "data": {
            "text/plain": [
              "16800431    142\n",
              "Name: building_id, dtype: uint16"
            ]
          },
          "metadata": {
            "tags": []
          },
          "execution_count": 189
        }
      ]
    },
    {
      "cell_type": "code",
      "metadata": {
        "id": "Pmr0AraWC9JQ",
        "colab_type": "code",
        "colab": {
          "base_uri": "https://localhost:8080/",
          "height": 367
        },
        "outputId": "fbab494c-ccd0-4707-d7bf-7b9ca8d98acd"
      },
      "source": [
        "data=test_df.set_index('timestamp')\n",
        "\n",
        "building_list=test_df['building_id'].unique().tolist()\n",
        "\n",
        "for b in building_list:\n",
        "  plt.figure(figsize=(15,5))\n",
        "  sns.lineplot(data=data[data['building_id']==b][[target_col,'pred']]).set_title(b)\n",
        "\n"
      ],
      "execution_count": 190,
      "outputs": [
        {
          "output_type": "execute_result",
          "data": {
            "text/plain": [
              "<Figure size 1080x360 with 0 Axes>"
            ]
          },
          "metadata": {
            "tags": []
          },
          "execution_count": 190
        },
        {
          "output_type": "execute_result",
          "data": {
            "text/plain": [
              "Text(0.5, 1.0, '142')"
            ]
          },
          "metadata": {
            "tags": []
          },
          "execution_count": 190
        },
        {
          "output_type": "display_data",
          "data": {
            "image/png": "[encoded data removed]",
            "text/plain": [
              "<Figure size 1080x360 with 1 Axes>"
            ]
          },
          "metadata": {
            "tags": []
          }
        }
      ]
    },
    {
      "cell_type": "code",
      "metadata": {
        "id": "_18PerAGDHFY",
        "colab_type": "code",
        "colab": {}
      },
      "source": [
        ""
      ],
      "execution_count": 0,
      "outputs": []
    }
  ]
}