{
  "nbformat": 4,
  "nbformat_minor": 0,
  "metadata": {
    "colab": {
      "name": "Nouvel éditeur de code de Colaboratory",
      "provenance": [],
      "collapsed_sections": [],
      "toc_visible": true,
      "machine_shape": "hm",
      "include_colab_link": true
    },
    "kernelspec": {
      "name": "python3",
      "display_name": "Python 3"
    }
  },
  "cells": [
    {
      "cell_type": "markdown",
      "metadata": {
        "id": "view-in-github",
        "colab_type": "text"
      },
      "source": [
        "<a href=\"https://colab.research.google.com/github/jfvandem/dev_test_days/blob/master/intro_deep_learning.ipynb\" target=\"_parent\"><img src=\"https://colab.research.google.com/assets/colab-badge.svg\" alt=\"Open In Colab\"/></a>"
      ]
    },
    {
      "cell_type": "markdown",
      "metadata": {
        "colab_type": "text",
        "id": "aRDUGd13kUFu"
      },
      "source": [
        "# Dev test days 2019 - Meylan"
      ]
    },
    {
      "cell_type": "markdown",
      "metadata": {
        "id": "T3HnMqO2S3la",
        "colab_type": "text"
      },
      "source": [
        "basé sur https://www.kaggle.com/c/ashrae-energy-prediction/data"
      ]
    },
    {
      "cell_type": "markdown",
      "metadata": {
        "id": "Q0G3f2vuSxfm",
        "colab_type": "text"
      },
      "source": [
        "https://www.tensorflow.org/tutorials/keras/regression\n",
        "https://www.tensorflow.org/tutorials/structured_data/time_series\n",
        "https://www.tensorflow.org/tutorials/structured_data/time_series#part_2_forecast_a_multivariate_time_series\n"
      ]
    },
    {
      "cell_type": "markdown",
      "metadata": {
        "id": "EMPsqVVjKR0E",
        "colab_type": "text"
      },
      "source": [
        "# Clone github"
      ]
    },
    {
      "cell_type": "code",
      "metadata": {
        "id": "dsV093VdJhEs",
        "colab_type": "code",
        "outputId": "1e7e46f8-c15e-494f-b950-79964ae15620",
        "colab": {
          "base_uri": "https://localhost:8080/",
          "height": 165
        }
      },
      "source": [
        "!rm -rf dev_test_days\n",
        "!git clone https://github.com/jfvandem/dev_test_days"
      ],
      "execution_count": 0,
      "outputs": [
        {
          "output_type": "stream",
          "text": [
            "Cloning into 'dev_test_days'...\n",
            "remote: Enumerating objects: 66, done.\u001b[K\n",
            "remote: Counting objects: 100% (66/66), done.\u001b[K\n",
            "remote: Compressing objects: 100% (66/66), done.\u001b[K\n",
            "remote: Total 148 (delta 35), reused 0 (delta 0), pack-reused 82\u001b[K\n",
            "Receiving objects: 100% (148/148), 131.91 MiB | 44.39 MiB/s, done.\n",
            "Resolving deltas: 100% (75/75), done.\n"
          ],
          "name": "stdout"
        }
      ]
    },
    {
      "cell_type": "code",
      "metadata": {
        "id": "0tVyA1D9D6Y9",
        "colab_type": "code",
        "colab": {}
      },
      "source": [
        "try:\n",
        "  # %tensorflow_version only exists in Colab.\n",
        "  %tensorflow_version 2.x\n",
        "except Exception:\n",
        "  pass"
      ],
      "execution_count": 0,
      "outputs": []
    },
    {
      "cell_type": "markdown",
      "metadata": {
        "id": "9mCuM6Y7KWLf",
        "colab_type": "text"
      },
      "source": [
        "# Import"
      ]
    },
    {
      "cell_type": "code",
      "metadata": {
        "id": "qv9EsJzTVGkc",
        "colab_type": "code",
        "colab": {}
      },
      "source": [
        "import gc\n",
        "import glob\n",
        "import io\n",
        "import itertools\n",
        "import joblib\n",
        "import math\n",
        "import matplotlib.pyplot as plt\n",
        "import missingno as msno\n",
        "import numpy as np\n",
        "import os\n",
        "import pandas as pd\n",
        "import plotly.graph_objects as go\n",
        "import plotly.express as px\n",
        "import re\n",
        "import requests\n",
        "import seaborn as sns\n",
        "import tensorflow as tf\n",
        "import time\n",
        "import warnings\n",
        "import zipfile\n",
        "\n",
        "from datetime import datetime,timedelta\n",
        "from dateutil.relativedelta import relativedelta\n",
        "from math import sqrt\n",
        "from matplotlib.collections import PatchCollection\n",
        "from nltk.tokenize import word_tokenize\n",
        "from os import path\n",
        "\n",
        "from scipy import stats\n",
        "from scipy.stats import skew\n",
        "\n",
        "from sklearn.metrics import mean_squared_error\n",
        "from sklearn.model_selection import KFold, StratifiedKFold\n",
        "from sklearn.preprocessing import LabelEncoder\n",
        "from sklearn import preprocessing\n",
        "\n",
        "from tensorflow import keras\n",
        "from tensorflow import feature_column\n",
        "from tensorflow.keras import layers\n",
        "\n",
        "warnings.filterwarnings(\"ignore\")"
      ],
      "execution_count": 0,
      "outputs": []
    },
    {
      "cell_type": "code",
      "metadata": {
        "id": "mvn7ZufcM7Mh",
        "colab_type": "code",
        "colab": {}
      },
      "source": [
        "print(tf.__version__)"
      ],
      "execution_count": 0,
      "outputs": []
    },
    {
      "cell_type": "code",
      "metadata": {
        "id": "7gfl8JZ_axDI",
        "colab_type": "code",
        "colab": {}
      },
      "source": [
        "RANDOM_SEED = 42\n",
        "\n",
        "tf.random.set_seed(RANDOM_SEED)"
      ],
      "execution_count": 0,
      "outputs": []
    },
    {
      "cell_type": "code",
      "metadata": {
        "id": "ci9R8kz_A8C-",
        "colab_type": "code",
        "colab": {}
      },
      "source": [
        "from IPython.core.interactiveshell import InteractiveShell\n",
        "InteractiveShell.ast_node_interactivity = \"all\""
      ],
      "execution_count": 0,
      "outputs": []
    },
    {
      "cell_type": "markdown",
      "metadata": {
        "id": "FT-vDmASKZoR",
        "colab_type": "text"
      },
      "source": [
        "# Chargement des données"
      ]
    },
    {
      "cell_type": "code",
      "metadata": {
        "colab_type": "code",
        "id": "hHN0nxFA2REE",
        "colab": {}
      },
      "source": [
        "!ls dev_test_days"
      ],
      "execution_count": 0,
      "outputs": []
    },
    {
      "cell_type": "code",
      "metadata": {
        "id": "ok11YSBuNh-V",
        "colab_type": "code",
        "colab": {}
      },
      "source": [
        "data_dir='dev_test_days/dataset/'"
      ],
      "execution_count": 0,
      "outputs": []
    },
    {
      "cell_type": "code",
      "metadata": {
        "id": "Iw627G6zDYOS",
        "colab_type": "code",
        "colab": {}
      },
      "source": [
        "df = pd.read_pickle(data_dir+'train_full_df.pkl.zip',compression='zip')\n",
        "df.shape\n",
        "df.head()"
      ],
      "execution_count": 0,
      "outputs": []
    },
    {
      "cell_type": "code",
      "metadata": {
        "id": "fm-UdpHj070Z",
        "colab_type": "code",
        "colab": {}
      },
      "source": [
        "le=joblib.load(data_dir+'label_encoder.pkl')\n",
        "le.classes_"
      ],
      "execution_count": 0,
      "outputs": []
    },
    {
      "cell_type": "code",
      "metadata": {
        "id": "dCGBvYNc2tZg",
        "colab_type": "code",
        "colab": {}
      },
      "source": [
        "df['primary_use_label']=le.inverse_transform(df['primary_use'])"
      ],
      "execution_count": 0,
      "outputs": []
    },
    {
      "cell_type": "code",
      "metadata": {
        "id": "TzOD0cUlGogv",
        "colab_type": "code",
        "colab": {}
      },
      "source": [
        "len(df.columns)\n",
        "df.columns"
      ],
      "execution_count": 0,
      "outputs": []
    },
    {
      "cell_type": "markdown",
      "metadata": {
        "id": "6ieo4E5xAKdh",
        "colab_type": "text"
      },
      "source": [
        "#Echantillonnage\n",
        "Nous sélectionnons les batiments pour que l'apprentissage du modèle soit réalisé dans un temps raisonnable. Nous conservons uniquement les mesures réalisées sur le compteur d'électricité"
      ]
    },
    {
      "cell_type": "code",
      "metadata": {
        "id": "SZeGN0_OIV5u",
        "colab_type": "code",
        "colab": {}
      },
      "source": [
        "df['primary_use_label'].drop_duplicates()"
      ],
      "execution_count": 0,
      "outputs": []
    },
    {
      "cell_type": "code",
      "metadata": {
        "id": "-Bo-P3aSIdBs",
        "colab_type": "code",
        "colab": {}
      },
      "source": [
        "df.shape\n",
        "df=df[(df['primary_use_label']=='Office')&(df['meter']==0)&(df['meter_reading']!=0)&(~df['primary_use'].isna())]\n",
        "df.shape"
      ],
      "execution_count": 0,
      "outputs": []
    },
    {
      "cell_type": "code",
      "metadata": {
        "id": "leYZx6Vjk-KQ",
        "colab_type": "code",
        "colab": {}
      },
      "source": [
        "df.head()"
      ],
      "execution_count": 0,
      "outputs": []
    },
    {
      "cell_type": "code",
      "metadata": {
        "id": "LeLmMhuyJlCW",
        "colab_type": "code",
        "colab": {}
      },
      "source": [
        "top5_building_id=df.groupby('building_id')['meter_reading'].count().sort_values(ascending=False).reset_index().head(1)['building_id']\n",
        "top5_building_id"
      ],
      "execution_count": 0,
      "outputs": []
    },
    {
      "cell_type": "code",
      "metadata": {
        "id": "b1k5Kh3ZKE2v",
        "colab_type": "code",
        "colab": {}
      },
      "source": [
        "df.shape\n",
        "df=df[df['building_id'].isin(top5_building_id)]\n",
        "df.shape"
      ],
      "execution_count": 0,
      "outputs": []
    },
    {
      "cell_type": "code",
      "metadata": {
        "id": "7kfLYSMr1v5O",
        "colab_type": "code",
        "colab": {}
      },
      "source": [
        "df['meter'].value_counts()"
      ],
      "execution_count": 0,
      "outputs": []
    },
    {
      "cell_type": "code",
      "metadata": {
        "id": "1UUBnqQzcoRc",
        "colab_type": "code",
        "colab": {}
      },
      "source": [
        "print(df['timestamp'].min())\n",
        "print(df['timestamp'].max())"
      ],
      "execution_count": 0,
      "outputs": []
    },
    {
      "cell_type": "code",
      "metadata": {
        "id": "Oam20OY5eMPP",
        "colab_type": "code",
        "colab": {}
      },
      "source": [
        "print('fréquence des mesures : {}'.format(df.groupby('timestamp')['meter_reading'].mean().index.inferred_freq))"
      ],
      "execution_count": 0,
      "outputs": []
    },
    {
      "cell_type": "markdown",
      "metadata": {
        "id": "ZdmrMtfvBmoA",
        "colab_type": "text"
      },
      "source": [
        "# Description des colonnes\n",
        "\n",
        "\n",
        "* air_temperature : température de l'air (degré Celsius)\n",
        "* building_id : foreign key pour les données sur les immeubles (building_metadata)\n",
        "* cloud_coverage : couverture nuageuse (oktas)\n",
        "* dew température : température de rosée (degré Celsius)\n",
        "* floor_count : nombre d'étages dans l'immeuble\n",
        "* meter : code du type de compteur {0: electricity, 1: chilledwater, 2: steam, 3: hotwater}. Tous les immeubles n'ont pas tous les types de compteur\n",
        "* meter_reading : Consommation d'énergie en kWh (avec erreurs de mesure possibles) (la \"**target**\")\n",
        "* precip_depth_1_hr : hauteur de précipitation en 1h (millimètre)\n",
        "* primary_use : indicateur de l'activité des occupants dans l'immeuble selon la définition EnergyStar\n",
        "* sea_level_pressure : pression au niveau de la mer (Millibar/hectopascals)\n",
        "* site_id : foreign key pour les données météo\n",
        "* square_feet : surface au plancher de l'immeuble (pied carré)\n",
        "* timestamp : date à laquelle la mesure a été prise. Le timestamp a été \"éclaté\" en plusieurs champs (heure, jour, année, jour dans la semaine...)\n",
        "* wind_direction : direction du vent (0 à 360 degré)\n",
        "* wind_speed : vitesse du vent (m/s)\n",
        "* year_built : année de construction de l'immeuble\n",
        "\n"
      ]
    },
    {
      "cell_type": "code",
      "metadata": {
        "id": "rYxRbGjGOGs0",
        "colab_type": "code",
        "colab": {}
      },
      "source": [
        "# Valeurs manquantes (substitution réalisée dans le preprocessing, -1 ou moyenne)\n",
        "df.isna().sum()"
      ],
      "execution_count": 0,
      "outputs": []
    },
    {
      "cell_type": "markdown",
      "metadata": {
        "id": "4208ewky6EXP",
        "colab_type": "text"
      },
      "source": [
        "#Data Visualisation"
      ]
    },
    {
      "cell_type": "code",
      "metadata": {
        "id": "LAncqfQ22jMs",
        "colab_type": "code",
        "colab": {}
      },
      "source": [
        "\n",
        "d=df.set_index('timestamp').groupby(['building_id']).resample('D')['meter_reading'].mean().reset_index()\n",
        "\n",
        "plt.figure(figsize=(10,5))\n",
        "sns.lineplot(x='timestamp',y='meter_reading',data=d,style='building_id',palette='ch:2.5,.25').set_title('consommation d\\'électricité moyenne quotidienne par batiment')\n",
        "\n",
        "plt.xticks(\n",
        "    rotation=45, \n",
        "    horizontalalignment='right',\n",
        "    fontweight='light',\n",
        "    fontsize='x-large'  \n",
        ");\n",
        "\n"
      ],
      "execution_count": 0,
      "outputs": []
    },
    {
      "cell_type": "markdown",
      "metadata": {
        "id": "UZC5Ea6UOwqV",
        "colab_type": "text"
      },
      "source": [
        "# Features"
      ]
    },
    {
      "cell_type": "code",
      "metadata": {
        "id": "-yQoahc57hCE",
        "colab_type": "code",
        "colab": {}
      },
      "source": [
        "feature_cols=['primary_use',\n",
        " 'square_feet',\n",
        " 'year_built',\n",
        " 'floor_count',\n",
        " 'air_temperature',\n",
        " 'cloud_coverage',\n",
        " 'dew_temperature',\n",
        " 'precip_depth_1_hr',\n",
        " 'sea_level_pressure',\n",
        " 'wind_direction',\n",
        " 'wind_speed',\n",
        " 'month_datetime',\n",
        " 'weekofyear_datetime',\n",
        " 'dayofyear_datetime',\n",
        " 'hour_datetime',\n",
        " 'day_week',\n",
        " 'day_month_datetime',\n",
        " 'week_month_datetime']\n",
        "target_col='meter_reading'"
      ],
      "execution_count": 0,
      "outputs": []
    },
    {
      "cell_type": "markdown",
      "metadata": {
        "id": "mzHl--SHQl_N",
        "colab_type": "text"
      },
      "source": [
        "#Train / test split"
      ]
    },
    {
      "cell_type": "code",
      "metadata": {
        "id": "fQWEwIvqQq2O",
        "colab_type": "code",
        "colab": {}
      },
      "source": [
        "train_df=df[df['timestamp'].dt.month<11]\n",
        "test_df=df[df['timestamp'].dt.month>=11]\n",
        "\n",
        "train_df.shape\n",
        "test_df.shape"
      ],
      "execution_count": 0,
      "outputs": []
    },
    {
      "cell_type": "markdown",
      "metadata": {
        "id": "x3bxW-xpVDug",
        "colab_type": "text"
      },
      "source": [
        "#Normalisation des données"
      ]
    },
    {
      "cell_type": "markdown",
      "metadata": {
        "id": "zYEDNZ1sLge4",
        "colab_type": "text"
      },
      "source": [
        "cf. https://jovianlin.io/why-is-normalization-important-in-neural-networks/"
      ]
    },
    {
      "cell_type": "code",
      "metadata": {
        "id": "0bQk01HJ3yen",
        "colab_type": "code",
        "colab": {}
      },
      "source": [
        "train_stats = train_df[feature_cols].describe()\n",
        "train_stats = train_stats.transpose()\n",
        "train_stats"
      ],
      "execution_count": 0,
      "outputs": []
    },
    {
      "cell_type": "code",
      "metadata": {
        "id": "-QwPy-uoRYuD",
        "colab_type": "code",
        "colab": {}
      },
      "source": [
        "\n",
        "X_train=train_df[feature_cols]\n",
        "y_train=train_df[target_col]\n",
        "\n",
        "X_test=test_df[feature_cols]\n",
        "y_test=test_df[target_col]\n",
        "\n",
        "normalizer=preprocessing.Normalizer()\n",
        "\n",
        "X_train_norm=normalizer.fit_transform(X_train)\n",
        "X_test_norm=normalizer.transform(X_test)\n"
      ],
      "execution_count": 0,
      "outputs": []
    },
    {
      "cell_type": "code",
      "metadata": {
        "id": "ijfpnZkPmtEn",
        "colab_type": "code",
        "colab": {}
      },
      "source": [
        "X_train.head()"
      ],
      "execution_count": 0,
      "outputs": []
    },
    {
      "cell_type": "code",
      "metadata": {
        "id": "gUfto6iNjz_B",
        "colab_type": "code",
        "colab": {}
      },
      "source": [
        "pd.DataFrame(X_train_norm).head()"
      ],
      "execution_count": 0,
      "outputs": []
    },
    {
      "cell_type": "code",
      "metadata": {
        "id": "nrScHH-X-A2v",
        "colab_type": "code",
        "colab": {}
      },
      "source": [
        "pd.DataFrame(X_train_norm).describe().transpose()"
      ],
      "execution_count": 0,
      "outputs": []
    },
    {
      "cell_type": "markdown",
      "metadata": {
        "id": "uTfzwHpZ4fRx",
        "colab_type": "text"
      },
      "source": [
        "A noter, la normalisation devra être appliquée sur toute nouvelle donnée soumise au modèle par la suite"
      ]
    },
    {
      "cell_type": "markdown",
      "metadata": {
        "id": "1bUvQXb82pPE",
        "colab_type": "text"
      },
      "source": [
        "#Apprentissage"
      ]
    },
    {
      "cell_type": "code",
      "metadata": {
        "id": "2rDAM8Im2vUE",
        "colab_type": "code",
        "colab": {}
      },
      "source": [
        "def build_model(feature_keys_len):\n",
        "  model = keras.Sequential([\n",
        "    layers.Dense(64, activation='relu',input_shape=[feature_keys_len]),\n",
        "    layers.Dense(64, activation='relu'),\n",
        "    layers.Dense(1)\n",
        "  ])  \n",
        "  optimizer = keras.optimizers.RMSprop(0.01)  \n",
        "  model.compile(loss='mean_squared_error',\n",
        "              optimizer='rmsprop',\n",
        "              metrics=['mean_absolute_error', 'mean_squared_error'])\n",
        "  \n",
        "  return model\n",
        "\n",
        "model=build_model(len(train_df[feature_cols].keys()))"
      ],
      "execution_count": 0,
      "outputs": []
    },
    {
      "cell_type": "code",
      "metadata": {
        "id": "Rr8U6Lfg209X",
        "colab_type": "code",
        "colab": {}
      },
      "source": [
        "model.summary()"
      ],
      "execution_count": 0,
      "outputs": []
    },
    {
      "cell_type": "code",
      "metadata": {
        "id": "m7HwA5Xq48wP",
        "colab_type": "code",
        "colab": {}
      },
      "source": [
        "BATCH_SIZE=16\n",
        "EPOCHS = 200\n",
        "\n",
        "# Display training progress by printing a single dot for each completed epoch\n",
        "class PrintDot(keras.callbacks.Callback):\n",
        "  def on_epoch_end(self, epoch, logs):\n",
        "    if epoch % 50 == 0: print('|')\n",
        "    print('.', end='')\n",
        "\n",
        "early_stop = keras.callbacks.EarlyStopping(monitor='mean_absolute_error', patience=10)\n",
        "\n",
        "history = model.fit(\n",
        "  X_train_norm, y_train,\n",
        "  batch_size=BATCH_SIZE,\n",
        "  epochs=EPOCHS, \n",
        "  validation_split = 0.2, \n",
        "  verbose=0,\n",
        "  callbacks=[early_stop,PrintDot()])\n"
      ],
      "execution_count": 0,
      "outputs": []
    },
    {
      "cell_type": "code",
      "metadata": {
        "id": "sn4qM02wBqqF",
        "colab_type": "code",
        "colab": {}
      },
      "source": [
        "hist = pd.DataFrame(history.history)\n",
        "hist['epoch'] = history.epoch\n",
        "hist.tail()"
      ],
      "execution_count": 0,
      "outputs": []
    },
    {
      "cell_type": "code",
      "metadata": {
        "id": "cRB70u0i8IvL",
        "colab_type": "code",
        "colab": {}
      },
      "source": [
        "def plot_history(history):\n",
        "  hist = pd.DataFrame(history.history)\n",
        "  hist['epoch'] = history.epoch\n",
        "\n",
        "  plt.figure()\n",
        "  plt.xlabel('Epoch')\n",
        "  plt.ylabel('Mean Abs Error')\n",
        "  plt.plot(hist['epoch'], hist['mae'],\n",
        "           label='Train Error')\n",
        "  plt.plot(hist['epoch'], hist['val_mae'],\n",
        "           label = 'Val Error')\n",
        "  #plt.ylim([0,5])\n",
        "  plt.legend()\n",
        "\n",
        "  plt.figure()\n",
        "  plt.xlabel('Epoch')\n",
        "  plt.ylabel('Mean Square Error')\n",
        "  plt.plot(hist['epoch'], hist['mse'],\n",
        "           label='Train Error')\n",
        "  plt.plot(hist['epoch'], hist['val_mse'],\n",
        "           label = 'Val Error')\n",
        "  #plt.ylim([0,20])\n",
        "  plt.legend()\n",
        "  plt.show()\n",
        "\n",
        "\n",
        "plot_history(history)"
      ],
      "execution_count": 0,
      "outputs": []
    },
    {
      "cell_type": "code",
      "metadata": {
        "id": "oBF5uY6T-nIV",
        "colab_type": "code",
        "colab": {}
      },
      "source": [
        "loss, mae, mse = model.evaluate(X_test_norm, y_test, verbose=2)\n",
        "\n",
        "print(\"Testing set Mean Abs Error: {:5.2f}\".format(mae))\n"
      ],
      "execution_count": 0,
      "outputs": []
    },
    {
      "cell_type": "markdown",
      "metadata": {
        "id": "UA2iLqnVTG71",
        "colab_type": "text"
      },
      "source": [
        "#Prédiction"
      ]
    },
    {
      "cell_type": "code",
      "metadata": {
        "id": "tVyRdj46-1lw",
        "colab_type": "code",
        "colab": {}
      },
      "source": [
        "y_pred = model.predict(X_test_norm).flatten()"
      ],
      "execution_count": 0,
      "outputs": []
    },
    {
      "cell_type": "code",
      "metadata": {
        "id": "unIbJGuwCOyb",
        "colab_type": "code",
        "colab": {}
      },
      "source": [
        "test_df['pred']=y_pred"
      ],
      "execution_count": 0,
      "outputs": []
    },
    {
      "cell_type": "code",
      "metadata": {
        "id": "XU4WkMqVCxTR",
        "colab_type": "code",
        "colab": {}
      },
      "source": [
        "test_df['building_id'].drop_duplicates()"
      ],
      "execution_count": 0,
      "outputs": []
    },
    {
      "cell_type": "code",
      "metadata": {
        "id": "Pmr0AraWC9JQ",
        "colab_type": "code",
        "colab": {}
      },
      "source": [
        "data=test_df.set_index('timestamp')\n",
        "\n",
        "building_list=test_df['building_id'].unique().tolist()\n",
        "\n",
        "for b in building_list:\n",
        "  plt.figure(figsize=(15,5))\n",
        "  sns.lineplot(data=data[data['building_id']==b][[target_col,'pred']]).set_title(b)\n",
        "\n"
      ],
      "execution_count": 0,
      "outputs": []
    },
    {
      "cell_type": "code",
      "metadata": {
        "id": "_18PerAGDHFY",
        "colab_type": "code",
        "colab": {}
      },
      "source": [
        ""
      ],
      "execution_count": 0,
      "outputs": []
    }
  ]
}