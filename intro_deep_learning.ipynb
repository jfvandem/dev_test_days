{
  "nbformat": 4,
  "nbformat_minor": 0,
  "metadata": {
    "colab": {
      "name": "Nouvel éditeur de code de Colaboratory",
      "provenance": [],
      "collapsed_sections": [],
      "toc_visible": true,
      "machine_shape": "hm",
      "include_colab_link": true
    },
    "kernelspec": {
      "name": "python3",
      "display_name": "Python 3"
    },
    "accelerator": "GPU"
  },
  "cells": [
    {
      "cell_type": "markdown",
      "metadata": {
        "id": "view-in-github",
        "colab_type": "text"
      },
      "source": [
        "<a href=\"https://colab.research.google.com/github/jfvandem/dev_test_days/blob/master/intro_deep_learning.ipynb\" target=\"_parent\"><img src=\"https://colab.research.google.com/assets/colab-badge.svg\" alt=\"Open In Colab\"/></a>"
      ]
    },
    {
      "cell_type": "markdown",
      "metadata": {
        "colab_type": "text",
        "id": "aRDUGd13kUFu"
      },
      "source": [
        "# Dev test days 2019 - Meylan"
      ]
    },
    {
      "cell_type": "markdown",
      "metadata": {
        "id": "T3HnMqO2S3la",
        "colab_type": "text"
      },
      "source": [
        "basé sur https://www.kaggle.com/c/ashrae-energy-prediction/data"
      ]
    },
    {
      "cell_type": "markdown",
      "metadata": {
        "id": "Q0G3f2vuSxfm",
        "colab_type": "text"
      },
      "source": [
        "https://www.tensorflow.org/tutorials/keras/regression\n",
        "https://www.tensorflow.org/tutorials/structured_data/time_series\n",
        "https://www.tensorflow.org/tutorials/structured_data/time_series#part_2_forecast_a_multivariate_time_series\n"
      ]
    },
    {
      "cell_type": "markdown",
      "metadata": {
        "id": "EMPsqVVjKR0E",
        "colab_type": "text"
      },
      "source": [
        "# Clone github"
      ]
    },
    {
      "cell_type": "code",
      "metadata": {
        "id": "dsV093VdJhEs",
        "colab_type": "code",
        "outputId": "f7a0aaa9-d606-4cdf-dd94-902c672b3262",
        "colab": {
          "base_uri": "https://localhost:8080/",
          "height": 136
        }
      },
      "source": [
        "!rm -rf dev_test_days\n",
        "!git clone https://github.com/jfvandem/dev_test_days"
      ],
      "execution_count": 1,
      "outputs": [
        {
          "output_type": "stream",
          "text": [
            "Cloning into 'dev_test_days'...\n",
            "remote: Enumerating objects: 90, done.\u001b[K\n",
            "remote: Counting objects: 100% (90/90), done.\u001b[K\n",
            "remote: Compressing objects: 100% (90/90), done.\u001b[K\n",
            "remote: Total 172 (delta 50), reused 0 (delta 0), pack-reused 82\u001b[K\n",
            "Receiving objects: 100% (172/172), 132.30 MiB | 24.85 MiB/s, done.\n",
            "Resolving deltas: 100% (90/90), done.\n"
          ],
          "name": "stdout"
        }
      ]
    },
    {
      "cell_type": "code",
      "metadata": {
        "id": "0tVyA1D9D6Y9",
        "colab_type": "code",
        "outputId": "e927d80f-a06c-40dc-864f-ebf48ce323ad",
        "colab": {
          "base_uri": "https://localhost:8080/",
          "height": 34
        }
      },
      "source": [
        "try:\n",
        "  # %tensorflow_version only exists in Colab.\n",
        "  %tensorflow_version 2.x\n",
        "except Exception:\n",
        "  pass"
      ],
      "execution_count": 2,
      "outputs": [
        {
          "output_type": "stream",
          "text": [
            "TensorFlow 2.x selected.\n"
          ],
          "name": "stdout"
        }
      ]
    },
    {
      "cell_type": "markdown",
      "metadata": {
        "id": "9mCuM6Y7KWLf",
        "colab_type": "text"
      },
      "source": [
        "# Import"
      ]
    },
    {
      "cell_type": "code",
      "metadata": {
        "id": "qv9EsJzTVGkc",
        "colab_type": "code",
        "colab": {}
      },
      "source": [
        "import gc\n",
        "import glob\n",
        "import io\n",
        "import itertools\n",
        "import joblib\n",
        "import math\n",
        "import matplotlib.pyplot as plt\n",
        "import missingno as msno\n",
        "import numpy as np\n",
        "import os\n",
        "import pandas as pd\n",
        "import plotly.graph_objects as go\n",
        "import plotly.express as px\n",
        "import re\n",
        "import requests\n",
        "import seaborn as sns\n",
        "import tensorflow as tf\n",
        "import time\n",
        "import warnings\n",
        "import zipfile\n",
        "\n",
        "from datetime import datetime,timedelta\n",
        "from dateutil.relativedelta import relativedelta\n",
        "from math import sqrt\n",
        "from matplotlib.collections import PatchCollection\n",
        "from nltk.tokenize import word_tokenize\n",
        "from os import path\n",
        "\n",
        "from scipy import stats\n",
        "from scipy.stats import skew\n",
        "\n",
        "from sklearn.metrics import mean_squared_error\n",
        "from sklearn.model_selection import KFold, StratifiedKFold\n",
        "from sklearn.preprocessing import LabelEncoder\n",
        "from sklearn import preprocessing\n",
        "\n",
        "from tensorflow import keras\n",
        "from tensorflow import feature_column\n",
        "from tensorflow.keras import layers\n",
        "\n",
        "warnings.filterwarnings(\"ignore\")"
      ],
      "execution_count": 0,
      "outputs": []
    },
    {
      "cell_type": "code",
      "metadata": {
        "id": "mvn7ZufcM7Mh",
        "colab_type": "code",
        "outputId": "6db671e8-6743-431a-fa42-42505329e0c8",
        "colab": {
          "base_uri": "https://localhost:8080/",
          "height": 34
        }
      },
      "source": [
        "print(tf.__version__)"
      ],
      "execution_count": 4,
      "outputs": [
        {
          "output_type": "stream",
          "text": [
            "2.0.0\n"
          ],
          "name": "stdout"
        }
      ]
    },
    {
      "cell_type": "code",
      "metadata": {
        "id": "7gfl8JZ_axDI",
        "colab_type": "code",
        "colab": {}
      },
      "source": [
        "RANDOM_SEED = 42\n",
        "\n",
        "tf.random.set_seed(RANDOM_SEED)"
      ],
      "execution_count": 0,
      "outputs": []
    },
    {
      "cell_type": "code",
      "metadata": {
        "id": "ci9R8kz_A8C-",
        "colab_type": "code",
        "colab": {}
      },
      "source": [
        "from IPython.core.interactiveshell import InteractiveShell\n",
        "InteractiveShell.ast_node_interactivity = \"all\""
      ],
      "execution_count": 0,
      "outputs": []
    },
    {
      "cell_type": "markdown",
      "metadata": {
        "id": "FT-vDmASKZoR",
        "colab_type": "text"
      },
      "source": [
        "# Chargement des données"
      ]
    },
    {
      "cell_type": "code",
      "metadata": {
        "colab_type": "code",
        "outputId": "cf933a3f-4d9c-4af5-9c3c-2b8db2d3ef9a",
        "id": "hHN0nxFA2REE",
        "colab": {
          "base_uri": "https://localhost:8080/",
          "height": 34
        }
      },
      "source": [
        "!ls dev_test_days"
      ],
      "execution_count": 7,
      "outputs": [
        {
          "output_type": "stream",
          "text": [
            "dataset  intro_deep_learning.ipynb  README.md\n"
          ],
          "name": "stdout"
        }
      ]
    },
    {
      "cell_type": "code",
      "metadata": {
        "id": "ok11YSBuNh-V",
        "colab_type": "code",
        "colab": {}
      },
      "source": [
        "data_dir='dev_test_days/dataset/'"
      ],
      "execution_count": 0,
      "outputs": []
    },
    {
      "cell_type": "code",
      "metadata": {
        "id": "Iw627G6zDYOS",
        "colab_type": "code",
        "outputId": "8c43b673-4357-4417-9968-80eb90bff4ab",
        "colab": {
          "base_uri": "https://localhost:8080/",
          "height": 326
        }
      },
      "source": [
        "df = pd.read_pickle(data_dir+'train_full_df.pkl.zip',compression='zip')\n",
        "df.shape\n",
        "df.head()"
      ],
      "execution_count": 9,
      "outputs": [
        {
          "output_type": "execute_result",
          "data": {
            "text/plain": [
              "(6634879, 23)"
            ]
          },
          "metadata": {
            "tags": []
          },
          "execution_count": 9
        },
        {
          "output_type": "execute_result",
          "data": {
            "text/html": [
              "<div>\n",
              "<style scoped>\n",
              "    .dataframe tbody tr th:only-of-type {\n",
              "        vertical-align: middle;\n",
              "    }\n",
              "\n",
              "    .dataframe tbody tr th {\n",
              "        vertical-align: top;\n",
              "    }\n",
              "\n",
              "    .dataframe thead th {\n",
              "        text-align: right;\n",
              "    }\n",
              "</style>\n",
              "<table border=\"1\" class=\"dataframe\">\n",
              "  <thead>\n",
              "    <tr style=\"text-align: right;\">\n",
              "      <th></th>\n",
              "      <th>building_id</th>\n",
              "      <th>meter</th>\n",
              "      <th>timestamp</th>\n",
              "      <th>meter_reading</th>\n",
              "      <th>site_id</th>\n",
              "      <th>primary_use</th>\n",
              "      <th>square_feet</th>\n",
              "      <th>year_built</th>\n",
              "      <th>floor_count</th>\n",
              "      <th>air_temperature</th>\n",
              "      <th>cloud_coverage</th>\n",
              "      <th>dew_temperature</th>\n",
              "      <th>precip_depth_1_hr</th>\n",
              "      <th>sea_level_pressure</th>\n",
              "      <th>wind_direction</th>\n",
              "      <th>wind_speed</th>\n",
              "      <th>month_datetime</th>\n",
              "      <th>weekofyear_datetime</th>\n",
              "      <th>dayofyear_datetime</th>\n",
              "      <th>hour_datetime</th>\n",
              "      <th>day_week</th>\n",
              "      <th>day_month_datetime</th>\n",
              "      <th>week_month_datetime</th>\n",
              "    </tr>\n",
              "  </thead>\n",
              "  <tbody>\n",
              "    <tr>\n",
              "      <th>0</th>\n",
              "      <td>0</td>\n",
              "      <td>0</td>\n",
              "      <td>2016-01-01</td>\n",
              "      <td>0.0</td>\n",
              "      <td>0</td>\n",
              "      <td>0</td>\n",
              "      <td>7432</td>\n",
              "      <td>2008</td>\n",
              "      <td>-1</td>\n",
              "      <td>25</td>\n",
              "      <td>6</td>\n",
              "      <td>20</td>\n",
              "      <td>-1</td>\n",
              "      <td>1019</td>\n",
              "      <td>0</td>\n",
              "      <td>0.0</td>\n",
              "      <td>1</td>\n",
              "      <td>53</td>\n",
              "      <td>1</td>\n",
              "      <td>0</td>\n",
              "      <td>4</td>\n",
              "      <td>1</td>\n",
              "      <td>1</td>\n",
              "    </tr>\n",
              "    <tr>\n",
              "      <th>2</th>\n",
              "      <td>2</td>\n",
              "      <td>0</td>\n",
              "      <td>2016-01-01</td>\n",
              "      <td>0.0</td>\n",
              "      <td>0</td>\n",
              "      <td>0</td>\n",
              "      <td>5376</td>\n",
              "      <td>1991</td>\n",
              "      <td>-1</td>\n",
              "      <td>25</td>\n",
              "      <td>6</td>\n",
              "      <td>20</td>\n",
              "      <td>-1</td>\n",
              "      <td>1019</td>\n",
              "      <td>0</td>\n",
              "      <td>0.0</td>\n",
              "      <td>1</td>\n",
              "      <td>53</td>\n",
              "      <td>1</td>\n",
              "      <td>0</td>\n",
              "      <td>4</td>\n",
              "      <td>1</td>\n",
              "      <td>1</td>\n",
              "    </tr>\n",
              "    <tr>\n",
              "      <th>6</th>\n",
              "      <td>6</td>\n",
              "      <td>0</td>\n",
              "      <td>2016-01-01</td>\n",
              "      <td>0.0</td>\n",
              "      <td>0</td>\n",
              "      <td>4</td>\n",
              "      <td>27926</td>\n",
              "      <td>1981</td>\n",
              "      <td>-1</td>\n",
              "      <td>25</td>\n",
              "      <td>6</td>\n",
              "      <td>20</td>\n",
              "      <td>-1</td>\n",
              "      <td>1019</td>\n",
              "      <td>0</td>\n",
              "      <td>0.0</td>\n",
              "      <td>1</td>\n",
              "      <td>53</td>\n",
              "      <td>1</td>\n",
              "      <td>0</td>\n",
              "      <td>4</td>\n",
              "      <td>1</td>\n",
              "      <td>1</td>\n",
              "    </tr>\n",
              "    <tr>\n",
              "      <th>7</th>\n",
              "      <td>7</td>\n",
              "      <td>0</td>\n",
              "      <td>2016-01-01</td>\n",
              "      <td>0.0</td>\n",
              "      <td>0</td>\n",
              "      <td>0</td>\n",
              "      <td>121074</td>\n",
              "      <td>1989</td>\n",
              "      <td>-1</td>\n",
              "      <td>25</td>\n",
              "      <td>6</td>\n",
              "      <td>20</td>\n",
              "      <td>-1</td>\n",
              "      <td>1019</td>\n",
              "      <td>0</td>\n",
              "      <td>0.0</td>\n",
              "      <td>1</td>\n",
              "      <td>53</td>\n",
              "      <td>1</td>\n",
              "      <td>0</td>\n",
              "      <td>4</td>\n",
              "      <td>1</td>\n",
              "      <td>1</td>\n",
              "    </tr>\n",
              "    <tr>\n",
              "      <th>9</th>\n",
              "      <td>9</td>\n",
              "      <td>0</td>\n",
              "      <td>2016-01-01</td>\n",
              "      <td>0.0</td>\n",
              "      <td>0</td>\n",
              "      <td>6</td>\n",
              "      <td>27000</td>\n",
              "      <td>2010</td>\n",
              "      <td>-1</td>\n",
              "      <td>25</td>\n",
              "      <td>6</td>\n",
              "      <td>20</td>\n",
              "      <td>-1</td>\n",
              "      <td>1019</td>\n",
              "      <td>0</td>\n",
              "      <td>0.0</td>\n",
              "      <td>1</td>\n",
              "      <td>53</td>\n",
              "      <td>1</td>\n",
              "      <td>0</td>\n",
              "      <td>4</td>\n",
              "      <td>1</td>\n",
              "      <td>1</td>\n",
              "    </tr>\n",
              "  </tbody>\n",
              "</table>\n",
              "</div>"
            ],
            "text/plain": [
              "   building_id  meter  ... day_month_datetime  week_month_datetime\n",
              "0            0      0  ...                  1                    1\n",
              "2            2      0  ...                  1                    1\n",
              "6            6      0  ...                  1                    1\n",
              "7            7      0  ...                  1                    1\n",
              "9            9      0  ...                  1                    1\n",
              "\n",
              "[5 rows x 23 columns]"
            ]
          },
          "metadata": {
            "tags": []
          },
          "execution_count": 9
        }
      ]
    },
    {
      "cell_type": "code",
      "metadata": {
        "id": "fm-UdpHj070Z",
        "colab_type": "code",
        "outputId": "98fea3e3-db01-43d9-cbb4-514277c5053f",
        "colab": {
          "base_uri": "https://localhost:8080/",
          "height": 102
        }
      },
      "source": [
        "le=joblib.load(data_dir+'label_encoder.pkl')\n",
        "le.classes_"
      ],
      "execution_count": 10,
      "outputs": [
        {
          "output_type": "execute_result",
          "data": {
            "text/plain": [
              "array(['Education', 'Entertainment/public assembly',\n",
              "       'Food sales and service', 'Healthcare', 'Lodging/residential',\n",
              "       'Manufacturing/industrial', 'Office', 'Other', 'Parking',\n",
              "       'Public services', 'Religious worship', 'Retail', 'Services',\n",
              "       'Technology/science', 'Utility', 'Warehouse/storage'], dtype=object)"
            ]
          },
          "metadata": {
            "tags": []
          },
          "execution_count": 10
        }
      ]
    },
    {
      "cell_type": "code",
      "metadata": {
        "id": "dCGBvYNc2tZg",
        "colab_type": "code",
        "colab": {}
      },
      "source": [
        "df['primary_use_label']=le.inverse_transform(df['primary_use'])"
      ],
      "execution_count": 0,
      "outputs": []
    },
    {
      "cell_type": "code",
      "metadata": {
        "id": "TzOD0cUlGogv",
        "colab_type": "code",
        "outputId": "6681a6ea-e970-45a1-9ea5-d5da3bf02dac",
        "colab": {
          "base_uri": "https://localhost:8080/",
          "height": 153
        }
      },
      "source": [
        "len(df.columns)\n",
        "df.columns"
      ],
      "execution_count": 12,
      "outputs": [
        {
          "output_type": "execute_result",
          "data": {
            "text/plain": [
              "24"
            ]
          },
          "metadata": {
            "tags": []
          },
          "execution_count": 12
        },
        {
          "output_type": "execute_result",
          "data": {
            "text/plain": [
              "Index(['building_id', 'meter', 'timestamp', 'meter_reading', 'site_id',\n",
              "       'primary_use', 'square_feet', 'year_built', 'floor_count',\n",
              "       'air_temperature', 'cloud_coverage', 'dew_temperature',\n",
              "       'precip_depth_1_hr', 'sea_level_pressure', 'wind_direction',\n",
              "       'wind_speed', 'month_datetime', 'weekofyear_datetime',\n",
              "       'dayofyear_datetime', 'hour_datetime', 'day_week', 'day_month_datetime',\n",
              "       'week_month_datetime', 'primary_use_label'],\n",
              "      dtype='object')"
            ]
          },
          "metadata": {
            "tags": []
          },
          "execution_count": 12
        }
      ]
    },
    {
      "cell_type": "markdown",
      "metadata": {
        "id": "6ieo4E5xAKdh",
        "colab_type": "text"
      },
      "source": [
        "#Echantillonnage\n",
        "Nous sélectionnons les batiments pour que l'apprentissage du modèle soit réalisé dans un temps raisonnable. Nous conservons uniquement les mesures réalisées sur le compteur d'électricité"
      ]
    },
    {
      "cell_type": "code",
      "metadata": {
        "id": "SZeGN0_OIV5u",
        "colab_type": "code",
        "outputId": "21176009-2653-4c46-bc49-f39fda3517ea",
        "colab": {
          "base_uri": "https://localhost:8080/",
          "height": 306
        }
      },
      "source": [
        "df['primary_use_label'].drop_duplicates()"
      ],
      "execution_count": 13,
      "outputs": [
        {
          "output_type": "execute_result",
          "data": {
            "text/plain": [
              "0                           Education\n",
              "6                 Lodging/residential\n",
              "9                              Office\n",
              "42                             Retail\n",
              "49                            Parking\n",
              "144                   Public services\n",
              "170     Entertainment/public assembly\n",
              "178                 Warehouse/storage\n",
              "214            Food sales and service\n",
              "228                 Religious worship\n",
              "278                        Healthcare\n",
              "442                           Utility\n",
              "665                             Other\n",
              "1235                         Services\n",
              "1407               Technology/science\n",
              "2120         Manufacturing/industrial\n",
              "Name: primary_use_label, dtype: object"
            ]
          },
          "metadata": {
            "tags": []
          },
          "execution_count": 13
        }
      ]
    },
    {
      "cell_type": "code",
      "metadata": {
        "id": "-Bo-P3aSIdBs",
        "colab_type": "code",
        "outputId": "89581645-475b-4189-a737-a76d6e2db561",
        "colab": {
          "base_uri": "https://localhost:8080/",
          "height": 34
        }
      },
      "source": [
        "df.shape\n",
        "df=df[(df['primary_use_label']=='Office')&(df['meter']==0)&(df['meter_reading']!=0)&(~df['primary_use'].isna())]\n",
        "df.shape"
      ],
      "execution_count": 14,
      "outputs": [
        {
          "output_type": "execute_result",
          "data": {
            "text/plain": [
              "(6634879, 24)"
            ]
          },
          "metadata": {
            "tags": []
          },
          "execution_count": 14
        },
        {
          "output_type": "execute_result",
          "data": {
            "text/plain": [
              "(806695, 24)"
            ]
          },
          "metadata": {
            "tags": []
          },
          "execution_count": 14
        }
      ]
    },
    {
      "cell_type": "code",
      "metadata": {
        "id": "leYZx6Vjk-KQ",
        "colab_type": "code",
        "outputId": "c2de0b55-94de-42ef-efd6-1cef0abd92f2",
        "colab": {
          "base_uri": "https://localhost:8080/",
          "height": 309
        }
      },
      "source": [
        "df.head()"
      ],
      "execution_count": 15,
      "outputs": [
        {
          "output_type": "execute_result",
          "data": {
            "text/html": [
              "<div>\n",
              "<style scoped>\n",
              "    .dataframe tbody tr th:only-of-type {\n",
              "        vertical-align: middle;\n",
              "    }\n",
              "\n",
              "    .dataframe tbody tr th {\n",
              "        vertical-align: top;\n",
              "    }\n",
              "\n",
              "    .dataframe thead th {\n",
              "        text-align: right;\n",
              "    }\n",
              "</style>\n",
              "<table border=\"1\" class=\"dataframe\">\n",
              "  <thead>\n",
              "    <tr style=\"text-align: right;\">\n",
              "      <th></th>\n",
              "      <th>building_id</th>\n",
              "      <th>meter</th>\n",
              "      <th>timestamp</th>\n",
              "      <th>meter_reading</th>\n",
              "      <th>site_id</th>\n",
              "      <th>primary_use</th>\n",
              "      <th>square_feet</th>\n",
              "      <th>year_built</th>\n",
              "      <th>floor_count</th>\n",
              "      <th>air_temperature</th>\n",
              "      <th>cloud_coverage</th>\n",
              "      <th>dew_temperature</th>\n",
              "      <th>precip_depth_1_hr</th>\n",
              "      <th>sea_level_pressure</th>\n",
              "      <th>wind_direction</th>\n",
              "      <th>wind_speed</th>\n",
              "      <th>month_datetime</th>\n",
              "      <th>weekofyear_datetime</th>\n",
              "      <th>dayofyear_datetime</th>\n",
              "      <th>hour_datetime</th>\n",
              "      <th>day_week</th>\n",
              "      <th>day_month_datetime</th>\n",
              "      <th>week_month_datetime</th>\n",
              "      <th>primary_use_label</th>\n",
              "    </tr>\n",
              "  </thead>\n",
              "  <tbody>\n",
              "    <tr>\n",
              "      <th>91</th>\n",
              "      <td>93</td>\n",
              "      <td>0</td>\n",
              "      <td>2016-01-01</td>\n",
              "      <td>52.420601</td>\n",
              "      <td>0</td>\n",
              "      <td>6</td>\n",
              "      <td>33370</td>\n",
              "      <td>1982</td>\n",
              "      <td>-1</td>\n",
              "      <td>25</td>\n",
              "      <td>6</td>\n",
              "      <td>20</td>\n",
              "      <td>-1</td>\n",
              "      <td>1019</td>\n",
              "      <td>0</td>\n",
              "      <td>0.0</td>\n",
              "      <td>1</td>\n",
              "      <td>53</td>\n",
              "      <td>1</td>\n",
              "      <td>0</td>\n",
              "      <td>4</td>\n",
              "      <td>1</td>\n",
              "      <td>1</td>\n",
              "      <td>Office</td>\n",
              "    </tr>\n",
              "    <tr>\n",
              "      <th>148</th>\n",
              "      <td>140</td>\n",
              "      <td>0</td>\n",
              "      <td>2016-01-01</td>\n",
              "      <td>8.020400</td>\n",
              "      <td>1</td>\n",
              "      <td>6</td>\n",
              "      <td>50020</td>\n",
              "      <td>-1</td>\n",
              "      <td>11</td>\n",
              "      <td>3</td>\n",
              "      <td>-1</td>\n",
              "      <td>2</td>\n",
              "      <td>-1</td>\n",
              "      <td>1020</td>\n",
              "      <td>11</td>\n",
              "      <td>3.1</td>\n",
              "      <td>1</td>\n",
              "      <td>53</td>\n",
              "      <td>1</td>\n",
              "      <td>0</td>\n",
              "      <td>4</td>\n",
              "      <td>1</td>\n",
              "      <td>1</td>\n",
              "      <td>Office</td>\n",
              "    </tr>\n",
              "    <tr>\n",
              "      <th>149</th>\n",
              "      <td>141</td>\n",
              "      <td>0</td>\n",
              "      <td>2016-01-01</td>\n",
              "      <td>20.648001</td>\n",
              "      <td>1</td>\n",
              "      <td>6</td>\n",
              "      <td>44789</td>\n",
              "      <td>1919</td>\n",
              "      <td>5</td>\n",
              "      <td>3</td>\n",
              "      <td>-1</td>\n",
              "      <td>2</td>\n",
              "      <td>-1</td>\n",
              "      <td>1020</td>\n",
              "      <td>11</td>\n",
              "      <td>3.1</td>\n",
              "      <td>1</td>\n",
              "      <td>53</td>\n",
              "      <td>1</td>\n",
              "      <td>0</td>\n",
              "      <td>4</td>\n",
              "      <td>1</td>\n",
              "      <td>1</td>\n",
              "      <td>Office</td>\n",
              "    </tr>\n",
              "    <tr>\n",
              "      <th>150</th>\n",
              "      <td>142</td>\n",
              "      <td>0</td>\n",
              "      <td>2016-01-01</td>\n",
              "      <td>13.377600</td>\n",
              "      <td>1</td>\n",
              "      <td>6</td>\n",
              "      <td>45348</td>\n",
              "      <td>-1</td>\n",
              "      <td>4</td>\n",
              "      <td>3</td>\n",
              "      <td>-1</td>\n",
              "      <td>2</td>\n",
              "      <td>-1</td>\n",
              "      <td>1020</td>\n",
              "      <td>11</td>\n",
              "      <td>3.1</td>\n",
              "      <td>1</td>\n",
              "      <td>53</td>\n",
              "      <td>1</td>\n",
              "      <td>0</td>\n",
              "      <td>4</td>\n",
              "      <td>1</td>\n",
              "      <td>1</td>\n",
              "      <td>Office</td>\n",
              "    </tr>\n",
              "    <tr>\n",
              "      <th>151</th>\n",
              "      <td>143</td>\n",
              "      <td>0</td>\n",
              "      <td>2016-01-01</td>\n",
              "      <td>15.500000</td>\n",
              "      <td>1</td>\n",
              "      <td>6</td>\n",
              "      <td>40085</td>\n",
              "      <td>-1</td>\n",
              "      <td>4</td>\n",
              "      <td>3</td>\n",
              "      <td>-1</td>\n",
              "      <td>2</td>\n",
              "      <td>-1</td>\n",
              "      <td>1020</td>\n",
              "      <td>11</td>\n",
              "      <td>3.1</td>\n",
              "      <td>1</td>\n",
              "      <td>53</td>\n",
              "      <td>1</td>\n",
              "      <td>0</td>\n",
              "      <td>4</td>\n",
              "      <td>1</td>\n",
              "      <td>1</td>\n",
              "      <td>Office</td>\n",
              "    </tr>\n",
              "  </tbody>\n",
              "</table>\n",
              "</div>"
            ],
            "text/plain": [
              "     building_id  meter  ... week_month_datetime  primary_use_label\n",
              "91            93      0  ...                   1             Office\n",
              "148          140      0  ...                   1             Office\n",
              "149          141      0  ...                   1             Office\n",
              "150          142      0  ...                   1             Office\n",
              "151          143      0  ...                   1             Office\n",
              "\n",
              "[5 rows x 24 columns]"
            ]
          },
          "metadata": {
            "tags": []
          },
          "execution_count": 15
        }
      ]
    },
    {
      "cell_type": "code",
      "metadata": {
        "id": "LeLmMhuyJlCW",
        "colab_type": "code",
        "outputId": "6931a36d-65aa-47ee-baaa-7e6085305fba",
        "colab": {
          "base_uri": "https://localhost:8080/",
          "height": 51
        }
      },
      "source": [
        "top5_building_id=df.groupby('building_id')['meter_reading'].count().sort_values(ascending=False).reset_index().head(1)['building_id']\n",
        "top5_building_id"
      ],
      "execution_count": 16,
      "outputs": [
        {
          "output_type": "execute_result",
          "data": {
            "text/plain": [
              "0    142\n",
              "Name: building_id, dtype: uint64"
            ]
          },
          "metadata": {
            "tags": []
          },
          "execution_count": 16
        }
      ]
    },
    {
      "cell_type": "code",
      "metadata": {
        "id": "b1k5Kh3ZKE2v",
        "colab_type": "code",
        "outputId": "32f7e745-a75b-4bf0-de6f-d3943fd8ad4b",
        "colab": {
          "base_uri": "https://localhost:8080/",
          "height": 34
        }
      },
      "source": [
        "df.shape\n",
        "df=df[df['building_id'].isin(top5_building_id)]\n",
        "df.shape"
      ],
      "execution_count": 17,
      "outputs": [
        {
          "output_type": "execute_result",
          "data": {
            "text/plain": [
              "(806695, 24)"
            ]
          },
          "metadata": {
            "tags": []
          },
          "execution_count": 17
        },
        {
          "output_type": "execute_result",
          "data": {
            "text/plain": [
              "(8784, 24)"
            ]
          },
          "metadata": {
            "tags": []
          },
          "execution_count": 17
        }
      ]
    },
    {
      "cell_type": "code",
      "metadata": {
        "id": "7kfLYSMr1v5O",
        "colab_type": "code",
        "outputId": "46a10300-68e8-47dc-b511-12e20943b92f",
        "colab": {
          "base_uri": "https://localhost:8080/",
          "height": 51
        }
      },
      "source": [
        "df['meter'].value_counts()"
      ],
      "execution_count": 18,
      "outputs": [
        {
          "output_type": "execute_result",
          "data": {
            "text/plain": [
              "0    8784\n",
              "Name: meter, dtype: int64"
            ]
          },
          "metadata": {
            "tags": []
          },
          "execution_count": 18
        }
      ]
    },
    {
      "cell_type": "code",
      "metadata": {
        "id": "1UUBnqQzcoRc",
        "colab_type": "code",
        "outputId": "1dd388d2-4c03-404e-8a5f-ef3d770ee7e2",
        "colab": {
          "base_uri": "https://localhost:8080/",
          "height": 51
        }
      },
      "source": [
        "print(df['timestamp'].min())\n",
        "print(df['timestamp'].max())"
      ],
      "execution_count": 19,
      "outputs": [
        {
          "output_type": "stream",
          "text": [
            "2016-01-01 00:00:00\n",
            "2016-12-31 23:00:00\n"
          ],
          "name": "stdout"
        }
      ]
    },
    {
      "cell_type": "code",
      "metadata": {
        "id": "Oam20OY5eMPP",
        "colab_type": "code",
        "outputId": "65315707-2de4-46aa-f91f-38f8825b0b71",
        "colab": {
          "base_uri": "https://localhost:8080/",
          "height": 34
        }
      },
      "source": [
        "print('fréquence des mesures : {}'.format(df.groupby('timestamp')['meter_reading'].mean().index.inferred_freq))"
      ],
      "execution_count": 20,
      "outputs": [
        {
          "output_type": "stream",
          "text": [
            "fréquence des mesures : H\n"
          ],
          "name": "stdout"
        }
      ]
    },
    {
      "cell_type": "markdown",
      "metadata": {
        "id": "ZdmrMtfvBmoA",
        "colab_type": "text"
      },
      "source": [
        "# Description des colonnes\n",
        "\n",
        "\n",
        "* air_temperature : température de l'air (degré Celsius)\n",
        "* building_id : foreign key pour les données sur les immeubles (building_metadata)\n",
        "* cloud_coverage : couverture nuageuse (oktas)\n",
        "* dew température : température de rosée (degré Celsius)\n",
        "* floor_count : nombre d'étages dans l'immeuble\n",
        "* meter : code du type de compteur {0: electricity, 1: chilledwater, 2: steam, 3: hotwater}. Tous les immeubles n'ont pas tous les types de compteur\n",
        "* meter_reading : Consommation d'énergie en kWh (avec erreurs de mesure possibles) (la \"**target**\")\n",
        "* precip_depth_1_hr : hauteur de précipitation en 1h (millimètre)\n",
        "* primary_use : indicateur de l'activité des occupants dans l'immeuble selon la définition EnergyStar\n",
        "* sea_level_pressure : pression au niveau de la mer (Millibar/hectopascals)\n",
        "* site_id : foreign key pour les données météo\n",
        "* square_feet : surface au plancher de l'immeuble (pied carré)\n",
        "* timestamp : date à laquelle la mesure a été prise. Le timestamp a été \"éclaté\" en plusieurs champs (heure, jour, année, jour dans la semaine...)\n",
        "* wind_direction : direction du vent (0 à 360 degré)\n",
        "* wind_speed : vitesse du vent (m/s)\n",
        "* year_built : année de construction de l'immeuble\n",
        "\n"
      ]
    },
    {
      "cell_type": "code",
      "metadata": {
        "id": "rYxRbGjGOGs0",
        "colab_type": "code",
        "outputId": "806014f5-b1c7-44d1-81a0-1ecc23c60249",
        "colab": {
          "base_uri": "https://localhost:8080/",
          "height": 442
        }
      },
      "source": [
        "# Valeurs manquantes (substitution réalisée dans le preprocessing, -1 ou moyenne)\n",
        "df.isna().sum()"
      ],
      "execution_count": 21,
      "outputs": [
        {
          "output_type": "execute_result",
          "data": {
            "text/plain": [
              "building_id            0\n",
              "meter                  0\n",
              "timestamp              0\n",
              "meter_reading          0\n",
              "site_id                0\n",
              "primary_use            0\n",
              "square_feet            0\n",
              "year_built             0\n",
              "floor_count            0\n",
              "air_temperature        0\n",
              "cloud_coverage         0\n",
              "dew_temperature        0\n",
              "precip_depth_1_hr      0\n",
              "sea_level_pressure     0\n",
              "wind_direction         0\n",
              "wind_speed             0\n",
              "month_datetime         0\n",
              "weekofyear_datetime    0\n",
              "dayofyear_datetime     0\n",
              "hour_datetime          0\n",
              "day_week               0\n",
              "day_month_datetime     0\n",
              "week_month_datetime    0\n",
              "primary_use_label      0\n",
              "dtype: int64"
            ]
          },
          "metadata": {
            "tags": []
          },
          "execution_count": 21
        }
      ]
    },
    {
      "cell_type": "markdown",
      "metadata": {
        "id": "4208ewky6EXP",
        "colab_type": "text"
      },
      "source": [
        "#Data Visualisation"
      ]
    },
    {
      "cell_type": "code",
      "metadata": {
        "id": "LAncqfQ22jMs",
        "colab_type": "code",
        "outputId": "81f72ade-bf57-4cbb-aab2-0bf2a3b76422",
        "colab": {
          "base_uri": "https://localhost:8080/",
          "height": 392
        }
      },
      "source": [
        "\n",
        "d=df.set_index('timestamp').groupby(['building_id']).resample('D')['meter_reading'].mean().reset_index()\n",
        "\n",
        "plt.figure(figsize=(10,5))\n",
        "sns.lineplot(x='timestamp',y='meter_reading',data=d,style='building_id',palette='ch:2.5,.25').set_title('consommation d\\'électricité moyenne quotidienne par batiment')\n",
        "\n",
        "plt.xticks(\n",
        "    rotation=45, \n",
        "    horizontalalignment='right',\n",
        "    fontweight='light',\n",
        "    fontsize='x-large'  \n",
        ");\n",
        "\n"
      ],
      "execution_count": 22,
      "outputs": [
        {
          "output_type": "display_data",
          "data": {
            "image/png": "[encoded data removed]",
            "text/plain": [
              "<Figure size 720x360 with 1 Axes>"
            ]
          },
          "metadata": {
            "tags": []
          }
        }
      ]
    },
    {
      "cell_type": "markdown",
      "metadata": {
        "id": "UZC5Ea6UOwqV",
        "colab_type": "text"
      },
      "source": [
        "# Features"
      ]
    },
    {
      "cell_type": "code",
      "metadata": {
        "id": "-yQoahc57hCE",
        "colab_type": "code",
        "colab": {}
      },
      "source": [
        "feature_cols=['primary_use',\n",
        " 'square_feet',\n",
        " 'year_built',\n",
        " 'floor_count',\n",
        " 'air_temperature',\n",
        " 'cloud_coverage',\n",
        " 'dew_temperature',\n",
        " 'precip_depth_1_hr',\n",
        " 'sea_level_pressure',\n",
        " 'wind_direction',\n",
        " 'wind_speed',\n",
        " 'month_datetime',\n",
        " 'weekofyear_datetime',\n",
        " 'dayofyear_datetime',\n",
        " 'hour_datetime',\n",
        " 'day_week',\n",
        " 'day_month_datetime',\n",
        " 'week_month_datetime']\n",
        "target_col='meter_reading'"
      ],
      "execution_count": 0,
      "outputs": []
    },
    {
      "cell_type": "markdown",
      "metadata": {
        "id": "mzHl--SHQl_N",
        "colab_type": "text"
      },
      "source": [
        "#Train / test split"
      ]
    },
    {
      "cell_type": "code",
      "metadata": {
        "id": "fQWEwIvqQq2O",
        "colab_type": "code",
        "outputId": "886c704f-9c01-462a-8547-8101c13fb008",
        "colab": {
          "base_uri": "https://localhost:8080/",
          "height": 34
        }
      },
      "source": [
        "train_df=df[df['timestamp'].dt.month<11]\n",
        "test_df=df[df['timestamp'].dt.month>=11]\n",
        "\n",
        "train_df.shape\n",
        "test_df.shape"
      ],
      "execution_count": 24,
      "outputs": [
        {
          "output_type": "execute_result",
          "data": {
            "text/plain": [
              "(7320, 24)"
            ]
          },
          "metadata": {
            "tags": []
          },
          "execution_count": 24
        },
        {
          "output_type": "execute_result",
          "data": {
            "text/plain": [
              "(1464, 24)"
            ]
          },
          "metadata": {
            "tags": []
          },
          "execution_count": 24
        }
      ]
    },
    {
      "cell_type": "markdown",
      "metadata": {
        "id": "x3bxW-xpVDug",
        "colab_type": "text"
      },
      "source": [
        "#Normalisation des données"
      ]
    },
    {
      "cell_type": "markdown",
      "metadata": {
        "id": "zYEDNZ1sLge4",
        "colab_type": "text"
      },
      "source": [
        "cf. https://jovianlin.io/why-is-normalization-important-in-neural-networks/"
      ]
    },
    {
      "cell_type": "code",
      "metadata": {
        "id": "0bQk01HJ3yen",
        "colab_type": "code",
        "outputId": "cafae316-dccc-477a-be9e-f80f11af1daf",
        "colab": {
          "base_uri": "https://localhost:8080/",
          "height": 607
        }
      },
      "source": [
        "train_stats = train_df[feature_cols].describe()\n",
        "train_stats = train_stats.transpose()\n",
        "train_stats"
      ],
      "execution_count": 25,
      "outputs": [
        {
          "output_type": "execute_result",
          "data": {
            "text/html": [
              "<div>\n",
              "<style scoped>\n",
              "    .dataframe tbody tr th:only-of-type {\n",
              "        vertical-align: middle;\n",
              "    }\n",
              "\n",
              "    .dataframe tbody tr th {\n",
              "        vertical-align: top;\n",
              "    }\n",
              "\n",
              "    .dataframe thead th {\n",
              "        text-align: right;\n",
              "    }\n",
              "</style>\n",
              "<table border=\"1\" class=\"dataframe\">\n",
              "  <thead>\n",
              "    <tr style=\"text-align: right;\">\n",
              "      <th></th>\n",
              "      <th>count</th>\n",
              "      <th>mean</th>\n",
              "      <th>std</th>\n",
              "      <th>min</th>\n",
              "      <th>25%</th>\n",
              "      <th>50%</th>\n",
              "      <th>75%</th>\n",
              "      <th>max</th>\n",
              "    </tr>\n",
              "  </thead>\n",
              "  <tbody>\n",
              "    <tr>\n",
              "      <th>primary_use</th>\n",
              "      <td>7320.0</td>\n",
              "      <td>6.000000</td>\n",
              "      <td>0.000000</td>\n",
              "      <td>6.0</td>\n",
              "      <td>6.00</td>\n",
              "      <td>6.0</td>\n",
              "      <td>6.00</td>\n",
              "      <td>6.0</td>\n",
              "    </tr>\n",
              "    <tr>\n",
              "      <th>square_feet</th>\n",
              "      <td>7320.0</td>\n",
              "      <td>45348.000000</td>\n",
              "      <td>0.000000</td>\n",
              "      <td>45348.0</td>\n",
              "      <td>45348.00</td>\n",
              "      <td>45348.0</td>\n",
              "      <td>45348.00</td>\n",
              "      <td>45348.0</td>\n",
              "    </tr>\n",
              "    <tr>\n",
              "      <th>year_built</th>\n",
              "      <td>7320.0</td>\n",
              "      <td>-1.000000</td>\n",
              "      <td>0.000000</td>\n",
              "      <td>-1.0</td>\n",
              "      <td>-1.00</td>\n",
              "      <td>-1.0</td>\n",
              "      <td>-1.00</td>\n",
              "      <td>-1.0</td>\n",
              "    </tr>\n",
              "    <tr>\n",
              "      <th>floor_count</th>\n",
              "      <td>7320.0</td>\n",
              "      <td>4.000000</td>\n",
              "      <td>0.000000</td>\n",
              "      <td>4.0</td>\n",
              "      <td>4.00</td>\n",
              "      <td>4.0</td>\n",
              "      <td>4.00</td>\n",
              "      <td>4.0</td>\n",
              "    </tr>\n",
              "    <tr>\n",
              "      <th>air_temperature</th>\n",
              "      <td>7320.0</td>\n",
              "      <td>12.204508</td>\n",
              "      <td>6.106077</td>\n",
              "      <td>-3.0</td>\n",
              "      <td>8.00</td>\n",
              "      <td>12.0</td>\n",
              "      <td>17.00</td>\n",
              "      <td>32.0</td>\n",
              "    </tr>\n",
              "    <tr>\n",
              "      <th>cloud_coverage</th>\n",
              "      <td>7320.0</td>\n",
              "      <td>-0.814891</td>\n",
              "      <td>0.433307</td>\n",
              "      <td>-1.0</td>\n",
              "      <td>-1.00</td>\n",
              "      <td>-1.0</td>\n",
              "      <td>-1.00</td>\n",
              "      <td>9.0</td>\n",
              "    </tr>\n",
              "    <tr>\n",
              "      <th>dew_temperature</th>\n",
              "      <td>7320.0</td>\n",
              "      <td>7.816257</td>\n",
              "      <td>5.181286</td>\n",
              "      <td>-8.0</td>\n",
              "      <td>4.00</td>\n",
              "      <td>8.0</td>\n",
              "      <td>12.00</td>\n",
              "      <td>20.0</td>\n",
              "    </tr>\n",
              "    <tr>\n",
              "      <th>precip_depth_1_hr</th>\n",
              "      <td>7320.0</td>\n",
              "      <td>-1.000000</td>\n",
              "      <td>0.000000</td>\n",
              "      <td>-1.0</td>\n",
              "      <td>-1.00</td>\n",
              "      <td>-1.0</td>\n",
              "      <td>-1.00</td>\n",
              "      <td>-1.0</td>\n",
              "    </tr>\n",
              "    <tr>\n",
              "      <th>sea_level_pressure</th>\n",
              "      <td>7320.0</td>\n",
              "      <td>1005.172951</td>\n",
              "      <td>97.234316</td>\n",
              "      <td>-1.0</td>\n",
              "      <td>1009.00</td>\n",
              "      <td>1016.0</td>\n",
              "      <td>1021.00</td>\n",
              "      <td>1036.0</td>\n",
              "    </tr>\n",
              "    <tr>\n",
              "      <th>wind_direction</th>\n",
              "      <td>7320.0</td>\n",
              "      <td>8.106421</td>\n",
              "      <td>4.476901</td>\n",
              "      <td>0.0</td>\n",
              "      <td>4.00</td>\n",
              "      <td>9.0</td>\n",
              "      <td>12.00</td>\n",
              "      <td>15.0</td>\n",
              "    </tr>\n",
              "    <tr>\n",
              "      <th>wind_speed</th>\n",
              "      <td>7320.0</td>\n",
              "      <td>4.090796</td>\n",
              "      <td>2.245922</td>\n",
              "      <td>0.0</td>\n",
              "      <td>2.60</td>\n",
              "      <td>3.6</td>\n",
              "      <td>5.10</td>\n",
              "      <td>18.5</td>\n",
              "    </tr>\n",
              "    <tr>\n",
              "      <th>month_datetime</th>\n",
              "      <td>7320.0</td>\n",
              "      <td>5.514754</td>\n",
              "      <td>2.873581</td>\n",
              "      <td>1.0</td>\n",
              "      <td>3.00</td>\n",
              "      <td>6.0</td>\n",
              "      <td>8.00</td>\n",
              "      <td>10.0</td>\n",
              "    </tr>\n",
              "    <tr>\n",
              "      <th>weekofyear_datetime</th>\n",
              "      <td>7320.0</td>\n",
              "      <td>22.377049</td>\n",
              "      <td>12.763219</td>\n",
              "      <td>1.0</td>\n",
              "      <td>11.00</td>\n",
              "      <td>22.0</td>\n",
              "      <td>33.00</td>\n",
              "      <td>53.0</td>\n",
              "    </tr>\n",
              "    <tr>\n",
              "      <th>dayofyear_datetime</th>\n",
              "      <td>7320.0</td>\n",
              "      <td>153.000000</td>\n",
              "      <td>88.051457</td>\n",
              "      <td>1.0</td>\n",
              "      <td>77.00</td>\n",
              "      <td>153.0</td>\n",
              "      <td>229.00</td>\n",
              "      <td>305.0</td>\n",
              "    </tr>\n",
              "    <tr>\n",
              "      <th>hour_datetime</th>\n",
              "      <td>7320.0</td>\n",
              "      <td>11.500000</td>\n",
              "      <td>6.922659</td>\n",
              "      <td>0.0</td>\n",
              "      <td>5.75</td>\n",
              "      <td>11.5</td>\n",
              "      <td>17.25</td>\n",
              "      <td>23.0</td>\n",
              "    </tr>\n",
              "    <tr>\n",
              "      <th>day_week</th>\n",
              "      <td>7320.0</td>\n",
              "      <td>3.009836</td>\n",
              "      <td>2.005842</td>\n",
              "      <td>0.0</td>\n",
              "      <td>1.00</td>\n",
              "      <td>3.0</td>\n",
              "      <td>5.00</td>\n",
              "      <td>6.0</td>\n",
              "    </tr>\n",
              "    <tr>\n",
              "      <th>day_month_datetime</th>\n",
              "      <td>7320.0</td>\n",
              "      <td>15.757377</td>\n",
              "      <td>8.813046</td>\n",
              "      <td>1.0</td>\n",
              "      <td>8.00</td>\n",
              "      <td>16.0</td>\n",
              "      <td>23.00</td>\n",
              "      <td>31.0</td>\n",
              "    </tr>\n",
              "    <tr>\n",
              "      <th>week_month_datetime</th>\n",
              "      <td>7320.0</td>\n",
              "      <td>2.704918</td>\n",
              "      <td>1.272032</td>\n",
              "      <td>1.0</td>\n",
              "      <td>2.00</td>\n",
              "      <td>3.0</td>\n",
              "      <td>4.00</td>\n",
              "      <td>5.0</td>\n",
              "    </tr>\n",
              "  </tbody>\n",
              "</table>\n",
              "</div>"
            ],
            "text/plain": [
              "                      count          mean  ...       75%      max\n",
              "primary_use          7320.0      6.000000  ...      6.00      6.0\n",
              "square_feet          7320.0  45348.000000  ...  45348.00  45348.0\n",
              "year_built           7320.0     -1.000000  ...     -1.00     -1.0\n",
              "floor_count          7320.0      4.000000  ...      4.00      4.0\n",
              "air_temperature      7320.0     12.204508  ...     17.00     32.0\n",
              "cloud_coverage       7320.0     -0.814891  ...     -1.00      9.0\n",
              "dew_temperature      7320.0      7.816257  ...     12.00     20.0\n",
              "precip_depth_1_hr    7320.0     -1.000000  ...     -1.00     -1.0\n",
              "sea_level_pressure   7320.0   1005.172951  ...   1021.00   1036.0\n",
              "wind_direction       7320.0      8.106421  ...     12.00     15.0\n",
              "wind_speed           7320.0      4.090796  ...      5.10     18.5\n",
              "month_datetime       7320.0      5.514754  ...      8.00     10.0\n",
              "weekofyear_datetime  7320.0     22.377049  ...     33.00     53.0\n",
              "dayofyear_datetime   7320.0    153.000000  ...    229.00    305.0\n",
              "hour_datetime        7320.0     11.500000  ...     17.25     23.0\n",
              "day_week             7320.0      3.009836  ...      5.00      6.0\n",
              "day_month_datetime   7320.0     15.757377  ...     23.00     31.0\n",
              "week_month_datetime  7320.0      2.704918  ...      4.00      5.0\n",
              "\n",
              "[18 rows x 8 columns]"
            ]
          },
          "metadata": {
            "tags": []
          },
          "execution_count": 25
        }
      ]
    },
    {
      "cell_type": "code",
      "metadata": {
        "id": "-QwPy-uoRYuD",
        "colab_type": "code",
        "colab": {}
      },
      "source": [
        "\n",
        "X_train=train_df[feature_cols]\n",
        "y_train=np.array(train_df[target_col])\n",
        "\n",
        "X_test=test_df[feature_cols]\n",
        "y_test=np.array(test_df[target_col])\n",
        "\n",
        "normalizer=preprocessing.Normalizer()\n",
        "\n",
        "X_train_norm=normalizer.fit_transform(X_train)\n",
        "X_test_norm=normalizer.transform(X_test)\n"
      ],
      "execution_count": 0,
      "outputs": []
    },
    {
      "cell_type": "code",
      "metadata": {
        "id": "ijfpnZkPmtEn",
        "colab_type": "code",
        "outputId": "4e569ff4-e4ca-4698-e443-e2f335e51514",
        "colab": {
          "base_uri": "https://localhost:8080/",
          "height": 224
        }
      },
      "source": [
        "X_train.head()"
      ],
      "execution_count": 27,
      "outputs": [
        {
          "output_type": "execute_result",
          "data": {
            "text/html": [
              "<div>\n",
              "<style scoped>\n",
              "    .dataframe tbody tr th:only-of-type {\n",
              "        vertical-align: middle;\n",
              "    }\n",
              "\n",
              "    .dataframe tbody tr th {\n",
              "        vertical-align: top;\n",
              "    }\n",
              "\n",
              "    .dataframe thead th {\n",
              "        text-align: right;\n",
              "    }\n",
              "</style>\n",
              "<table border=\"1\" class=\"dataframe\">\n",
              "  <thead>\n",
              "    <tr style=\"text-align: right;\">\n",
              "      <th></th>\n",
              "      <th>primary_use</th>\n",
              "      <th>square_feet</th>\n",
              "      <th>year_built</th>\n",
              "      <th>floor_count</th>\n",
              "      <th>air_temperature</th>\n",
              "      <th>cloud_coverage</th>\n",
              "      <th>dew_temperature</th>\n",
              "      <th>precip_depth_1_hr</th>\n",
              "      <th>sea_level_pressure</th>\n",
              "      <th>wind_direction</th>\n",
              "      <th>wind_speed</th>\n",
              "      <th>month_datetime</th>\n",
              "      <th>weekofyear_datetime</th>\n",
              "      <th>dayofyear_datetime</th>\n",
              "      <th>hour_datetime</th>\n",
              "      <th>day_week</th>\n",
              "      <th>day_month_datetime</th>\n",
              "      <th>week_month_datetime</th>\n",
              "    </tr>\n",
              "  </thead>\n",
              "  <tbody>\n",
              "    <tr>\n",
              "      <th>150</th>\n",
              "      <td>6</td>\n",
              "      <td>45348</td>\n",
              "      <td>-1</td>\n",
              "      <td>4</td>\n",
              "      <td>3</td>\n",
              "      <td>-1</td>\n",
              "      <td>2</td>\n",
              "      <td>-1</td>\n",
              "      <td>1020</td>\n",
              "      <td>11</td>\n",
              "      <td>3.1</td>\n",
              "      <td>1</td>\n",
              "      <td>53</td>\n",
              "      <td>1</td>\n",
              "      <td>0</td>\n",
              "      <td>4</td>\n",
              "      <td>1</td>\n",
              "      <td>1</td>\n",
              "    </tr>\n",
              "    <tr>\n",
              "      <th>2451</th>\n",
              "      <td>6</td>\n",
              "      <td>45348</td>\n",
              "      <td>-1</td>\n",
              "      <td>4</td>\n",
              "      <td>3</td>\n",
              "      <td>0</td>\n",
              "      <td>2</td>\n",
              "      <td>-1</td>\n",
              "      <td>1021</td>\n",
              "      <td>10</td>\n",
              "      <td>2.6</td>\n",
              "      <td>1</td>\n",
              "      <td>53</td>\n",
              "      <td>1</td>\n",
              "      <td>1</td>\n",
              "      <td>4</td>\n",
              "      <td>1</td>\n",
              "      <td>1</td>\n",
              "    </tr>\n",
              "    <tr>\n",
              "      <th>4744</th>\n",
              "      <td>6</td>\n",
              "      <td>45348</td>\n",
              "      <td>-1</td>\n",
              "      <td>4</td>\n",
              "      <td>2</td>\n",
              "      <td>0</td>\n",
              "      <td>1</td>\n",
              "      <td>-1</td>\n",
              "      <td>1021</td>\n",
              "      <td>0</td>\n",
              "      <td>0.0</td>\n",
              "      <td>1</td>\n",
              "      <td>53</td>\n",
              "      <td>1</td>\n",
              "      <td>2</td>\n",
              "      <td>4</td>\n",
              "      <td>1</td>\n",
              "      <td>1</td>\n",
              "    </tr>\n",
              "    <tr>\n",
              "      <th>7043</th>\n",
              "      <td>6</td>\n",
              "      <td>45348</td>\n",
              "      <td>-1</td>\n",
              "      <td>4</td>\n",
              "      <td>2</td>\n",
              "      <td>0</td>\n",
              "      <td>1</td>\n",
              "      <td>-1</td>\n",
              "      <td>1022</td>\n",
              "      <td>8</td>\n",
              "      <td>1.5</td>\n",
              "      <td>1</td>\n",
              "      <td>53</td>\n",
              "      <td>1</td>\n",
              "      <td>3</td>\n",
              "      <td>4</td>\n",
              "      <td>1</td>\n",
              "      <td>1</td>\n",
              "    </tr>\n",
              "    <tr>\n",
              "      <th>9339</th>\n",
              "      <td>6</td>\n",
              "      <td>45348</td>\n",
              "      <td>-1</td>\n",
              "      <td>4</td>\n",
              "      <td>2</td>\n",
              "      <td>0</td>\n",
              "      <td>1</td>\n",
              "      <td>-1</td>\n",
              "      <td>1022</td>\n",
              "      <td>5</td>\n",
              "      <td>1.5</td>\n",
              "      <td>1</td>\n",
              "      <td>53</td>\n",
              "      <td>1</td>\n",
              "      <td>4</td>\n",
              "      <td>4</td>\n",
              "      <td>1</td>\n",
              "      <td>1</td>\n",
              "    </tr>\n",
              "  </tbody>\n",
              "</table>\n",
              "</div>"
            ],
            "text/plain": [
              "      primary_use  square_feet  ...  day_month_datetime  week_month_datetime\n",
              "150             6        45348  ...                   1                    1\n",
              "2451            6        45348  ...                   1                    1\n",
              "4744            6        45348  ...                   1                    1\n",
              "7043            6        45348  ...                   1                    1\n",
              "9339            6        45348  ...                   1                    1\n",
              "\n",
              "[5 rows x 18 columns]"
            ]
          },
          "metadata": {
            "tags": []
          },
          "execution_count": 27
        }
      ]
    },
    {
      "cell_type": "code",
      "metadata": {
        "id": "gUfto6iNjz_B",
        "colab_type": "code",
        "outputId": "e90e7590-6f8a-484c-ff78-ad7d22376a44",
        "colab": {
          "base_uri": "https://localhost:8080/",
          "height": 204
        }
      },
      "source": [
        "pd.DataFrame(X_train_norm).head()"
      ],
      "execution_count": 28,
      "outputs": [
        {
          "output_type": "execute_result",
          "data": {
            "text/html": [
              "<div>\n",
              "<style scoped>\n",
              "    .dataframe tbody tr th:only-of-type {\n",
              "        vertical-align: middle;\n",
              "    }\n",
              "\n",
              "    .dataframe tbody tr th {\n",
              "        vertical-align: top;\n",
              "    }\n",
              "\n",
              "    .dataframe thead th {\n",
              "        text-align: right;\n",
              "    }\n",
              "</style>\n",
              "<table border=\"1\" class=\"dataframe\">\n",
              "  <thead>\n",
              "    <tr style=\"text-align: right;\">\n",
              "      <th></th>\n",
              "      <th>0</th>\n",
              "      <th>1</th>\n",
              "      <th>2</th>\n",
              "      <th>3</th>\n",
              "      <th>4</th>\n",
              "      <th>5</th>\n",
              "      <th>6</th>\n",
              "      <th>7</th>\n",
              "      <th>8</th>\n",
              "      <th>9</th>\n",
              "      <th>10</th>\n",
              "      <th>11</th>\n",
              "      <th>12</th>\n",
              "      <th>13</th>\n",
              "      <th>14</th>\n",
              "      <th>15</th>\n",
              "      <th>16</th>\n",
              "      <th>17</th>\n",
              "    </tr>\n",
              "  </thead>\n",
              "  <tbody>\n",
              "    <tr>\n",
              "      <th>0</th>\n",
              "      <td>0.000132</td>\n",
              "      <td>0.999746</td>\n",
              "      <td>-0.000022</td>\n",
              "      <td>0.000088</td>\n",
              "      <td>0.000066</td>\n",
              "      <td>-0.000022</td>\n",
              "      <td>0.000044</td>\n",
              "      <td>-0.000022</td>\n",
              "      <td>0.022487</td>\n",
              "      <td>0.000243</td>\n",
              "      <td>0.000068</td>\n",
              "      <td>0.000022</td>\n",
              "      <td>0.001168</td>\n",
              "      <td>0.000022</td>\n",
              "      <td>0.000000</td>\n",
              "      <td>0.000088</td>\n",
              "      <td>0.000022</td>\n",
              "      <td>0.000022</td>\n",
              "    </tr>\n",
              "    <tr>\n",
              "      <th>1</th>\n",
              "      <td>0.000132</td>\n",
              "      <td>0.999746</td>\n",
              "      <td>-0.000022</td>\n",
              "      <td>0.000088</td>\n",
              "      <td>0.000066</td>\n",
              "      <td>0.000000</td>\n",
              "      <td>0.000044</td>\n",
              "      <td>-0.000022</td>\n",
              "      <td>0.022509</td>\n",
              "      <td>0.000220</td>\n",
              "      <td>0.000057</td>\n",
              "      <td>0.000022</td>\n",
              "      <td>0.001168</td>\n",
              "      <td>0.000022</td>\n",
              "      <td>0.000022</td>\n",
              "      <td>0.000088</td>\n",
              "      <td>0.000022</td>\n",
              "      <td>0.000022</td>\n",
              "    </tr>\n",
              "    <tr>\n",
              "      <th>2</th>\n",
              "      <td>0.000132</td>\n",
              "      <td>0.999746</td>\n",
              "      <td>-0.000022</td>\n",
              "      <td>0.000088</td>\n",
              "      <td>0.000044</td>\n",
              "      <td>0.000000</td>\n",
              "      <td>0.000022</td>\n",
              "      <td>-0.000022</td>\n",
              "      <td>0.022509</td>\n",
              "      <td>0.000000</td>\n",
              "      <td>0.000000</td>\n",
              "      <td>0.000022</td>\n",
              "      <td>0.001168</td>\n",
              "      <td>0.000022</td>\n",
              "      <td>0.000044</td>\n",
              "      <td>0.000088</td>\n",
              "      <td>0.000022</td>\n",
              "      <td>0.000022</td>\n",
              "    </tr>\n",
              "    <tr>\n",
              "      <th>3</th>\n",
              "      <td>0.000132</td>\n",
              "      <td>0.999745</td>\n",
              "      <td>-0.000022</td>\n",
              "      <td>0.000088</td>\n",
              "      <td>0.000044</td>\n",
              "      <td>0.000000</td>\n",
              "      <td>0.000022</td>\n",
              "      <td>-0.000022</td>\n",
              "      <td>0.022531</td>\n",
              "      <td>0.000176</td>\n",
              "      <td>0.000033</td>\n",
              "      <td>0.000022</td>\n",
              "      <td>0.001168</td>\n",
              "      <td>0.000022</td>\n",
              "      <td>0.000066</td>\n",
              "      <td>0.000088</td>\n",
              "      <td>0.000022</td>\n",
              "      <td>0.000022</td>\n",
              "    </tr>\n",
              "    <tr>\n",
              "      <th>4</th>\n",
              "      <td>0.000132</td>\n",
              "      <td>0.999745</td>\n",
              "      <td>-0.000022</td>\n",
              "      <td>0.000088</td>\n",
              "      <td>0.000044</td>\n",
              "      <td>0.000000</td>\n",
              "      <td>0.000022</td>\n",
              "      <td>-0.000022</td>\n",
              "      <td>0.022531</td>\n",
              "      <td>0.000110</td>\n",
              "      <td>0.000033</td>\n",
              "      <td>0.000022</td>\n",
              "      <td>0.001168</td>\n",
              "      <td>0.000022</td>\n",
              "      <td>0.000088</td>\n",
              "      <td>0.000088</td>\n",
              "      <td>0.000022</td>\n",
              "      <td>0.000022</td>\n",
              "    </tr>\n",
              "  </tbody>\n",
              "</table>\n",
              "</div>"
            ],
            "text/plain": [
              "         0         1         2   ...        15        16        17\n",
              "0  0.000132  0.999746 -0.000022  ...  0.000088  0.000022  0.000022\n",
              "1  0.000132  0.999746 -0.000022  ...  0.000088  0.000022  0.000022\n",
              "2  0.000132  0.999746 -0.000022  ...  0.000088  0.000022  0.000022\n",
              "3  0.000132  0.999745 -0.000022  ...  0.000088  0.000022  0.000022\n",
              "4  0.000132  0.999745 -0.000022  ...  0.000088  0.000022  0.000022\n",
              "\n",
              "[5 rows x 18 columns]"
            ]
          },
          "metadata": {
            "tags": []
          },
          "execution_count": 28
        }
      ]
    },
    {
      "cell_type": "code",
      "metadata": {
        "id": "nrScHH-X-A2v",
        "colab_type": "code",
        "outputId": "b3b69ec4-b4a5-499d-bec4-0b498e172c7b",
        "colab": {
          "base_uri": "https://localhost:8080/",
          "height": 607
        }
      },
      "source": [
        "pd.DataFrame(X_train_norm).describe().transpose()"
      ],
      "execution_count": 29,
      "outputs": [
        {
          "output_type": "execute_result",
          "data": {
            "text/html": [
              "<div>\n",
              "<style scoped>\n",
              "    .dataframe tbody tr th:only-of-type {\n",
              "        vertical-align: middle;\n",
              "    }\n",
              "\n",
              "    .dataframe tbody tr th {\n",
              "        vertical-align: top;\n",
              "    }\n",
              "\n",
              "    .dataframe thead th {\n",
              "        text-align: right;\n",
              "    }\n",
              "</style>\n",
              "<table border=\"1\" class=\"dataframe\">\n",
              "  <thead>\n",
              "    <tr style=\"text-align: right;\">\n",
              "      <th></th>\n",
              "      <th>count</th>\n",
              "      <th>mean</th>\n",
              "      <th>std</th>\n",
              "      <th>min</th>\n",
              "      <th>25%</th>\n",
              "      <th>50%</th>\n",
              "      <th>75%</th>\n",
              "      <th>max</th>\n",
              "    </tr>\n",
              "  </thead>\n",
              "  <tbody>\n",
              "    <tr>\n",
              "      <th>0</th>\n",
              "      <td>7320.0</td>\n",
              "      <td>0.000132</td>\n",
              "      <td>3.407499e-09</td>\n",
              "      <td>0.000132</td>\n",
              "      <td>0.000132</td>\n",
              "      <td>0.000132</td>\n",
              "      <td>0.000132</td>\n",
              "      <td>0.000132</td>\n",
              "    </tr>\n",
              "    <tr>\n",
              "      <th>1</th>\n",
              "      <td>7320.0</td>\n",
              "      <td>0.999744</td>\n",
              "      <td>2.575388e-05</td>\n",
              "      <td>0.999716</td>\n",
              "      <td>0.999735</td>\n",
              "      <td>0.999742</td>\n",
              "      <td>0.999749</td>\n",
              "      <td>1.000000</td>\n",
              "    </tr>\n",
              "    <tr>\n",
              "      <th>2</th>\n",
              "      <td>7320.0</td>\n",
              "      <td>-0.000022</td>\n",
              "      <td>5.679165e-10</td>\n",
              "      <td>-0.000022</td>\n",
              "      <td>-0.000022</td>\n",
              "      <td>-0.000022</td>\n",
              "      <td>-0.000022</td>\n",
              "      <td>-0.000022</td>\n",
              "    </tr>\n",
              "    <tr>\n",
              "      <th>3</th>\n",
              "      <td>7320.0</td>\n",
              "      <td>0.000088</td>\n",
              "      <td>2.271666e-09</td>\n",
              "      <td>0.000088</td>\n",
              "      <td>0.000088</td>\n",
              "      <td>0.000088</td>\n",
              "      <td>0.000088</td>\n",
              "      <td>0.000088</td>\n",
              "    </tr>\n",
              "    <tr>\n",
              "      <th>4</th>\n",
              "      <td>7320.0</td>\n",
              "      <td>0.000269</td>\n",
              "      <td>1.346139e-04</td>\n",
              "      <td>-0.000066</td>\n",
              "      <td>0.000176</td>\n",
              "      <td>0.000265</td>\n",
              "      <td>0.000375</td>\n",
              "      <td>0.000705</td>\n",
              "    </tr>\n",
              "    <tr>\n",
              "      <th>5</th>\n",
              "      <td>7320.0</td>\n",
              "      <td>-0.000018</td>\n",
              "      <td>9.552659e-06</td>\n",
              "      <td>-0.000022</td>\n",
              "      <td>-0.000022</td>\n",
              "      <td>-0.000022</td>\n",
              "      <td>-0.000022</td>\n",
              "      <td>0.000198</td>\n",
              "    </tr>\n",
              "    <tr>\n",
              "      <th>6</th>\n",
              "      <td>7320.0</td>\n",
              "      <td>0.000172</td>\n",
              "      <td>1.142263e-04</td>\n",
              "      <td>-0.000176</td>\n",
              "      <td>0.000088</td>\n",
              "      <td>0.000176</td>\n",
              "      <td>0.000265</td>\n",
              "      <td>0.000441</td>\n",
              "    </tr>\n",
              "    <tr>\n",
              "      <th>7</th>\n",
              "      <td>7320.0</td>\n",
              "      <td>-0.000022</td>\n",
              "      <td>5.679165e-10</td>\n",
              "      <td>-0.000022</td>\n",
              "      <td>-0.000022</td>\n",
              "      <td>-0.000022</td>\n",
              "      <td>-0.000022</td>\n",
              "      <td>-0.000022</td>\n",
              "    </tr>\n",
              "    <tr>\n",
              "      <th>8</th>\n",
              "      <td>7320.0</td>\n",
              "      <td>0.022160</td>\n",
              "      <td>2.143611e-03</td>\n",
              "      <td>-0.000022</td>\n",
              "      <td>0.022244</td>\n",
              "      <td>0.022399</td>\n",
              "      <td>0.022509</td>\n",
              "      <td>0.022840</td>\n",
              "    </tr>\n",
              "    <tr>\n",
              "      <th>9</th>\n",
              "      <td>7320.0</td>\n",
              "      <td>0.000179</td>\n",
              "      <td>9.869780e-05</td>\n",
              "      <td>0.000000</td>\n",
              "      <td>0.000088</td>\n",
              "      <td>0.000198</td>\n",
              "      <td>0.000265</td>\n",
              "      <td>0.000331</td>\n",
              "    </tr>\n",
              "    <tr>\n",
              "      <th>10</th>\n",
              "      <td>7320.0</td>\n",
              "      <td>0.000090</td>\n",
              "      <td>4.951421e-05</td>\n",
              "      <td>0.000000</td>\n",
              "      <td>0.000057</td>\n",
              "      <td>0.000079</td>\n",
              "      <td>0.000112</td>\n",
              "      <td>0.000408</td>\n",
              "    </tr>\n",
              "    <tr>\n",
              "      <th>11</th>\n",
              "      <td>7320.0</td>\n",
              "      <td>0.000122</td>\n",
              "      <td>6.335001e-05</td>\n",
              "      <td>0.000022</td>\n",
              "      <td>0.000066</td>\n",
              "      <td>0.000132</td>\n",
              "      <td>0.000176</td>\n",
              "      <td>0.000221</td>\n",
              "    </tr>\n",
              "    <tr>\n",
              "      <th>12</th>\n",
              "      <td>7320.0</td>\n",
              "      <td>0.000493</td>\n",
              "      <td>2.813746e-04</td>\n",
              "      <td>0.000022</td>\n",
              "      <td>0.000243</td>\n",
              "      <td>0.000485</td>\n",
              "      <td>0.000728</td>\n",
              "      <td>0.001168</td>\n",
              "    </tr>\n",
              "    <tr>\n",
              "      <th>13</th>\n",
              "      <td>7320.0</td>\n",
              "      <td>0.003373</td>\n",
              "      <td>1.941156e-03</td>\n",
              "      <td>0.000022</td>\n",
              "      <td>0.001698</td>\n",
              "      <td>0.003373</td>\n",
              "      <td>0.005049</td>\n",
              "      <td>0.006726</td>\n",
              "    </tr>\n",
              "    <tr>\n",
              "      <th>14</th>\n",
              "      <td>7320.0</td>\n",
              "      <td>0.000254</td>\n",
              "      <td>1.526171e-04</td>\n",
              "      <td>0.000000</td>\n",
              "      <td>0.000127</td>\n",
              "      <td>0.000254</td>\n",
              "      <td>0.000380</td>\n",
              "      <td>0.000507</td>\n",
              "    </tr>\n",
              "    <tr>\n",
              "      <th>15</th>\n",
              "      <td>7320.0</td>\n",
              "      <td>0.000066</td>\n",
              "      <td>4.422089e-05</td>\n",
              "      <td>0.000000</td>\n",
              "      <td>0.000022</td>\n",
              "      <td>0.000066</td>\n",
              "      <td>0.000110</td>\n",
              "      <td>0.000132</td>\n",
              "    </tr>\n",
              "    <tr>\n",
              "      <th>16</th>\n",
              "      <td>7320.0</td>\n",
              "      <td>0.000347</td>\n",
              "      <td>1.942922e-04</td>\n",
              "      <td>0.000022</td>\n",
              "      <td>0.000176</td>\n",
              "      <td>0.000353</td>\n",
              "      <td>0.000507</td>\n",
              "      <td>0.000684</td>\n",
              "    </tr>\n",
              "    <tr>\n",
              "      <th>17</th>\n",
              "      <td>7320.0</td>\n",
              "      <td>0.000060</td>\n",
              "      <td>2.804318e-05</td>\n",
              "      <td>0.000022</td>\n",
              "      <td>0.000044</td>\n",
              "      <td>0.000066</td>\n",
              "      <td>0.000088</td>\n",
              "      <td>0.000110</td>\n",
              "    </tr>\n",
              "  </tbody>\n",
              "</table>\n",
              "</div>"
            ],
            "text/plain": [
              "     count      mean           std  ...       50%       75%       max\n",
              "0   7320.0  0.000132  3.407499e-09  ...  0.000132  0.000132  0.000132\n",
              "1   7320.0  0.999744  2.575388e-05  ...  0.999742  0.999749  1.000000\n",
              "2   7320.0 -0.000022  5.679165e-10  ... -0.000022 -0.000022 -0.000022\n",
              "3   7320.0  0.000088  2.271666e-09  ...  0.000088  0.000088  0.000088\n",
              "4   7320.0  0.000269  1.346139e-04  ...  0.000265  0.000375  0.000705\n",
              "5   7320.0 -0.000018  9.552659e-06  ... -0.000022 -0.000022  0.000198\n",
              "6   7320.0  0.000172  1.142263e-04  ...  0.000176  0.000265  0.000441\n",
              "7   7320.0 -0.000022  5.679165e-10  ... -0.000022 -0.000022 -0.000022\n",
              "8   7320.0  0.022160  2.143611e-03  ...  0.022399  0.022509  0.022840\n",
              "9   7320.0  0.000179  9.869780e-05  ...  0.000198  0.000265  0.000331\n",
              "10  7320.0  0.000090  4.951421e-05  ...  0.000079  0.000112  0.000408\n",
              "11  7320.0  0.000122  6.335001e-05  ...  0.000132  0.000176  0.000221\n",
              "12  7320.0  0.000493  2.813746e-04  ...  0.000485  0.000728  0.001168\n",
              "13  7320.0  0.003373  1.941156e-03  ...  0.003373  0.005049  0.006726\n",
              "14  7320.0  0.000254  1.526171e-04  ...  0.000254  0.000380  0.000507\n",
              "15  7320.0  0.000066  4.422089e-05  ...  0.000066  0.000110  0.000132\n",
              "16  7320.0  0.000347  1.942922e-04  ...  0.000353  0.000507  0.000684\n",
              "17  7320.0  0.000060  2.804318e-05  ...  0.000066  0.000088  0.000110\n",
              "\n",
              "[18 rows x 8 columns]"
            ]
          },
          "metadata": {
            "tags": []
          },
          "execution_count": 29
        }
      ]
    },
    {
      "cell_type": "markdown",
      "metadata": {
        "id": "uTfzwHpZ4fRx",
        "colab_type": "text"
      },
      "source": [
        "A noter, la normalisation devra être appliquée sur toute nouvelle donnée soumise au modèle par la suite"
      ]
    },
    {
      "cell_type": "markdown",
      "metadata": {
        "id": "1bUvQXb82pPE",
        "colab_type": "text"
      },
      "source": [
        "#Apprentissage"
      ]
    },
    {
      "cell_type": "code",
      "metadata": {
        "id": "2rDAM8Im2vUE",
        "colab_type": "code",
        "colab": {}
      },
      "source": [
        "def build_model(feature_keys_len):\n",
        "  model = keras.Sequential([\n",
        "    layers.Dense(64, activation='relu',input_shape=[feature_keys_len]),\n",
        "    layers.Dense(64, activation='relu'),\n",
        "    layers.Dense(64, activation='relu'),\n",
        "    layers.Dense(64, activation='relu'),\n",
        "    layers.Dense(64, activation='relu'),\n",
        "    layers.Dense(1)\n",
        "  ])  \n",
        "  optimizer = keras.optimizers.RMSprop(0.01)  \n",
        "  model.compile(loss='mean_squared_error',\n",
        "              optimizer='rmsprop',\n",
        "              metrics=['mean_absolute_error', 'mean_squared_error'])\n",
        "  \n",
        "  return model\n",
        "\n",
        "model=build_model(len(train_df[feature_cols].keys()))"
      ],
      "execution_count": 0,
      "outputs": []
    },
    {
      "cell_type": "code",
      "metadata": {
        "id": "Rr8U6Lfg209X",
        "colab_type": "code",
        "outputId": "0f55eb34-a1b8-4cb3-ff67-d2cea6ec9a00",
        "colab": {
          "base_uri": "https://localhost:8080/",
          "height": 357
        }
      },
      "source": [
        "model.summary()"
      ],
      "execution_count": 31,
      "outputs": [
        {
          "output_type": "stream",
          "text": [
            "Model: \"sequential\"\n",
            "_________________________________________________________________\n",
            "Layer (type)                 Output Shape              Param #   \n",
            "=================================================================\n",
            "dense (Dense)                (None, 64)                1216      \n",
            "_________________________________________________________________\n",
            "dense_1 (Dense)              (None, 64)                4160      \n",
            "_________________________________________________________________\n",
            "dense_2 (Dense)              (None, 64)                4160      \n",
            "_________________________________________________________________\n",
            "dense_3 (Dense)              (None, 64)                4160      \n",
            "_________________________________________________________________\n",
            "dense_4 (Dense)              (None, 64)                4160      \n",
            "_________________________________________________________________\n",
            "dense_5 (Dense)              (None, 1)                 65        \n",
            "=================================================================\n",
            "Total params: 17,921\n",
            "Trainable params: 17,921\n",
            "Non-trainable params: 0\n",
            "_________________________________________________________________\n"
          ],
          "name": "stdout"
        }
      ]
    },
    {
      "cell_type": "code",
      "metadata": {
        "id": "m7HwA5Xq48wP",
        "colab_type": "code",
        "outputId": "695bc04c-670f-4cb0-ec49-cc5a0ab69d78",
        "colab": {
          "base_uri": "https://localhost:8080/",
          "height": 85
        }
      },
      "source": [
        "BATCH_SIZE=64\n",
        "EPOCHS = 500\n",
        "\n",
        "# Display training progress by printing a single dot for each completed epoch\n",
        "class PrintDot(keras.callbacks.Callback):\n",
        "  def on_epoch_end(self, epoch, logs):\n",
        "    if epoch % 50 == 0: print('|')\n",
        "    print('.', end='')\n",
        "\n",
        "early_stop = keras.callbacks.EarlyStopping(monitor='mean_absolute_error', patience=20)\n",
        "\n",
        "history = model.fit(\n",
        "  X_train_norm, y_train,\n",
        "  batch_size=BATCH_SIZE,\n",
        "  epochs=EPOCHS, \n",
        "  validation_split = 0.2, \n",
        "  verbose=0,\n",
        "  callbacks=[early_stop,PrintDot()])\n"
      ],
      "execution_count": 32,
      "outputs": [
        {
          "output_type": "stream",
          "text": [
            "|\n",
            "..................................................|\n",
            "..................................................|\n",
            "................."
          ],
          "name": "stdout"
        }
      ]
    },
    {
      "cell_type": "code",
      "metadata": {
        "id": "sn4qM02wBqqF",
        "colab_type": "code",
        "outputId": "bb430c9c-b995-4c2d-9553-f8d5b255aae4",
        "colab": {
          "base_uri": "https://localhost:8080/",
          "height": 204
        }
      },
      "source": [
        "\n",
        "hist = pd.DataFrame(history.history)\n",
        "hist['epoch'] = history.epoch\n",
        "hist.tail()"
      ],
      "execution_count": 33,
      "outputs": [
        {
          "output_type": "execute_result",
          "data": {
            "text/html": [
              "<div>\n",
              "<style scoped>\n",
              "    .dataframe tbody tr th:only-of-type {\n",
              "        vertical-align: middle;\n",
              "    }\n",
              "\n",
              "    .dataframe tbody tr th {\n",
              "        vertical-align: top;\n",
              "    }\n",
              "\n",
              "    .dataframe thead th {\n",
              "        text-align: right;\n",
              "    }\n",
              "</style>\n",
              "<table border=\"1\" class=\"dataframe\">\n",
              "  <thead>\n",
              "    <tr style=\"text-align: right;\">\n",
              "      <th></th>\n",
              "      <th>loss</th>\n",
              "      <th>mean_absolute_error</th>\n",
              "      <th>mean_squared_error</th>\n",
              "      <th>val_loss</th>\n",
              "      <th>val_mean_absolute_error</th>\n",
              "      <th>val_mean_squared_error</th>\n",
              "      <th>epoch</th>\n",
              "    </tr>\n",
              "  </thead>\n",
              "  <tbody>\n",
              "    <tr>\n",
              "      <th>112</th>\n",
              "      <td>79.055142</td>\n",
              "      <td>7.018118</td>\n",
              "      <td>79.055138</td>\n",
              "      <td>62.452738</td>\n",
              "      <td>6.608039</td>\n",
              "      <td>62.452721</td>\n",
              "      <td>112</td>\n",
              "    </tr>\n",
              "    <tr>\n",
              "      <th>113</th>\n",
              "      <td>79.013616</td>\n",
              "      <td>7.006173</td>\n",
              "      <td>79.013626</td>\n",
              "      <td>63.332431</td>\n",
              "      <td>6.134792</td>\n",
              "      <td>63.332436</td>\n",
              "      <td>113</td>\n",
              "    </tr>\n",
              "    <tr>\n",
              "      <th>114</th>\n",
              "      <td>78.370468</td>\n",
              "      <td>6.993119</td>\n",
              "      <td>78.370461</td>\n",
              "      <td>61.886068</td>\n",
              "      <td>6.290779</td>\n",
              "      <td>61.886074</td>\n",
              "      <td>114</td>\n",
              "    </tr>\n",
              "    <tr>\n",
              "      <th>115</th>\n",
              "      <td>78.180463</td>\n",
              "      <td>6.984795</td>\n",
              "      <td>78.180428</td>\n",
              "      <td>62.085221</td>\n",
              "      <td>6.148381</td>\n",
              "      <td>62.085213</td>\n",
              "      <td>115</td>\n",
              "    </tr>\n",
              "    <tr>\n",
              "      <th>116</th>\n",
              "      <td>78.847177</td>\n",
              "      <td>7.026603</td>\n",
              "      <td>78.847191</td>\n",
              "      <td>63.845502</td>\n",
              "      <td>6.056984</td>\n",
              "      <td>63.845516</td>\n",
              "      <td>116</td>\n",
              "    </tr>\n",
              "  </tbody>\n",
              "</table>\n",
              "</div>"
            ],
            "text/plain": [
              "          loss  mean_absolute_error  ...  val_mean_squared_error  epoch\n",
              "112  79.055142             7.018118  ...               62.452721    112\n",
              "113  79.013616             7.006173  ...               63.332436    113\n",
              "114  78.370468             6.993119  ...               61.886074    114\n",
              "115  78.180463             6.984795  ...               62.085213    115\n",
              "116  78.847177             7.026603  ...               63.845516    116\n",
              "\n",
              "[5 rows x 7 columns]"
            ]
          },
          "metadata": {
            "tags": []
          },
          "execution_count": 33
        }
      ]
    },
    {
      "cell_type": "code",
      "metadata": {
        "id": "cRB70u0i8IvL",
        "colab_type": "code",
        "outputId": "7677c2f2-9137-4a1e-ddac-767f591fe8f2",
        "colab": {
          "base_uri": "https://localhost:8080/",
          "height": 541
        }
      },
      "source": [
        "def plot_history(history):\n",
        "  hist = pd.DataFrame(history.history)\n",
        "  hist['epoch'] = history.epoch\n",
        "\n",
        "  plt.figure()\n",
        "  plt.xlabel('Epoch')\n",
        "  plt.ylabel('Mean Abs Error')\n",
        "  plt.plot(hist['epoch'], hist['mean_absolute_error'],\n",
        "           label='Train Error')\n",
        "  plt.plot(hist['epoch'], hist['val_mean_absolute_error'],\n",
        "           label = 'Val Error')\n",
        "  #plt.ylim([0,5])\n",
        "  plt.legend()\n",
        "\n",
        "  plt.figure()\n",
        "  plt.xlabel('Epoch')\n",
        "  plt.ylabel('Mean Square Error')\n",
        "  plt.plot(hist['epoch'], hist['mean_squared_error'],\n",
        "           label='Train Error')\n",
        "  plt.plot(hist['epoch'], hist['val_mean_squared_error'],\n",
        "           label = 'Val Error')\n",
        "  #plt.ylim([0,20])\n",
        "  plt.legend()\n",
        "  plt.show()\n",
        "\n",
        "\n",
        "plot_history(history)"
      ],
      "execution_count": 34,
      "outputs": [
        {
          "output_type": "display_data",
          "data": {
            "image/png": "[encoded data removed]",
            "text/plain": [
              "<Figure size 432x288 with 1 Axes>"
            ]
          },
          "metadata": {
            "tags": []
          }
        },
        {
          "output_type": "display_data",
          "data": {
            "image/png": "[encoded data removed]",
            "text/plain": [
              "<Figure size 432x288 with 1 Axes>"
            ]
          },
          "metadata": {
            "tags": []
          }
        }
      ]
    },
    {
      "cell_type": "code",
      "metadata": {
        "id": "oBF5uY6T-nIV",
        "colab_type": "code",
        "outputId": "6ac2c3ad-a0e3-4938-8158-fc06fc8f0168",
        "colab": {
          "base_uri": "https://localhost:8080/",
          "height": 51
        }
      },
      "source": [
        "loss, mae, mse = model.evaluate(X_test_norm, y_test, verbose=2)\n",
        "\n",
        "print(\"Testing set Mean Abs Error: {:5.2f}\".format(mae))\n"
      ],
      "execution_count": 35,
      "outputs": [
        {
          "output_type": "stream",
          "text": [
            "1464/1 - 0s - loss: 76.9381 - mean_absolute_error: 7.6839 - mean_squared_error: 131.3438\n",
            "Testing set Mean Abs Error:  7.68\n"
          ],
          "name": "stdout"
        }
      ]
    },
    {
      "cell_type": "markdown",
      "metadata": {
        "id": "UA2iLqnVTG71",
        "colab_type": "text"
      },
      "source": [
        "#Prédiction"
      ]
    },
    {
      "cell_type": "code",
      "metadata": {
        "id": "tVyRdj46-1lw",
        "colab_type": "code",
        "colab": {}
      },
      "source": [
        "y_pred = model.predict(X_test_norm).flatten()"
      ],
      "execution_count": 0,
      "outputs": []
    },
    {
      "cell_type": "code",
      "metadata": {
        "id": "unIbJGuwCOyb",
        "colab_type": "code",
        "colab": {}
      },
      "source": [
        "test_df['pred']=y_pred"
      ],
      "execution_count": 0,
      "outputs": []
    },
    {
      "cell_type": "code",
      "metadata": {
        "id": "XU4WkMqVCxTR",
        "colab_type": "code",
        "outputId": "cc5976cc-fa2b-422f-9e67-ea47b30799c8",
        "colab": {
          "base_uri": "https://localhost:8080/",
          "height": 51
        }
      },
      "source": [
        "test_df['building_id'].drop_duplicates()"
      ],
      "execution_count": 38,
      "outputs": [
        {
          "output_type": "execute_result",
          "data": {
            "text/plain": [
              "16800431    142\n",
              "Name: building_id, dtype: uint16"
            ]
          },
          "metadata": {
            "tags": []
          },
          "execution_count": 38
        }
      ]
    },
    {
      "cell_type": "code",
      "metadata": {
        "id": "Pmr0AraWC9JQ",
        "colab_type": "code",
        "outputId": "1d70fe31-f791-4919-e5fa-74998947ccc2",
        "colab": {
          "base_uri": "https://localhost:8080/",
          "height": 367
        }
      },
      "source": [
        "data=test_df.set_index('timestamp')\n",
        "\n",
        "building_list=test_df['building_id'].unique().tolist()\n",
        "\n",
        "for b in building_list:\n",
        "  plt.figure(figsize=(15,5))\n",
        "  sns.lineplot(data=data[data['building_id']==b][[target_col,'pred']]).set_title(b)\n",
        "\n"
      ],
      "execution_count": 39,
      "outputs": [
        {
          "output_type": "execute_result",
          "data": {
            "text/plain": [
              "<Figure size 1080x360 with 0 Axes>"
            ]
          },
          "metadata": {
            "tags": []
          },
          "execution_count": 39
        },
        {
          "output_type": "execute_result",
          "data": {
            "text/plain": [
              "Text(0.5, 1.0, '142')"
            ]
          },
          "metadata": {
            "tags": []
          },
          "execution_count": 39
        },
        {
          "output_type": "display_data",
          "data": {
            "image/png": "[encoded data removed]",
            "text/plain": [
              "<Figure size 1080x360 with 1 Axes>"
            ]
          },
          "metadata": {
            "tags": []
          }
        }
      ]
    },
    {
      "cell_type": "markdown",
      "metadata": {
        "id": "MNy53nwPcrxF",
        "colab_type": "text"
      },
      "source": [
        "# Annexes - LSTM"
      ]
    },
    {
      "cell_type": "code",
      "metadata": {
        "id": "nv5u3W7BdErL",
        "colab_type": "code",
        "colab": {}
      },
      "source": [
        "# cf. https://www.tensorflow.org/tutorials/structured_data/time_series#multi-step_model\n",
        "\n",
        "def multivariate_data(dataset, target, start_index, end_index, history_size,\n",
        "                      target_size, step, single_step=False):\n",
        "  data = []\n",
        "  labels = []\n",
        "\n",
        "  start_index = start_index + history_size\n",
        "  if end_index is None:\n",
        "    end_index = len(dataset) - target_size\n",
        "    print(end_index)\n",
        "\n",
        "  for i in range(start_index, end_index):\n",
        "    indices = range(i-history_size, i, step)\n",
        "    data.append(dataset[indices])\n",
        "\n",
        "    if single_step:\n",
        "      labels.append(target[i+target_size])\n",
        "    else:\n",
        "      labels.append(target[i:i+target_size])\n",
        "\n",
        "  return np.array(data), np.array(labels)\n"
      ],
      "execution_count": 0,
      "outputs": []
    },
    {
      "cell_type": "code",
      "metadata": {
        "id": "s_cmRVHyddNS",
        "colab_type": "code",
        "outputId": "beb0cef9-e04b-4d0d-d757-c3de26f95f1f",
        "colab": {
          "base_uri": "https://localhost:8080/",
          "height": 34
        }
      },
      "source": [
        "TRAIN_SPLIT=np.int16(np.ceil(len(X_train)*.8))\n",
        "TRAIN_SPLIT\n",
        "\n",
        "future_target = 24*5 # 24 h * 5j  = 120\n",
        "past_history = 24*5 # 24h * 5 j = 120\n",
        "STEP=6"
      ],
      "execution_count": 118,
      "outputs": [
        {
          "output_type": "execute_result",
          "data": {
            "text/plain": [
              "5856"
            ]
          },
          "metadata": {
            "tags": []
          },
          "execution_count": 118
        }
      ]
    },
    {
      "cell_type": "code",
      "metadata": {
        "id": "_qTbydG3gwG-",
        "colab_type": "code",
        "outputId": "6731c38b-11eb-4bbe-971a-c909488c9132",
        "colab": {
          "base_uri": "https://localhost:8080/",
          "height": 34
        }
      },
      "source": [
        "train_norm=pd.concat([pd.DataFrame(y_train),pd.DataFrame(X_train_norm)],axis=1)\n",
        "test_norm=pd.concat([pd.DataFrame(y_test),pd.DataFrame(X_test_norm)],axis=1)\n",
        "dataset=np.array(pd.concat([train_norm,test_norm],axis=0))\n",
        "dataset.shape"
      ],
      "execution_count": 119,
      "outputs": [
        {
          "output_type": "execute_result",
          "data": {
            "text/plain": [
              "(8784, 19)"
            ]
          },
          "metadata": {
            "tags": []
          },
          "execution_count": 119
        }
      ]
    },
    {
      "cell_type": "code",
      "metadata": {
        "id": "tW-bvPCDe9IM",
        "colab_type": "code",
        "colab": {
          "base_uri": "https://localhost:8080/",
          "height": 34
        },
        "outputId": "e30877b0-0c61-4dd3-a0c0-7ad3bd455d4e"
      },
      "source": [
        "df.shape[0]"
      ],
      "execution_count": 120,
      "outputs": [
        {
          "output_type": "execute_result",
          "data": {
            "text/plain": [
              "8784"
            ]
          },
          "metadata": {
            "tags": []
          },
          "execution_count": 120
        }
      ]
    },
    {
      "cell_type": "code",
      "metadata": {
        "id": "_18PerAGDHFY",
        "colab_type": "code",
        "colab": {}
      },
      "source": [
        "X_train_multi, y_train_multi = multivariate_data(dataset, dataset[:, 0], 0,\n",
        "                                                 TRAIN_SPLIT, past_history,\n",
        "                                                 future_target, STEP,single_step=False)"
      ],
      "execution_count": 0,
      "outputs": []
    },
    {
      "cell_type": "code",
      "metadata": {
        "id": "s4iJ1ZJofr1n",
        "colab_type": "code",
        "colab": {
          "base_uri": "https://localhost:8080/",
          "height": 34
        },
        "outputId": "cc6799a9-e83e-40d6-c4cd-9c00439d9874"
      },
      "source": [
        "X_val_multi, y_val_multi = multivariate_data(dataset=dataset, \n",
        "                                             target=dataset[:, 0],\n",
        "                                             start_index=TRAIN_SPLIT, \n",
        "                                             end_index=None, \n",
        "                                             history_size=past_history,\n",
        "                                             target_size=future_target, \n",
        "                                             step=STEP,\n",
        "                                             single_step=False)"
      ],
      "execution_count": 155,
      "outputs": [
        {
          "output_type": "stream",
          "text": [
            "8664\n"
          ],
          "name": "stdout"
        }
      ]
    },
    {
      "cell_type": "code",
      "metadata": {
        "id": "5yudYT6ueYUf",
        "colab_type": "code",
        "outputId": "d28cca22-5fd5-4978-f1a1-26c82fa734c8",
        "colab": {
          "base_uri": "https://localhost:8080/",
          "height": 68
        }
      },
      "source": [
        "print ('Single window of past history : {}'.format(X_train_multi[0].shape))\n",
        "print ('\\n Target to predict : {}'.format(y_train_multi[0].shape))"
      ],
      "execution_count": 156,
      "outputs": [
        {
          "output_type": "stream",
          "text": [
            "Single window of past history : (20, 19)\n",
            "\n",
            " Target to predict : (120,)\n"
          ],
          "name": "stdout"
        }
      ]
    },
    {
      "cell_type": "code",
      "metadata": {
        "id": "GkK0ZfTgevem",
        "colab_type": "code",
        "colab": {}
      },
      "source": [
        "BATCH_SIZE = 32\n",
        "BUFFER_SIZE = 1000\n",
        "\n",
        "train_data_multi = tf.data.Dataset.from_tensor_slices((X_train_multi, y_train_multi))\n",
        "train_data_multi = train_data_multi.cache().shuffle(BUFFER_SIZE).batch(BATCH_SIZE).repeat()\n",
        "\n",
        "val_data_multi = tf.data.Dataset.from_tensor_slices((X_val_multi, y_val_multi))\n",
        "val_data_multi = val_data_multi.batch(BATCH_SIZE).repeat()"
      ],
      "execution_count": 0,
      "outputs": []
    },
    {
      "cell_type": "code",
      "metadata": {
        "id": "naaa7fhnfLkj",
        "colab_type": "code",
        "outputId": "5ee75aab-b0a3-4b5d-a1e0-2aadae144d9f",
        "colab": {
          "base_uri": "https://localhost:8080/",
          "height": 374
        }
      },
      "source": [
        "def create_time_steps(length):\n",
        "  time_steps = []\n",
        "  for i in range(-length, 0, 1):\n",
        "    time_steps.append(i)\n",
        "  return time_steps\n",
        "\n",
        "def multi_step_plot(history, true_future, prediction):\n",
        "  plt.figure(figsize=(12, 6))\n",
        "  num_in = create_time_steps(len(history))\n",
        "  num_out = len(true_future)\n",
        "\n",
        "  plt.plot(num_in, np.array(history[:, 1]), label='History')\n",
        "  plt.plot(np.arange(num_out)/STEP, np.array(true_future), 'bo',\n",
        "           label='True Future')\n",
        "  if prediction.any():\n",
        "    plt.plot(np.arange(num_out)/STEP, np.array(prediction), 'ro',\n",
        "             label='Predicted Future')\n",
        "  plt.legend(loc='upper left')\n",
        "  plt.show()\n",
        "\n",
        "for x, y in train_data_multi.take(1):\n",
        "  multi_step_plot(x[0], y[0], np.array([0]))\n"
      ],
      "execution_count": 164,
      "outputs": [
        {
          "output_type": "display_data",
          "data": {
            "image/png": "[encoded data removed]",
            "text/plain": [
              "<Figure size 864x432 with 1 Axes>"
            ]
          },
          "metadata": {
            "tags": []
          }
        }
      ]
    },
    {
      "cell_type": "code",
      "metadata": {
        "id": "d1ESjdbYlngk",
        "colab_type": "code",
        "colab": {
          "base_uri": "https://localhost:8080/",
          "height": 34
        },
        "outputId": "fb467329-f17a-423d-a329-e4d3ff7506dd"
      },
      "source": [
        "X_train_multi.shape[-2:]"
      ],
      "execution_count": 165,
      "outputs": [
        {
          "output_type": "execute_result",
          "data": {
            "text/plain": [
              "(20, 19)"
            ]
          },
          "metadata": {
            "tags": []
          },
          "execution_count": 165
        }
      ]
    },
    {
      "cell_type": "code",
      "metadata": {
        "id": "YWI7uInBfoXo",
        "colab_type": "code",
        "colab": {}
      },
      "source": [
        "def build_lstm_model():\n",
        "  multi_step_model = tf.keras.models.Sequential()\n",
        "  multi_step_model.add(tf.keras.layers.LSTM(32,\n",
        "                                          return_sequences=True,\n",
        "                                          input_shape=X_train_multi.shape[-2:]))\n",
        "  multi_step_model.add(tf.keras.layers.LSTM(16, activation='relu'))\n",
        "  multi_step_model.add(tf.keras.layers.Dense(future_target))\n",
        "  multi_step_model.compile(optimizer=tf.keras.optimizers.RMSprop(clipvalue=1.0), loss='mae')\n",
        "  return multi_step_model\n",
        "\n",
        "multi_step_model=build_lstm_model()"
      ],
      "execution_count": 0,
      "outputs": []
    },
    {
      "cell_type": "code",
      "metadata": {
        "id": "gACuSWEViQL8",
        "colab_type": "code",
        "outputId": "bc36c54a-43cc-4f80-9a07-4e99ef126b1a",
        "colab": {
          "base_uri": "https://localhost:8080/",
          "height": 34
        }
      },
      "source": [
        "for x, y in val_data_multi.take(1):\n",
        "  print (multi_step_model.predict(x).shape)"
      ],
      "execution_count": 167,
      "outputs": [
        {
          "output_type": "stream",
          "text": [
            "(32, 120)\n"
          ],
          "name": "stdout"
        }
      ]
    },
    {
      "cell_type": "code",
      "metadata": {
        "id": "Rm84XsN0hy-6",
        "colab_type": "code",
        "outputId": "11ab2250-1ba9-4a6a-bfce-754dfcd3af08",
        "colab": {
          "base_uri": "https://localhost:8080/",
          "height": 1000
        }
      },
      "source": [
        "EVALUATION_INTERVAL = 200\n",
        "EPOCHS = 50\n",
        "\n",
        "multi_step_history = multi_step_model.fit(train_data_multi, epochs=EPOCHS,\n",
        "                                          steps_per_epoch=EVALUATION_INTERVAL,\n",
        "                                          validation_data=val_data_multi,\n",
        "                                          validation_steps=50)"
      ],
      "execution_count": 172,
      "outputs": [
        {
          "output_type": "stream",
          "text": [
            "Train for 200 steps, validate for 50 steps\n",
            "Epoch 1/50\n",
            "200/200 [==============================] - 5s 23ms/step - loss: 6.1456 - val_loss: 7.9683\n",
            "Epoch 2/50\n",
            "200/200 [==============================] - 5s 23ms/step - loss: 5.9160 - val_loss: 7.0219\n",
            "Epoch 3/50\n",
            "200/200 [==============================] - 5s 23ms/step - loss: 5.8245 - val_loss: 7.1320\n",
            "Epoch 4/50\n",
            "200/200 [==============================] - 5s 23ms/step - loss: 5.9203 - val_loss: 6.9446\n",
            "Epoch 5/50\n",
            "200/200 [==============================] - 5s 23ms/step - loss: 5.9376 - val_loss: 6.6248\n",
            "Epoch 6/50\n",
            "200/200 [==============================] - 5s 23ms/step - loss: 5.6830 - val_loss: 6.0793\n",
            "Epoch 7/50\n",
            "200/200 [==============================] - 5s 23ms/step - loss: 5.3765 - val_loss: 5.8901\n",
            "Epoch 8/50\n",
            "200/200 [==============================] - 5s 23ms/step - loss: 5.1652 - val_loss: 5.7123\n",
            "Epoch 9/50\n",
            "200/200 [==============================] - 5s 23ms/step - loss: 5.0112 - val_loss: 5.7117\n",
            "Epoch 10/50\n",
            "200/200 [==============================] - 5s 23ms/step - loss: 5.0053 - val_loss: 5.3249\n",
            "Epoch 11/50\n",
            "200/200 [==============================] - 5s 23ms/step - loss: 4.8269 - val_loss: 5.3051\n",
            "Epoch 12/50\n",
            "200/200 [==============================] - 5s 23ms/step - loss: 4.7614 - val_loss: 5.3734\n",
            "Epoch 13/50\n",
            "200/200 [==============================] - 4s 22ms/step - loss: 4.8655 - val_loss: 5.8225\n",
            "Epoch 14/50\n",
            "200/200 [==============================] - 5s 23ms/step - loss: 4.8752 - val_loss: 5.1676\n",
            "Epoch 15/50\n",
            "200/200 [==============================] - 5s 23ms/step - loss: 4.7749 - val_loss: 5.0398\n",
            "Epoch 16/50\n",
            "200/200 [==============================] - 5s 23ms/step - loss: 4.6536 - val_loss: 5.1921\n",
            "Epoch 17/50\n",
            "200/200 [==============================] - 5s 23ms/step - loss: 4.5570 - val_loss: 5.0004\n",
            "Epoch 18/50\n",
            "200/200 [==============================] - 5s 23ms/step - loss: 4.5487 - val_loss: 5.1846\n",
            "Epoch 19/50\n",
            "200/200 [==============================] - 5s 23ms/step - loss: 4.5529 - val_loss: 4.8715\n",
            "Epoch 20/50\n",
            "200/200 [==============================] - 5s 23ms/step - loss: 4.4035 - val_loss: 5.3885\n",
            "Epoch 21/50\n",
            "200/200 [==============================] - 5s 23ms/step - loss: 4.3378 - val_loss: 5.6699\n",
            "Epoch 22/50\n",
            "200/200 [==============================] - 5s 23ms/step - loss: 4.3980 - val_loss: 5.2438\n",
            "Epoch 23/50\n",
            "200/200 [==============================] - 5s 23ms/step - loss: 4.3796 - val_loss: 4.5704\n",
            "Epoch 24/50\n",
            "200/200 [==============================] - 5s 23ms/step - loss: 4.3044 - val_loss: 4.5992\n",
            "Epoch 25/50\n",
            "200/200 [==============================] - 4s 22ms/step - loss: 4.2176 - val_loss: 4.9460\n",
            "Epoch 26/50\n",
            "200/200 [==============================] - 5s 23ms/step - loss: 4.1436 - val_loss: 5.0249\n",
            "Epoch 27/50\n",
            "200/200 [==============================] - 5s 23ms/step - loss: 4.1449 - val_loss: 4.5642\n",
            "Epoch 28/50\n",
            "200/200 [==============================] - 4s 22ms/step - loss: 4.1723 - val_loss: 4.7217\n",
            "Epoch 29/50\n",
            "200/200 [==============================] - 5s 23ms/step - loss: 4.0506 - val_loss: 4.8769\n",
            "Epoch 30/50\n",
            "200/200 [==============================] - 4s 22ms/step - loss: 3.9938 - val_loss: 4.6155\n",
            "Epoch 31/50\n",
            "200/200 [==============================] - 5s 23ms/step - loss: 4.1096 - val_loss: 4.5708\n",
            "Epoch 32/50\n",
            "200/200 [==============================] - 4s 22ms/step - loss: 4.1061 - val_loss: 4.7355\n",
            "Epoch 33/50\n",
            "200/200 [==============================] - 4s 22ms/step - loss: 4.0130 - val_loss: 4.6631\n",
            "Epoch 34/50\n",
            "200/200 [==============================] - 4s 22ms/step - loss: 3.9602 - val_loss: 4.5774\n",
            "Epoch 35/50\n",
            "200/200 [==============================] - 4s 22ms/step - loss: 3.9322 - val_loss: 4.4257\n",
            "Epoch 36/50\n",
            "200/200 [==============================] - 5s 23ms/step - loss: 3.8945 - val_loss: 4.3673\n",
            "Epoch 37/50\n",
            "200/200 [==============================] - 5s 23ms/step - loss: 3.9306 - val_loss: 4.6174\n",
            "Epoch 38/50\n",
            "200/200 [==============================] - 5s 23ms/step - loss: 3.8447 - val_loss: 5.0307\n",
            "Epoch 39/50\n",
            "200/200 [==============================] - 4s 22ms/step - loss: 3.7597 - val_loss: 4.4216\n",
            "Epoch 40/50\n",
            "200/200 [==============================] - 4s 22ms/step - loss: 3.8642 - val_loss: 4.2655\n",
            "Epoch 41/50\n",
            "200/200 [==============================] - 5s 23ms/step - loss: 3.8954 - val_loss: 4.2337\n",
            "Epoch 42/50\n",
            "200/200 [==============================] - 5s 23ms/step - loss: 3.8095 - val_loss: 4.2216\n",
            "Epoch 43/50\n",
            "200/200 [==============================] - 5s 23ms/step - loss: 3.7982 - val_loss: 4.3059\n",
            "Epoch 44/50\n",
            "200/200 [==============================] - 5s 23ms/step - loss: 3.7246 - val_loss: 4.3031\n",
            "Epoch 45/50\n",
            "200/200 [==============================] - 5s 23ms/step - loss: 3.7241 - val_loss: 4.4438\n",
            "Epoch 46/50\n",
            "200/200 [==============================] - 4s 22ms/step - loss: 3.7743 - val_loss: 4.7496\n",
            "Epoch 47/50\n",
            "200/200 [==============================] - 5s 23ms/step - loss: 3.6622 - val_loss: 4.2691\n",
            "Epoch 48/50\n",
            "200/200 [==============================] - 4s 22ms/step - loss: 3.6400 - val_loss: 4.3020\n",
            "Epoch 49/50\n",
            "200/200 [==============================] - 5s 23ms/step - loss: 3.6987 - val_loss: 4.1499\n",
            "Epoch 50/50\n",
            "200/200 [==============================] - 5s 23ms/step - loss: 3.7332 - val_loss: 4.1906\n"
          ],
          "name": "stdout"
        }
      ]
    },
    {
      "cell_type": "code",
      "metadata": {
        "id": "nBr2i891d36E",
        "colab_type": "code",
        "colab": {}
      },
      "source": [
        "def plot_train_history(history, title):\n",
        "  loss = history.history['loss']\n",
        "  val_loss = history.history['val_loss']\n",
        "\n",
        "  epochs = range(len(loss))\n",
        "\n",
        "  plt.figure()\n",
        "\n",
        "  plt.plot(epochs, loss, 'b', label='Training loss')\n",
        "  plt.plot(epochs, val_loss, 'r', label='Validation loss')\n",
        "  plt.title(title)\n",
        "  plt.legend()\n",
        "\n",
        "  plt.show()"
      ],
      "execution_count": 0,
      "outputs": []
    },
    {
      "cell_type": "code",
      "metadata": {
        "id": "4p3FEsqxkm63",
        "colab_type": "code",
        "colab": {
          "base_uri": "https://localhost:8080/",
          "height": 281
        },
        "outputId": "59a1d55e-ac23-472a-a20b-fe67205756f5"
      },
      "source": [
        "plot_train_history(multi_step_history, 'Multi-Step Training and validation loss')"
      ],
      "execution_count": 174,
      "outputs": [
        {
          "output_type": "display_data",
          "data": {
            "image/png": "[encoded data removed]",
            "text/plain": [
              "<Figure size 432x288 with 1 Axes>"
            ]
          },
          "metadata": {
            "tags": []
          }
        }
      ]
    },
    {
      "cell_type": "code",
      "metadata": {
        "id": "CF_JOGIpiNIg",
        "colab_type": "code",
        "colab": {
          "base_uri": "https://localhost:8080/",
          "height": 1000
        },
        "outputId": "27e5460d-2e5e-43a6-a447-30f33fa8c08a"
      },
      "source": [
        "for x, y in val_data_multi.take(3):\n",
        "  multi_step_plot(x[0], y[0], multi_step_model.predict(x)[0])"
      ],
      "execution_count": 175,
      "outputs": [
        {
          "output_type": "display_data",
          "data": {
            "image/png": "[encoded data removed]",
            "text/plain": [
              "<Figure size 864x432 with 1 Axes>"
            ]
          },
          "metadata": {
            "tags": []
          }
        },
        {
          "output_type": "display_data",
          "data": {
            "image/png": "[encoded data removed]",
            "text/plain": [
              "<Figure size 864x432 with 1 Axes>"
            ]
          },
          "metadata": {
            "tags": []
          }
        },
        {
          "output_type": "display_data",
          "data": {
            "image/png": "[encoded data removed]",
            "text/plain": [
              "<Figure size 864x432 with 1 Axes>"
            ]
          },
          "metadata": {
            "tags": []
          }
        }
      ]
    },
    {
      "cell_type": "code",
      "metadata": {
        "id": "cAEnWR3qkwHW",
        "colab_type": "code",
        "colab": {}
      },
      "source": [
        ""
      ],
      "execution_count": 0,
      "outputs": []
    }
  ]
}